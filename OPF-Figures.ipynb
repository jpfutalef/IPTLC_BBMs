{
 "cells": [
  {
   "cell_type": "markdown",
   "source": [
    "# Some predictions and plots"
   ],
   "metadata": {
    "collapsed": false
   }
  },
  {
   "cell_type": "code",
   "execution_count": 8,
   "outputs": [
    {
     "name": "stdout",
     "output_type": "stream",
     "text": [
      "Working directory: D:\\projects\\IPTLC_BBMs\n"
     ]
    },
    {
     "data": {
      "text/plain": "<module 'src.models.OPF' from 'D:\\\\projects\\\\IPTLC_BBMs\\\\src\\\\models\\\\OPF.py'>"
     },
     "execution_count": 8,
     "metadata": {},
     "output_type": "execute_result"
    }
   ],
   "source": [
    "import os\n",
    "from pathlib import Path\n",
    "import numpy as np\n",
    "import pandas as pd\n",
    "import matplotlib.pyplot as plt\n",
    "import torch\n",
    "import sys\n",
    "from importlib import reload\n",
    "\n",
    "# Set the working directory\n",
    "os.chdir(\"D:/projects/IPTLC_BBMs/\")\n",
    "print(f\"Working directory: {os.getcwd()}\")\n",
    "\n",
    "# Import local modules\n",
    "import src.creator as creator\n",
    "import src.models.OPF as opf_models\n",
    "\n",
    "reload(creator)\n",
    "reload(opf_models)"
   ],
   "metadata": {
    "collapsed": false,
    "ExecuteTime": {
     "end_time": "2024-02-07T11:52:29.694385Z",
     "start_time": "2024-02-07T11:52:29.680508Z"
    }
   }
  },
  {
   "cell_type": "code",
   "execution_count": 9,
   "outputs": [
    {
     "name": "stdout",
     "output_type": "stream",
     "text": [
      "cuda:0\n"
     ]
    }
   ],
   "source": [
    "# Check GPU availability\n",
    "device = creator.get_device()\n",
    "print(device)"
   ],
   "metadata": {
    "collapsed": false,
    "ExecuteTime": {
     "end_time": "2024-02-07T11:52:30.656378600Z",
     "start_time": "2024-02-07T11:52:30.638733200Z"
    }
   }
  },
  {
   "cell_type": "code",
   "execution_count": 10,
   "outputs": [],
   "source": [
    "# Specify the paths\n",
    "datasets_folder = Path(\"data/OPF/2023-12-06_18-00-46\")\n",
    "\n",
    "# Let's open single simulation\n",
    "single_input_normalized = np.load(datasets_folder / Path(\"OPF-NI1-O3/single_input.npy\"))\n",
    "single_input_raw = np.load(datasets_folder / Path(\"OPF-I1-O3/single_input.npy\"))\n",
    "single_output = np.load(datasets_folder / Path(\"OPF-I1-O3/single_output.npy\"))\n",
    "\n",
    "# Convert to torch tensors\n",
    "single_input_normalized = torch.from_numpy(single_input_normalized).float().to(device)\n",
    "single_input_raw = torch.from_numpy(single_input_raw).float().to(device)\n",
    "single_output = torch.from_numpy(single_output).float().to(device)"
   ],
   "metadata": {
    "collapsed": false,
    "ExecuteTime": {
     "end_time": "2024-02-07T11:52:33.729141Z",
     "start_time": "2024-02-07T11:52:33.700247300Z"
    }
   }
  },
  {
   "cell_type": "code",
   "execution_count": 11,
   "outputs": [
    {
     "name": "stdout",
     "output_type": "stream",
     "text": [
      "Input size: 53\n",
      "Output size: 9\n"
     ]
    }
   ],
   "source": [
    "# Size of the input and output\n",
    "input_size = single_input_normalized.shape[1]\n",
    "output_size = single_output.shape[1]\n",
    "\n",
    "print(f\"Input size: {input_size}\")\n",
    "print(f\"Output size: {output_size}\")"
   ],
   "metadata": {
    "collapsed": false,
    "ExecuteTime": {
     "end_time": "2024-02-07T11:52:34.753078100Z",
     "start_time": "2024-02-07T11:52:34.729528200Z"
    }
   }
  },
  {
   "cell_type": "code",
   "execution_count": 12,
   "outputs": [],
   "source": [
    "# Load the single example dataframes to extract the input/output names from the columns\n",
    "input_df = pd.read_csv(datasets_folder / Path(\"OPF-I1-O3/single_input.csv\"), index_col=0)\n",
    "output_df = pd.read_csv(datasets_folder / Path(\"OPF-I1-O3/single_output.csv\"), index_col=0)\n",
    "\n",
    "# Get the names of the inputs and outputs\n",
    "input_names = input_df.columns.values.tolist()\n",
    "output_names = output_df.columns.values.tolist()"
   ],
   "metadata": {
    "collapsed": false,
    "ExecuteTime": {
     "end_time": "2024-02-07T11:52:35.550113Z",
     "start_time": "2024-02-07T11:52:35.522405800Z"
    }
   }
  },
  {
   "cell_type": "code",
   "execution_count": 14,
   "outputs": [
    {
     "data": {
      "text/plain": "BBM1_SimpleNet(\n  (fc1): Linear(in_features=53, out_features=500, bias=True)\n  (fc2): Linear(in_features=500, out_features=9, bias=True)\n  (dropout): Dropout(p=0.15, inplace=False)\n)"
     },
     "execution_count": 14,
     "metadata": {},
     "output_type": "execute_result"
    }
   ],
   "source": [
    "# Load the models trained with the normalized dataset\n",
    "OPF_BBM_1_normalized = opf_models.Net(input_size, output_size)\n",
    "OPF_BBM_1_normalized.load_state_dict(torch.load(\"models/BBM1-2layers_OPF-NI1-O3_20240201-110613.pt\"))\n",
    "OPF_BBM_1_normalized.to(device)\n",
    "OPF_BBM_1_normalized.eval()\n",
    "\n",
    "OPF_BBM_2_normalized = opf_models.DeepNN(input_size, output_size)\n",
    "OPF_BBM_2_normalized.load_state_dict(torch.load(\"models/BBM2-deep_OPF-NI1-O3_20240201-112030_best.pt\"))\n",
    "OPF_BBM_2_normalized.to(device)\n",
    "OPF_BBM_2_normalized.eval()\n",
    "\n",
    "# Load the models trained with the raw dataset\n",
    "OPF_BBM_1_raw = opf_models.Net(input_size, output_size)\n",
    "OPF_BBM_1_raw.load_state_dict(torch.load(\"models/BBM1-2layers_OPF-I1-O3_20240201-111317.pt\"))\n",
    "OPF_BBM_1_raw.to(device)\n",
    "OPF_BBM_1_raw.eval()\n"
   ],
   "metadata": {
    "collapsed": false,
    "ExecuteTime": {
     "end_time": "2024-02-07T11:53:02.586469800Z",
     "start_time": "2024-02-07T11:53:02.528087300Z"
    }
   }
  },
  {
   "cell_type": "code",
   "execution_count": 25,
   "outputs": [
    {
     "data": {
      "text/plain": "-0.16389999999999993"
     },
     "execution_count": 25,
     "metadata": {},
     "output_type": "execute_result"
    }
   ],
   "source": [
    "## Predictions using BBM1 with raw and normalized data\n",
    "# Predictions using the normalized dataset and BBM1\n",
    "prediction_normalized_1 = OPF_BBM_1_normalized(single_input_normalized)\n",
    "\n",
    "# Predictions using the raw dataset and BBM1\n",
    "prediction_raw_1 = OPF_BBM_1_raw(single_input_raw)\n",
    "# Plot the predictions versus the ground truth\n",
    "# Obtain the size of the output. THen, create an equal number of subplots and plot predictions versus ground truth in each subplot\n",
    "print(f\"Output size: {output_size}\")\n",
    "\n",
    "# Calculate a nice number of rows and columns for the subplots\n",
    "figsize = (20, 10)\n",
    "rows = int(np.sqrt(output_size))\n",
    "cols = int(np.ceil(output_size / rows))\n",
    "\n",
    "# Create the figure\n",
    "fig, axs = plt.subplots(rows, cols, figsize=figsize, constrained_layout=True)\n",
    "\n",
    "try:\n",
    "    y_limits\n",
    "except NameError:\n",
    "    y_limits = None\n",
    "\n",
    "# Plot the predictions versus the ground truth\n",
    "for i in range(rows * cols):\n",
    "    # Delete the axis if there is no data to plot\n",
    "    if i >= output_size:\n",
    "        axs[i // cols, i % cols].axis(\"off\")\n",
    "        continue\n",
    "\n",
    "    # Calculate the row and column of the subplot\n",
    "    row = i // cols\n",
    "    col = i % cols\n",
    "\n",
    "    # Plot the prediction versus the ground truth\n",
    "    axs[row, col].plot(single_output[:, i].cpu().detach().numpy(), label=\"Ground truth\", color=\"black\")\n",
    "    axs[row, col].plot(prediction_raw_1[:, i].cpu().detach().numpy(), label=\"Prediction (raw input)\", color=\"black\",\n",
    "                       linestyle=\"--\")\n",
    "    axs[row, col].plot(prediction_normalized_1[:, i].cpu().detach().numpy(), label=\"Prediction (normalized input)\",\n",
    "                       color=\"black\", linestyle=\":\")\n",
    "    axs[row, col].set_title(output_names[i])\n",
    "\n",
    "    # Set the x limit\n",
    "    axs[row, col].set_xlim([0, 96])\n",
    "\n",
    "    # Set the y limit\n",
    "    if y_limits is not None:\n",
    "        # get the current y limits\n",
    "        this_y_bot, this_y_up = axs[row, col].get_ylim()\n",
    "        gen_y_bot, gen_y_up = y_limits[i]\n",
    "\n",
    "        # check both limits: if bottom limit is lower than the current one, update it and viceversa\n",
    "        if this_y_bot < gen_y_bot:\n",
    "            y_limits[i][0] = this_y_bot\n",
    "        if this_y_up > gen_y_up:\n",
    "            y_limits[i][1] = this_y_up\n",
    "\n",
    "        # set the limits\n",
    "        axs[row, col].set_ylim(y_limits[i])\n",
    "\n",
    "# Add a legend at the top\n",
    "_ = fig.legend([\"Ground truth\", \"Prediction (raw input)\", \"Prediction (normalized input)\"], loc=\"upper center\", ncol=3,bbox_to_anchor=(0.5, 1.05))"
   ],
   "metadata": {
    "collapsed": false,
    "ExecuteTime": {
     "end_time": "2024-02-07T12:09:00.371038800Z",
     "start_time": "2024-02-07T12:09:00.289620300Z"
    }
   }
  },
  {
   "cell_type": "code",
   "execution_count": 27,
   "outputs": [
    {
     "name": "stdout",
     "output_type": "stream",
     "text": [
      "301 µs ± 87.6 µs per loop (mean ± std. dev. of 7 runs, 1,000 loops each)\n"
     ]
    }
   ],
   "source": [
    "# Predictions using the normalized dataset and BBM1\n",
    "prediction_normalized_2 = OPF_BBM_2_normalized(single_input_normalized)"
   ],
   "metadata": {
    "collapsed": false,
    "ExecuteTime": {
     "end_time": "2024-02-07T12:39:47.086454700Z",
     "start_time": "2024-02-07T12:39:44.705825700Z"
    }
   }
  },
  {
   "cell_type": "code",
   "execution_count": 28,
   "outputs": [
    {
     "data": {
      "text/plain": "1.2499999999999999e-05"
     },
     "execution_count": 28,
     "metadata": {},
     "output_type": "execute_result"
    }
   ],
   "source": [
    "# Plot the predictions versus the ground truth\n",
    "# Obtain the size of the output. THen, create an equal number of subplots and plot predictions versus ground truth in each subplot\n",
    "output_size = single_output.shape[1]\n",
    "print(f\"Output size: {output_size}\")\n",
    "\n",
    "# Calculate a nice number of rows and columns for the subplots\n",
    "figsize = (20, 10)\n",
    "rows = int(np.sqrt(output_size))\n",
    "cols = int(np.ceil(output_size / rows))\n",
    "\n",
    "# Create the figure\n",
    "fig, axs = plt.subplots(rows, cols, figsize=figsize, constrained_layout=True)\n",
    "\n",
    "# Plot the predictions versus the ground truth\n",
    "for i in range(rows * cols):\n",
    "    # Delete the axis if there is no data to plot\n",
    "    if i >= output_size:\n",
    "        axs[i // cols, i % cols].axis(\"off\")\n",
    "        continue\n",
    "\n",
    "    # Calculate the row and column of the subplot\n",
    "    row = i // cols\n",
    "    col = i % cols\n",
    "\n",
    "    # Plot the prediction versus the ground truth\n",
    "    axs[row, col].plot(single_output[:, i].cpu().detach().numpy(), label=\"Ground truth\", color=\"black\")\n",
    "    axs[row, col].plot(prediction_normalized_1[:, i].cpu().detach().numpy(), label=\"Prediction (BBM1)\", color=\"black\", linestyle=\":\")\n",
    "    axs[row, col].plot(prediction_normalized_2[:, i].cpu().detach().numpy(), label=\"Prediction (BBM2)\", color=\"red\", linestyle=\"-.\")\n",
    "    axs[row, col].set_title(output_names[i])\n",
    "\n",
    "    # Set the x limit\n",
    "    axs[row, col].set_xlim([0, 96])\n",
    "\n",
    "    # Set the y limit\n",
    "    if y_limits is not None:\n",
    "        # get the current y limits\n",
    "        this_y_bot, this_y_up = axs[row, col].get_ylim()\n",
    "        gen_y_bot, gen_y_up = y_limits[i]\n",
    "\n",
    "        # check both limits: if bottom limit is lower than the current one, update it and viceversa\n",
    "        if this_y_bot < gen_y_bot:\n",
    "            y_limits[i][0] = this_y_bot\n",
    "        if this_y_up > gen_y_up:\n",
    "            y_limits[i][1] = this_y_up\n",
    "\n",
    "        # set the limits\n",
    "        axs[row, col].set_ylim(y_limits[i])\n",
    "\n",
    "# Add a legend at the top\n",
    "_ = fig.legend([\"Ground truth\", \"Prediction (BBM1)\", \"Prediction (BBM2)\"], loc=\"upper center\", ncol=3, bbox_to_anchor=(0.5, 1.05))"
   ],
   "metadata": {
    "collapsed": false,
    "ExecuteTime": {
     "end_time": "2024-02-07T12:40:03.990326Z",
     "start_time": "2024-02-07T12:40:03.949013600Z"
    }
   }
  },
  {
   "cell_type": "code",
   "execution_count": null,
   "outputs": [],
   "source": [],
   "metadata": {
    "collapsed": false
   }
  }
 ],
 "metadata": {
  "kernelspec": {
   "display_name": "Python 3",
   "language": "python",
   "name": "python3"
  },
  "language_info": {
   "codemirror_mode": {
    "name": "ipython",
    "version": 2
   },
   "file_extension": ".py",
   "mimetype": "text/x-python",
   "name": "python",
   "nbconvert_exporter": "python",
   "pygments_lexer": "ipython2",
   "version": "2.7.6"
  }
 },
 "nbformat": 4,
 "nbformat_minor": 0
}
