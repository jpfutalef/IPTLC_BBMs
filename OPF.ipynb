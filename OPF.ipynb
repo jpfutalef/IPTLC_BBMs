{
 "cells": [
  {
   "cell_type": "markdown",
   "source": [
    "# Optimal Power Flow IO response analysis and Black Box modelling\n",
    "\n",
    "In this notebook, we analyze the response of the OPF, aiming at creating a BBM of it using the scenarios generated using RESTART.\n"
   ],
   "metadata": {
    "collapsed": false
   }
  },
  {
   "cell_type": "code",
   "execution_count": 1,
   "outputs": [],
   "source": [
    "# Importing libraries\n",
    "import numpy as np\n",
    "import pandas as pd\n",
    "import matplotlib.pyplot as plt\n",
    "import seaborn as sns\n",
    "import os\n",
    "import sys\n",
    "import dill as pickle\n",
    "from pathlib import Path"
   ],
   "metadata": {
    "collapsed": false,
    "ExecuteTime": {
     "end_time": "2024-01-12T15:57:50.343384Z",
     "start_time": "2024-01-12T15:57:50.272576800Z"
    }
   }
  },
  {
   "cell_type": "code",
   "execution_count": 2,
   "outputs": [
    {
     "name": "stdout",
     "output_type": "stream",
     "text": [
      "Current working directory: D:\\projects\\IPTLC_BBMs\n"
     ]
    }
   ],
   "source": [
    "# Show current working directory\n",
    "print(f\"Current working directory: {os.getcwd()}\")"
   ],
   "metadata": {
    "collapsed": false,
    "ExecuteTime": {
     "end_time": "2024-01-12T15:57:50.344390800Z",
     "start_time": "2024-01-12T15:57:50.313595700Z"
    }
   }
  },
  {
   "cell_type": "markdown",
   "source": [
    "## First, let's do an example of a single simulation of the OPF response"
   ],
   "metadata": {
    "collapsed": false
   }
  },
  {
   "cell_type": "code",
   "execution_count": 3,
   "outputs": [],
   "source": [
    "# Data folder path\n",
    "data_folder = Path(\"../CPS_GBM_IPTLC/data/ScenarioGeneration/PowerGrid/MonteCarlo/2023-12-06_18-00-46\")\n",
    "\n",
    "# Target simulation folder\n",
    "target_folder = data_folder / \"0\"\n",
    "\n",
    "# Specify the path to save processed data and create the folder if it doesn't exist\n",
    "processed_data_folder = Path(\"data/OPF/IO_response\")\n",
    "os.makedirs(processed_data_folder, exist_ok=True)"
   ],
   "metadata": {
    "collapsed": false,
    "ExecuteTime": {
     "end_time": "2024-01-12T15:57:50.344390800Z",
     "start_time": "2024-01-12T15:57:50.329424300Z"
    }
   }
  },
  {
   "cell_type": "code",
   "execution_count": 4,
   "outputs": [],
   "source": [
    "# Open the dataframes\n",
    "sim_u_df = pd.read_csv(target_folder / \"external_stimuli.csv\", index_col=0)\n",
    "sim_x_df = pd.read_csv(target_folder / \"state.csv\", index_col=0)\n",
    "sim_theta_df = pd.read_csv(target_folder / \"condition.csv\", index_col=0)"
   ],
   "metadata": {
    "collapsed": false,
    "ExecuteTime": {
     "end_time": "2024-01-12T15:57:50.431048900Z",
     "start_time": "2024-01-12T15:57:50.344390800Z"
    }
   }
  },
  {
   "cell_type": "code",
   "execution_count": 5,
   "outputs": [
    {
     "data": {
      "text/plain": "       Pd       Pd.1       Pd.2       Pd.3      Pd.4      Pd.5  Pd.6  Pd.7  \\\n0     0.0  14.556323  47.123383  22.191755  4.712971  7.289077   0.0   0.0   \n900   0.0  13.968725  50.224851  27.714751  4.644591  4.736703   0.0   0.0   \n1800  0.0  13.032938  48.497201  33.992821  3.780178  6.144648   0.0   0.0   \n2700  0.0  12.927204  45.545196  27.585807  3.925114  5.252617   0.0   0.0   \n3600  0.0  10.890928  39.297153  29.272179  4.345949  6.919566   0.0   0.0   \n\n           Pd.8      Pd.9  ...      Qd.4      Qd.5  Qd.6  Qd.7       Qd.8  \\\n0     13.082205  5.084837  ...  1.048428  5.155498   0.0   0.0   7.717014   \n900   12.766659  5.637937  ...  0.763172  4.426070   0.0   0.0   9.722176   \n1800  18.406073  6.028764  ...  0.826703  3.176092   0.0   0.0   9.095054   \n2700  14.012997  4.497281  ...  0.724904  3.481796   0.0   0.0  10.261761   \n3600  14.927784  3.922806  ...  0.851476  3.926387   0.0   0.0   9.306241   \n\n          Qd.9     Qd.10     Qd.11     Qd.12     Qd.13  \n0     3.033411  0.721996  0.950130  2.958551  3.101872  \n900   3.268228  1.054579  0.937279  2.911330  3.048261  \n1800  2.930612  1.026258  0.813046  3.528570  2.154418  \n2700  3.396639  0.865064  1.165194  2.178819  3.004248  \n3600  3.066271  0.967078  1.034497  3.136463  2.433796  \n\n[5 rows x 28 columns]",
      "text/html": "<div>\n<style scoped>\n    .dataframe tbody tr th:only-of-type {\n        vertical-align: middle;\n    }\n\n    .dataframe tbody tr th {\n        vertical-align: top;\n    }\n\n    .dataframe thead th {\n        text-align: right;\n    }\n</style>\n<table border=\"1\" class=\"dataframe\">\n  <thead>\n    <tr style=\"text-align: right;\">\n      <th></th>\n      <th>Pd</th>\n      <th>Pd.1</th>\n      <th>Pd.2</th>\n      <th>Pd.3</th>\n      <th>Pd.4</th>\n      <th>Pd.5</th>\n      <th>Pd.6</th>\n      <th>Pd.7</th>\n      <th>Pd.8</th>\n      <th>Pd.9</th>\n      <th>...</th>\n      <th>Qd.4</th>\n      <th>Qd.5</th>\n      <th>Qd.6</th>\n      <th>Qd.7</th>\n      <th>Qd.8</th>\n      <th>Qd.9</th>\n      <th>Qd.10</th>\n      <th>Qd.11</th>\n      <th>Qd.12</th>\n      <th>Qd.13</th>\n    </tr>\n  </thead>\n  <tbody>\n    <tr>\n      <th>0</th>\n      <td>0.0</td>\n      <td>14.556323</td>\n      <td>47.123383</td>\n      <td>22.191755</td>\n      <td>4.712971</td>\n      <td>7.289077</td>\n      <td>0.0</td>\n      <td>0.0</td>\n      <td>13.082205</td>\n      <td>5.084837</td>\n      <td>...</td>\n      <td>1.048428</td>\n      <td>5.155498</td>\n      <td>0.0</td>\n      <td>0.0</td>\n      <td>7.717014</td>\n      <td>3.033411</td>\n      <td>0.721996</td>\n      <td>0.950130</td>\n      <td>2.958551</td>\n      <td>3.101872</td>\n    </tr>\n    <tr>\n      <th>900</th>\n      <td>0.0</td>\n      <td>13.968725</td>\n      <td>50.224851</td>\n      <td>27.714751</td>\n      <td>4.644591</td>\n      <td>4.736703</td>\n      <td>0.0</td>\n      <td>0.0</td>\n      <td>12.766659</td>\n      <td>5.637937</td>\n      <td>...</td>\n      <td>0.763172</td>\n      <td>4.426070</td>\n      <td>0.0</td>\n      <td>0.0</td>\n      <td>9.722176</td>\n      <td>3.268228</td>\n      <td>1.054579</td>\n      <td>0.937279</td>\n      <td>2.911330</td>\n      <td>3.048261</td>\n    </tr>\n    <tr>\n      <th>1800</th>\n      <td>0.0</td>\n      <td>13.032938</td>\n      <td>48.497201</td>\n      <td>33.992821</td>\n      <td>3.780178</td>\n      <td>6.144648</td>\n      <td>0.0</td>\n      <td>0.0</td>\n      <td>18.406073</td>\n      <td>6.028764</td>\n      <td>...</td>\n      <td>0.826703</td>\n      <td>3.176092</td>\n      <td>0.0</td>\n      <td>0.0</td>\n      <td>9.095054</td>\n      <td>2.930612</td>\n      <td>1.026258</td>\n      <td>0.813046</td>\n      <td>3.528570</td>\n      <td>2.154418</td>\n    </tr>\n    <tr>\n      <th>2700</th>\n      <td>0.0</td>\n      <td>12.927204</td>\n      <td>45.545196</td>\n      <td>27.585807</td>\n      <td>3.925114</td>\n      <td>5.252617</td>\n      <td>0.0</td>\n      <td>0.0</td>\n      <td>14.012997</td>\n      <td>4.497281</td>\n      <td>...</td>\n      <td>0.724904</td>\n      <td>3.481796</td>\n      <td>0.0</td>\n      <td>0.0</td>\n      <td>10.261761</td>\n      <td>3.396639</td>\n      <td>0.865064</td>\n      <td>1.165194</td>\n      <td>2.178819</td>\n      <td>3.004248</td>\n    </tr>\n    <tr>\n      <th>3600</th>\n      <td>0.0</td>\n      <td>10.890928</td>\n      <td>39.297153</td>\n      <td>29.272179</td>\n      <td>4.345949</td>\n      <td>6.919566</td>\n      <td>0.0</td>\n      <td>0.0</td>\n      <td>14.927784</td>\n      <td>3.922806</td>\n      <td>...</td>\n      <td>0.851476</td>\n      <td>3.926387</td>\n      <td>0.0</td>\n      <td>0.0</td>\n      <td>9.306241</td>\n      <td>3.066271</td>\n      <td>0.967078</td>\n      <td>1.034497</td>\n      <td>3.136463</td>\n      <td>2.433796</td>\n    </tr>\n  </tbody>\n</table>\n<p>5 rows × 28 columns</p>\n</div>"
     },
     "execution_count": 5,
     "metadata": {},
     "output_type": "execute_result"
    }
   ],
   "source": [
    "sim_u_df.head()"
   ],
   "metadata": {
    "collapsed": false,
    "ExecuteTime": {
     "end_time": "2024-01-12T15:57:50.441636500Z",
     "start_time": "2024-01-12T15:57:50.394501Z"
    }
   }
  },
  {
   "cell_type": "code",
   "execution_count": 6,
   "outputs": [
    {
     "data": {
      "text/plain": "       Pd       Pd.1       Pd.2       Pd.3      Pd.4      Pd.5  Pd.6  Pd.7  \\\n0     0.0  14.556323  47.123383  22.191755  4.712971  7.289077   0.0   0.0   \n900   0.0  13.968725  50.224851  27.714751  4.644591  4.736703   0.0   0.0   \n1800  0.0  13.032938  48.497201  33.992821  3.780178  6.144648   0.0   0.0   \n2700  0.0  12.927204  45.545196  27.585807  3.925114  5.252617   0.0   0.0   \n3600  0.0  10.890928  39.297153  29.272179  4.345949  6.919566   0.0   0.0   \n\n           Pd.8      Pd.9  ...  piLoad.4  piLoad.5  piLoad.6  piLoad.7  \\\n0     13.082205  5.084837  ...       1.0       1.0       1.0       1.0   \n900   12.766659  5.637937  ...       1.0       1.0       1.0       1.0   \n1800  18.406073  6.028764  ...       1.0       1.0       1.0       1.0   \n2700  14.012997  4.497281  ...       1.0       1.0       1.0       1.0   \n3600  14.927784  3.922806  ...       1.0       1.0       1.0       1.0   \n\n      piLoad.8  piLoad.9  piLoad.10  piLoad.11  piLoad.12  piLoad.13  \n0          1.0       1.0        1.0        1.0        1.0        1.0  \n900        1.0       1.0        1.0        1.0        1.0        1.0  \n1800       1.0       1.0        1.0        1.0        1.0        1.0  \n2700       1.0       1.0        1.0        1.0        1.0        1.0  \n3600       1.0       1.0        1.0        1.0        1.0        1.0  \n\n[5 rows x 139 columns]",
      "text/html": "<div>\n<style scoped>\n    .dataframe tbody tr th:only-of-type {\n        vertical-align: middle;\n    }\n\n    .dataframe tbody tr th {\n        vertical-align: top;\n    }\n\n    .dataframe thead th {\n        text-align: right;\n    }\n</style>\n<table border=\"1\" class=\"dataframe\">\n  <thead>\n    <tr style=\"text-align: right;\">\n      <th></th>\n      <th>Pd</th>\n      <th>Pd.1</th>\n      <th>Pd.2</th>\n      <th>Pd.3</th>\n      <th>Pd.4</th>\n      <th>Pd.5</th>\n      <th>Pd.6</th>\n      <th>Pd.7</th>\n      <th>Pd.8</th>\n      <th>Pd.9</th>\n      <th>...</th>\n      <th>piLoad.4</th>\n      <th>piLoad.5</th>\n      <th>piLoad.6</th>\n      <th>piLoad.7</th>\n      <th>piLoad.8</th>\n      <th>piLoad.9</th>\n      <th>piLoad.10</th>\n      <th>piLoad.11</th>\n      <th>piLoad.12</th>\n      <th>piLoad.13</th>\n    </tr>\n  </thead>\n  <tbody>\n    <tr>\n      <th>0</th>\n      <td>0.0</td>\n      <td>14.556323</td>\n      <td>47.123383</td>\n      <td>22.191755</td>\n      <td>4.712971</td>\n      <td>7.289077</td>\n      <td>0.0</td>\n      <td>0.0</td>\n      <td>13.082205</td>\n      <td>5.084837</td>\n      <td>...</td>\n      <td>1.0</td>\n      <td>1.0</td>\n      <td>1.0</td>\n      <td>1.0</td>\n      <td>1.0</td>\n      <td>1.0</td>\n      <td>1.0</td>\n      <td>1.0</td>\n      <td>1.0</td>\n      <td>1.0</td>\n    </tr>\n    <tr>\n      <th>900</th>\n      <td>0.0</td>\n      <td>13.968725</td>\n      <td>50.224851</td>\n      <td>27.714751</td>\n      <td>4.644591</td>\n      <td>4.736703</td>\n      <td>0.0</td>\n      <td>0.0</td>\n      <td>12.766659</td>\n      <td>5.637937</td>\n      <td>...</td>\n      <td>1.0</td>\n      <td>1.0</td>\n      <td>1.0</td>\n      <td>1.0</td>\n      <td>1.0</td>\n      <td>1.0</td>\n      <td>1.0</td>\n      <td>1.0</td>\n      <td>1.0</td>\n      <td>1.0</td>\n    </tr>\n    <tr>\n      <th>1800</th>\n      <td>0.0</td>\n      <td>13.032938</td>\n      <td>48.497201</td>\n      <td>33.992821</td>\n      <td>3.780178</td>\n      <td>6.144648</td>\n      <td>0.0</td>\n      <td>0.0</td>\n      <td>18.406073</td>\n      <td>6.028764</td>\n      <td>...</td>\n      <td>1.0</td>\n      <td>1.0</td>\n      <td>1.0</td>\n      <td>1.0</td>\n      <td>1.0</td>\n      <td>1.0</td>\n      <td>1.0</td>\n      <td>1.0</td>\n      <td>1.0</td>\n      <td>1.0</td>\n    </tr>\n    <tr>\n      <th>2700</th>\n      <td>0.0</td>\n      <td>12.927204</td>\n      <td>45.545196</td>\n      <td>27.585807</td>\n      <td>3.925114</td>\n      <td>5.252617</td>\n      <td>0.0</td>\n      <td>0.0</td>\n      <td>14.012997</td>\n      <td>4.497281</td>\n      <td>...</td>\n      <td>1.0</td>\n      <td>1.0</td>\n      <td>1.0</td>\n      <td>1.0</td>\n      <td>1.0</td>\n      <td>1.0</td>\n      <td>1.0</td>\n      <td>1.0</td>\n      <td>1.0</td>\n      <td>1.0</td>\n    </tr>\n    <tr>\n      <th>3600</th>\n      <td>0.0</td>\n      <td>10.890928</td>\n      <td>39.297153</td>\n      <td>29.272179</td>\n      <td>4.345949</td>\n      <td>6.919566</td>\n      <td>0.0</td>\n      <td>0.0</td>\n      <td>14.927784</td>\n      <td>3.922806</td>\n      <td>...</td>\n      <td>1.0</td>\n      <td>1.0</td>\n      <td>1.0</td>\n      <td>1.0</td>\n      <td>1.0</td>\n      <td>1.0</td>\n      <td>1.0</td>\n      <td>1.0</td>\n      <td>1.0</td>\n      <td>1.0</td>\n    </tr>\n  </tbody>\n</table>\n<p>5 rows × 139 columns</p>\n</div>"
     },
     "execution_count": 6,
     "metadata": {},
     "output_type": "execute_result"
    }
   ],
   "source": [
    "sim_x_df.head()"
   ],
   "metadata": {
    "collapsed": false,
    "ExecuteTime": {
     "end_time": "2024-01-12T15:57:50.480916Z",
     "start_time": "2024-01-12T15:57:50.455455300Z"
    }
   }
  },
  {
   "cell_type": "code",
   "execution_count": 7,
   "outputs": [
    {
     "data": {
      "text/plain": "             R       R.1       R.2        R.3        R.4        R.5       R.6  \\\n0     3.532005  9.846967  8.563928  10.590547  10.379138  12.212573  2.433038   \n900   3.532005  9.846967  8.563928  10.590547  10.379138  12.212573  2.433038   \n1800  3.532005  9.846967  8.563928  10.590547  10.379138  12.212573  2.433038   \n2700  3.532005  9.846967  8.563928  10.590547  10.379138  12.212573  2.433038   \n3600  3.532005  9.846967  8.563928  10.590547  10.379138  12.212573  2.433038   \n\n           R.7       R.8       R.9  ...  tEventLine.10  tEventLine.11  \\\n0     0.000041  0.000053  0.000029  ...            0.0            0.0   \n900   0.000041  0.000053  0.000029  ...            0.0            0.0   \n1800  0.000041  0.000053  0.000029  ...            0.0            0.0   \n2700  0.000041  0.000053  0.000029  ...            0.0            0.0   \n3600  0.000041  0.000053  0.000029  ...            0.0            0.0   \n\n      tEventLine.12  tEventLine.13  tEventLine.14  tEventTrafo  tEventTrafo.1  \\\n0               0.0            0.0            0.0          0.0            0.0   \n900             0.0            0.0            0.0          0.0            0.0   \n1800            0.0            0.0            0.0          0.0            0.0   \n2700            0.0            0.0            0.0          0.0            0.0   \n3600            0.0            0.0            0.0          0.0            0.0   \n\n      tEventTrafo.2  tEventTrafo.3  tEventTrafo.4  \n0               0.0            0.0            0.0  \n900             0.0            0.0            0.0  \n1800            0.0            0.0            0.0  \n2700            0.0            0.0            0.0  \n3600            0.0            0.0            0.0  \n\n[5 rows x 158 columns]",
      "text/html": "<div>\n<style scoped>\n    .dataframe tbody tr th:only-of-type {\n        vertical-align: middle;\n    }\n\n    .dataframe tbody tr th {\n        vertical-align: top;\n    }\n\n    .dataframe thead th {\n        text-align: right;\n    }\n</style>\n<table border=\"1\" class=\"dataframe\">\n  <thead>\n    <tr style=\"text-align: right;\">\n      <th></th>\n      <th>R</th>\n      <th>R.1</th>\n      <th>R.2</th>\n      <th>R.3</th>\n      <th>R.4</th>\n      <th>R.5</th>\n      <th>R.6</th>\n      <th>R.7</th>\n      <th>R.8</th>\n      <th>R.9</th>\n      <th>...</th>\n      <th>tEventLine.10</th>\n      <th>tEventLine.11</th>\n      <th>tEventLine.12</th>\n      <th>tEventLine.13</th>\n      <th>tEventLine.14</th>\n      <th>tEventTrafo</th>\n      <th>tEventTrafo.1</th>\n      <th>tEventTrafo.2</th>\n      <th>tEventTrafo.3</th>\n      <th>tEventTrafo.4</th>\n    </tr>\n  </thead>\n  <tbody>\n    <tr>\n      <th>0</th>\n      <td>3.532005</td>\n      <td>9.846967</td>\n      <td>8.563928</td>\n      <td>10.590547</td>\n      <td>10.379138</td>\n      <td>12.212573</td>\n      <td>2.433038</td>\n      <td>0.000041</td>\n      <td>0.000053</td>\n      <td>0.000029</td>\n      <td>...</td>\n      <td>0.0</td>\n      <td>0.0</td>\n      <td>0.0</td>\n      <td>0.0</td>\n      <td>0.0</td>\n      <td>0.0</td>\n      <td>0.0</td>\n      <td>0.0</td>\n      <td>0.0</td>\n      <td>0.0</td>\n    </tr>\n    <tr>\n      <th>900</th>\n      <td>3.532005</td>\n      <td>9.846967</td>\n      <td>8.563928</td>\n      <td>10.590547</td>\n      <td>10.379138</td>\n      <td>12.212573</td>\n      <td>2.433038</td>\n      <td>0.000041</td>\n      <td>0.000053</td>\n      <td>0.000029</td>\n      <td>...</td>\n      <td>0.0</td>\n      <td>0.0</td>\n      <td>0.0</td>\n      <td>0.0</td>\n      <td>0.0</td>\n      <td>0.0</td>\n      <td>0.0</td>\n      <td>0.0</td>\n      <td>0.0</td>\n      <td>0.0</td>\n    </tr>\n    <tr>\n      <th>1800</th>\n      <td>3.532005</td>\n      <td>9.846967</td>\n      <td>8.563928</td>\n      <td>10.590547</td>\n      <td>10.379138</td>\n      <td>12.212573</td>\n      <td>2.433038</td>\n      <td>0.000041</td>\n      <td>0.000053</td>\n      <td>0.000029</td>\n      <td>...</td>\n      <td>0.0</td>\n      <td>0.0</td>\n      <td>0.0</td>\n      <td>0.0</td>\n      <td>0.0</td>\n      <td>0.0</td>\n      <td>0.0</td>\n      <td>0.0</td>\n      <td>0.0</td>\n      <td>0.0</td>\n    </tr>\n    <tr>\n      <th>2700</th>\n      <td>3.532005</td>\n      <td>9.846967</td>\n      <td>8.563928</td>\n      <td>10.590547</td>\n      <td>10.379138</td>\n      <td>12.212573</td>\n      <td>2.433038</td>\n      <td>0.000041</td>\n      <td>0.000053</td>\n      <td>0.000029</td>\n      <td>...</td>\n      <td>0.0</td>\n      <td>0.0</td>\n      <td>0.0</td>\n      <td>0.0</td>\n      <td>0.0</td>\n      <td>0.0</td>\n      <td>0.0</td>\n      <td>0.0</td>\n      <td>0.0</td>\n      <td>0.0</td>\n    </tr>\n    <tr>\n      <th>3600</th>\n      <td>3.532005</td>\n      <td>9.846967</td>\n      <td>8.563928</td>\n      <td>10.590547</td>\n      <td>10.379138</td>\n      <td>12.212573</td>\n      <td>2.433038</td>\n      <td>0.000041</td>\n      <td>0.000053</td>\n      <td>0.000029</td>\n      <td>...</td>\n      <td>0.0</td>\n      <td>0.0</td>\n      <td>0.0</td>\n      <td>0.0</td>\n      <td>0.0</td>\n      <td>0.0</td>\n      <td>0.0</td>\n      <td>0.0</td>\n      <td>0.0</td>\n      <td>0.0</td>\n    </tr>\n  </tbody>\n</table>\n<p>5 rows × 158 columns</p>\n</div>"
     },
     "execution_count": 7,
     "metadata": {},
     "output_type": "execute_result"
    }
   ],
   "source": [
    "sim_theta_df.head()"
   ],
   "metadata": {
    "collapsed": false,
    "ExecuteTime": {
     "end_time": "2024-01-12T15:57:50.592356600Z",
     "start_time": "2024-01-12T15:57:50.484493900Z"
    }
   }
  },
  {
   "cell_type": "markdown",
   "source": [
    "### Input\n",
    "\n",
    "The input is the concatenation of the external stimuli and the discrete part of the condition of the system"
   ],
   "metadata": {
    "collapsed": false
   }
  },
  {
   "cell_type": "code",
   "execution_count": 8,
   "outputs": [
    {
     "data": {
      "text/plain": "      piGen  piGen.1  piGen.2  piGen.3  piGen.4  piLine  piLine.1  piLine.2  \\\n0       1.0      1.0      1.0      1.0      1.0     1.0       1.0       1.0   \n900     1.0      1.0      1.0      1.0      1.0     1.0       1.0       1.0   \n1800    1.0      1.0      1.0      1.0      1.0     1.0       1.0       1.0   \n2700    1.0      1.0      1.0      1.0      1.0     1.0       1.0       1.0   \n3600    1.0      1.0      1.0      1.0      1.0     1.0       1.0       1.0   \n\n      piLine.3  piLine.4  ...  piLoad.4  piLoad.5  piLoad.6  piLoad.7  \\\n0          1.0       1.0  ...       1.0       1.0       1.0       1.0   \n900        1.0       1.0  ...       1.0       1.0       1.0       1.0   \n1800       1.0       1.0  ...       1.0       1.0       1.0       1.0   \n2700       1.0       1.0  ...       1.0       1.0       1.0       1.0   \n3600       1.0       1.0  ...       1.0       1.0       1.0       1.0   \n\n      piLoad.8  piLoad.9  piLoad.10  piLoad.11  piLoad.12  piLoad.13  \n0          1.0       1.0        1.0        1.0        1.0        1.0  \n900        1.0       1.0        1.0        1.0        1.0        1.0  \n1800       1.0       1.0        1.0        1.0        1.0        1.0  \n2700       1.0       1.0        1.0        1.0        1.0        1.0  \n3600       1.0       1.0        1.0        1.0        1.0        1.0  \n\n[5 rows x 53 columns]",
      "text/html": "<div>\n<style scoped>\n    .dataframe tbody tr th:only-of-type {\n        vertical-align: middle;\n    }\n\n    .dataframe tbody tr th {\n        vertical-align: top;\n    }\n\n    .dataframe thead th {\n        text-align: right;\n    }\n</style>\n<table border=\"1\" class=\"dataframe\">\n  <thead>\n    <tr style=\"text-align: right;\">\n      <th></th>\n      <th>piGen</th>\n      <th>piGen.1</th>\n      <th>piGen.2</th>\n      <th>piGen.3</th>\n      <th>piGen.4</th>\n      <th>piLine</th>\n      <th>piLine.1</th>\n      <th>piLine.2</th>\n      <th>piLine.3</th>\n      <th>piLine.4</th>\n      <th>...</th>\n      <th>piLoad.4</th>\n      <th>piLoad.5</th>\n      <th>piLoad.6</th>\n      <th>piLoad.7</th>\n      <th>piLoad.8</th>\n      <th>piLoad.9</th>\n      <th>piLoad.10</th>\n      <th>piLoad.11</th>\n      <th>piLoad.12</th>\n      <th>piLoad.13</th>\n    </tr>\n  </thead>\n  <tbody>\n    <tr>\n      <th>0</th>\n      <td>1.0</td>\n      <td>1.0</td>\n      <td>1.0</td>\n      <td>1.0</td>\n      <td>1.0</td>\n      <td>1.0</td>\n      <td>1.0</td>\n      <td>1.0</td>\n      <td>1.0</td>\n      <td>1.0</td>\n      <td>...</td>\n      <td>1.0</td>\n      <td>1.0</td>\n      <td>1.0</td>\n      <td>1.0</td>\n      <td>1.0</td>\n      <td>1.0</td>\n      <td>1.0</td>\n      <td>1.0</td>\n      <td>1.0</td>\n      <td>1.0</td>\n    </tr>\n    <tr>\n      <th>900</th>\n      <td>1.0</td>\n      <td>1.0</td>\n      <td>1.0</td>\n      <td>1.0</td>\n      <td>1.0</td>\n      <td>1.0</td>\n      <td>1.0</td>\n      <td>1.0</td>\n      <td>1.0</td>\n      <td>1.0</td>\n      <td>...</td>\n      <td>1.0</td>\n      <td>1.0</td>\n      <td>1.0</td>\n      <td>1.0</td>\n      <td>1.0</td>\n      <td>1.0</td>\n      <td>1.0</td>\n      <td>1.0</td>\n      <td>1.0</td>\n      <td>1.0</td>\n    </tr>\n    <tr>\n      <th>1800</th>\n      <td>1.0</td>\n      <td>1.0</td>\n      <td>1.0</td>\n      <td>1.0</td>\n      <td>1.0</td>\n      <td>1.0</td>\n      <td>1.0</td>\n      <td>1.0</td>\n      <td>1.0</td>\n      <td>1.0</td>\n      <td>...</td>\n      <td>1.0</td>\n      <td>1.0</td>\n      <td>1.0</td>\n      <td>1.0</td>\n      <td>1.0</td>\n      <td>1.0</td>\n      <td>1.0</td>\n      <td>1.0</td>\n      <td>1.0</td>\n      <td>1.0</td>\n    </tr>\n    <tr>\n      <th>2700</th>\n      <td>1.0</td>\n      <td>1.0</td>\n      <td>1.0</td>\n      <td>1.0</td>\n      <td>1.0</td>\n      <td>1.0</td>\n      <td>1.0</td>\n      <td>1.0</td>\n      <td>1.0</td>\n      <td>1.0</td>\n      <td>...</td>\n      <td>1.0</td>\n      <td>1.0</td>\n      <td>1.0</td>\n      <td>1.0</td>\n      <td>1.0</td>\n      <td>1.0</td>\n      <td>1.0</td>\n      <td>1.0</td>\n      <td>1.0</td>\n      <td>1.0</td>\n    </tr>\n    <tr>\n      <th>3600</th>\n      <td>1.0</td>\n      <td>1.0</td>\n      <td>1.0</td>\n      <td>1.0</td>\n      <td>1.0</td>\n      <td>1.0</td>\n      <td>1.0</td>\n      <td>1.0</td>\n      <td>1.0</td>\n      <td>1.0</td>\n      <td>...</td>\n      <td>1.0</td>\n      <td>1.0</td>\n      <td>1.0</td>\n      <td>1.0</td>\n      <td>1.0</td>\n      <td>1.0</td>\n      <td>1.0</td>\n      <td>1.0</td>\n      <td>1.0</td>\n      <td>1.0</td>\n    </tr>\n  </tbody>\n</table>\n<p>5 rows × 53 columns</p>\n</div>"
     },
     "execution_count": 8,
     "metadata": {},
     "output_type": "execute_result"
    }
   ],
   "source": [
    "# Obtain the discrete part of the condition. Those are all the columns that have \"pi\" in their name\n",
    "theta_pi_df = sim_theta_df.loc[:, sim_theta_df.columns.str.contains(\"pi\")]\n",
    "theta_pi_df.head()"
   ],
   "metadata": {
    "collapsed": false,
    "ExecuteTime": {
     "end_time": "2024-01-12T15:57:50.652008400Z",
     "start_time": "2024-01-12T15:57:50.497457400Z"
    }
   }
  },
  {
   "cell_type": "code",
   "execution_count": 9,
   "outputs": [
    {
     "data": {
      "text/plain": "(97, 81)"
     },
     "execution_count": 9,
     "metadata": {},
     "output_type": "execute_result"
    }
   ],
   "source": [
    "# Concatenate the external stimuli and the discrete part of the condition\n",
    "x = np.concatenate((sim_u_df.values, theta_pi_df.values), axis=1)\n",
    "x.shape"
   ],
   "metadata": {
    "collapsed": false,
    "ExecuteTime": {
     "end_time": "2024-01-12T15:57:50.681895400Z",
     "start_time": "2024-01-12T15:57:50.527971100Z"
    }
   }
  },
  {
   "cell_type": "code",
   "execution_count": 10,
   "outputs": [],
   "source": [
    "# Save the input\n",
    "input_path = processed_data_folder / \"input_single_example.npy\"\n",
    "np.save(input_path, x)"
   ],
   "metadata": {
    "collapsed": false,
    "ExecuteTime": {
     "end_time": "2024-01-12T15:57:50.681895400Z",
     "start_time": "2024-01-12T15:57:50.543384200Z"
    }
   }
  },
  {
   "cell_type": "markdown",
   "source": [
    "### Output - Active and reactive power of the generators"
   ],
   "metadata": {
    "collapsed": false
   }
  },
  {
   "cell_type": "code",
   "execution_count": 24,
   "outputs": [
    {
     "data": {
      "text/plain": "              Pg       Pg.1          Pg.2          Pg.3          Pg.4  \\\n0     119.042074  22.097926  1.556064e-11  9.785433e-13 -1.749435e-11   \n900   122.292513  22.721510  1.299740e-11 -5.171726e-12 -1.527436e-11   \n1800  129.017916  23.992108 -5.607376e-11  2.874593e-11  8.895616e-11   \n2700  117.756178  21.853135 -5.791049e-11  7.905790e-12  6.502552e-11   \n3600  109.866263  20.343933  2.196367e-12  2.578333e-13 -1.769730e-12   \n\n            Qg       Qg.1       Qg.2      Qg.3      Qg.4  \n0     3.290923   8.085947  12.239712 -5.999253 -5.999934  \n900   3.555777  11.674836   9.071357 -5.999496 -5.999981  \n1800  4.095875  11.311077   8.697293 -5.999608 -5.999997  \n2700  3.158221   8.487028   9.737738 -5.999608 -5.977210  \n3600  2.525934   7.436979  10.577337 -5.999475 -5.957341  ",
      "text/html": "<div>\n<style scoped>\n    .dataframe tbody tr th:only-of-type {\n        vertical-align: middle;\n    }\n\n    .dataframe tbody tr th {\n        vertical-align: top;\n    }\n\n    .dataframe thead th {\n        text-align: right;\n    }\n</style>\n<table border=\"1\" class=\"dataframe\">\n  <thead>\n    <tr style=\"text-align: right;\">\n      <th></th>\n      <th>Pg</th>\n      <th>Pg.1</th>\n      <th>Pg.2</th>\n      <th>Pg.3</th>\n      <th>Pg.4</th>\n      <th>Qg</th>\n      <th>Qg.1</th>\n      <th>Qg.2</th>\n      <th>Qg.3</th>\n      <th>Qg.4</th>\n    </tr>\n  </thead>\n  <tbody>\n    <tr>\n      <th>0</th>\n      <td>119.042074</td>\n      <td>22.097926</td>\n      <td>1.556064e-11</td>\n      <td>9.785433e-13</td>\n      <td>-1.749435e-11</td>\n      <td>3.290923</td>\n      <td>8.085947</td>\n      <td>12.239712</td>\n      <td>-5.999253</td>\n      <td>-5.999934</td>\n    </tr>\n    <tr>\n      <th>900</th>\n      <td>122.292513</td>\n      <td>22.721510</td>\n      <td>1.299740e-11</td>\n      <td>-5.171726e-12</td>\n      <td>-1.527436e-11</td>\n      <td>3.555777</td>\n      <td>11.674836</td>\n      <td>9.071357</td>\n      <td>-5.999496</td>\n      <td>-5.999981</td>\n    </tr>\n    <tr>\n      <th>1800</th>\n      <td>129.017916</td>\n      <td>23.992108</td>\n      <td>-5.607376e-11</td>\n      <td>2.874593e-11</td>\n      <td>8.895616e-11</td>\n      <td>4.095875</td>\n      <td>11.311077</td>\n      <td>8.697293</td>\n      <td>-5.999608</td>\n      <td>-5.999997</td>\n    </tr>\n    <tr>\n      <th>2700</th>\n      <td>117.756178</td>\n      <td>21.853135</td>\n      <td>-5.791049e-11</td>\n      <td>7.905790e-12</td>\n      <td>6.502552e-11</td>\n      <td>3.158221</td>\n      <td>8.487028</td>\n      <td>9.737738</td>\n      <td>-5.999608</td>\n      <td>-5.977210</td>\n    </tr>\n    <tr>\n      <th>3600</th>\n      <td>109.866263</td>\n      <td>20.343933</td>\n      <td>2.196367e-12</td>\n      <td>2.578333e-13</td>\n      <td>-1.769730e-12</td>\n      <td>2.525934</td>\n      <td>7.436979</td>\n      <td>10.577337</td>\n      <td>-5.999475</td>\n      <td>-5.957341</td>\n    </tr>\n  </tbody>\n</table>\n</div>"
     },
     "execution_count": 24,
     "metadata": {},
     "output_type": "execute_result"
    }
   ],
   "source": [
    "# The output is the part of the state that constaints the active and reactive power of the generators, i.e., those columns that have \"Pg\" or \"Qg\" in their name\n",
    "Y_PgQg_df = sim_x_df.loc[:, sim_x_df.columns.str.contains(\"Pg|Qg\")]\n",
    "Y_PgQg_df.head()"
   ],
   "metadata": {
    "collapsed": false,
    "ExecuteTime": {
     "end_time": "2024-01-12T17:04:34.869811500Z",
     "start_time": "2024-01-12T17:04:34.850871700Z"
    }
   }
  },
  {
   "cell_type": "code",
   "execution_count": 25,
   "outputs": [],
   "source": [
    "# Save the output\n",
    "output_path = processed_data_folder / \"output_single_example.npy\"\n",
    "np.save(output_path, Y_PgQg_df.values)"
   ],
   "metadata": {
    "collapsed": false,
    "ExecuteTime": {
     "end_time": "2024-01-12T17:08:33.009770400Z",
     "start_time": "2024-01-12T17:08:32.950983900Z"
    }
   }
  },
  {
   "cell_type": "markdown",
   "source": [
    "### Let's train a BBM using the IO data\n",
    "\n",
    "We will train a two-layer feedforward neural network with 10 neurons in the hidden layer."
   ],
   "metadata": {
    "collapsed": false
   }
  },
  {
   "cell_type": "code",
   "execution_count": 35,
   "outputs": [],
   "source": [
    "import torch\n",
    "import torch.nn as nn\n",
    "import torch.nn.functional as F\n",
    "import torch.optim as optim\n",
    "from torch.utils.data import TensorDataset, DataLoader"
   ],
   "metadata": {
    "collapsed": false,
    "ExecuteTime": {
     "end_time": "2024-01-12T17:15:34.369199Z",
     "start_time": "2024-01-12T17:15:34.342802900Z"
    }
   }
  },
  {
   "cell_type": "code",
   "execution_count": 36,
   "outputs": [],
   "source": [
    "# Load the data\n",
    "X = np.load(input_path)\n",
    "Y = np.load(output_path)"
   ],
   "metadata": {
    "collapsed": false,
    "ExecuteTime": {
     "end_time": "2024-01-12T17:15:35.134988700Z",
     "start_time": "2024-01-12T17:15:35.104180700Z"
    }
   }
  },
  {
   "cell_type": "code",
   "execution_count": 37,
   "outputs": [],
   "source": [
    "# Convert to torch tensors\n",
    "X = torch.from_numpy(X).float()\n",
    "Y = torch.from_numpy(Y).float()"
   ],
   "metadata": {
    "collapsed": false,
    "ExecuteTime": {
     "end_time": "2024-01-12T17:15:35.927673800Z",
     "start_time": "2024-01-12T17:15:35.890461Z"
    }
   }
  },
  {
   "cell_type": "code",
   "execution_count": 38,
   "outputs": [],
   "source": [
    "# Create a TensorDataset\n",
    "dataset = TensorDataset(X, Y)"
   ],
   "metadata": {
    "collapsed": false,
    "ExecuteTime": {
     "end_time": "2024-01-12T17:15:36.654277400Z",
     "start_time": "2024-01-12T17:15:36.629773900Z"
    }
   }
  },
  {
   "cell_type": "code",
   "execution_count": 39,
   "outputs": [],
   "source": [
    "# Create a DataLoader\n",
    "dataloader = DataLoader(dataset, batch_size=32, shuffle=True)"
   ],
   "metadata": {
    "collapsed": false,
    "ExecuteTime": {
     "end_time": "2024-01-12T17:15:37.330650Z",
     "start_time": "2024-01-12T17:15:37.303845200Z"
    }
   }
  },
  {
   "cell_type": "code",
   "execution_count": 50,
   "outputs": [],
   "source": [
    "# Define the model: a two-layer feedforward neural network with 10 neurons in the hidden layer\n",
    "class Net(nn.Module):\n",
    "    def __init__(self):\n",
    "        super(Net, self).__init__()\n",
    "        # The input is of size 81 and the output is of size 10\n",
    "        self.fc1 = nn.Linear(81, 15)\n",
    "        self.fc2 = nn.Linear(15, 10)\n",
    "\n",
    "    def forward(self, x):\n",
    "        x = F.relu(self.fc1(x))\n",
    "        x = self.fc2(x)\n",
    "        return x"
   ],
   "metadata": {
    "collapsed": false,
    "ExecuteTime": {
     "end_time": "2024-01-12T17:24:00.948616300Z",
     "start_time": "2024-01-12T17:24:00.928950600Z"
    }
   }
  },
  {
   "cell_type": "code",
   "execution_count": 51,
   "outputs": [],
   "source": [
    "# Initialize the model\n",
    "net = Net()"
   ],
   "metadata": {
    "collapsed": false,
    "ExecuteTime": {
     "end_time": "2024-01-12T17:24:01.765720800Z",
     "start_time": "2024-01-12T17:24:01.747492Z"
    }
   }
  },
  {
   "cell_type": "code",
   "execution_count": 52,
   "outputs": [],
   "source": [
    "# Define the loss function\n",
    "criterion = nn.MSELoss()"
   ],
   "metadata": {
    "collapsed": false,
    "ExecuteTime": {
     "end_time": "2024-01-12T17:24:02.081102400Z",
     "start_time": "2024-01-12T17:24:02.059953200Z"
    }
   }
  },
  {
   "cell_type": "code",
   "execution_count": 53,
   "outputs": [],
   "source": [
    "# Define the optimizer\n",
    "optimizer = optim.Adam(net.parameters(), lr=0.001)"
   ],
   "metadata": {
    "collapsed": false,
    "ExecuteTime": {
     "end_time": "2024-01-12T17:24:02.591213800Z",
     "start_time": "2024-01-12T17:24:02.572110900Z"
    }
   }
  },
  {
   "cell_type": "code",
   "execution_count": 65,
   "outputs": [
    {
     "name": "stdout",
     "output_type": "stream",
     "text": [
      "Finished training\n"
     ]
    }
   ],
   "source": [
    "# Train the model\n",
    "for epoch in range(1000):\n",
    "    running_loss = 0.0\n",
    "    for i, data in enumerate(dataloader, 0):\n",
    "        # Get the inputs\n",
    "        inputs, labels = data\n",
    "\n",
    "        # Zero the parameter gradients\n",
    "        optimizer.zero_grad()\n",
    "\n",
    "        # Forward + backward + optimize\n",
    "        outputs = net(inputs)\n",
    "        loss = criterion(outputs, labels)\n",
    "        loss.backward()\n",
    "        optimizer.step()\n",
    "\n",
    "        # Print statistics\n",
    "        running_loss += loss.item()\n",
    "        if i % 100 == 99:\n",
    "            print(f\"[{epoch + 1}, {i + 1}] loss: {running_loss / 100}\")\n",
    "            running_loss = 0.0\n",
    "\n",
    "print(\"Finished training\")"
   ],
   "metadata": {
    "collapsed": false,
    "ExecuteTime": {
     "end_time": "2024-01-12T17:26:55.730756500Z",
     "start_time": "2024-01-12T17:26:51.059243800Z"
    }
   }
  },
  {
   "cell_type": "code",
   "execution_count": 66,
   "outputs": [
    {
     "name": "stdout",
     "output_type": "stream",
     "text": [
      "Loss: 0.5179461240768433\n"
     ]
    }
   ],
   "source": [
    "# Evaluate the model\n",
    "outputs = net(X)\n",
    "loss = criterion(outputs, Y)\n",
    "print(f\"Loss: {loss.item()}\")"
   ],
   "metadata": {
    "collapsed": false,
    "ExecuteTime": {
     "end_time": "2024-01-12T17:26:57.665017600Z",
     "start_time": "2024-01-12T17:26:57.652804900Z"
    }
   }
  },
  {
   "cell_type": "code",
   "execution_count": null,
   "outputs": [],
   "source": [],
   "metadata": {
    "collapsed": false
   }
  },
  {
   "cell_type": "markdown",
   "source": [],
   "metadata": {
    "collapsed": false
   }
  }
 ],
 "metadata": {
  "kernelspec": {
   "display_name": "Python 3",
   "language": "python",
   "name": "python3"
  },
  "language_info": {
   "codemirror_mode": {
    "name": "ipython",
    "version": 2
   },
   "file_extension": ".py",
   "mimetype": "text/x-python",
   "name": "python",
   "nbconvert_exporter": "python",
   "pygments_lexer": "ipython2",
   "version": "2.7.6"
  }
 },
 "nbformat": 4,
 "nbformat_minor": 0
}
