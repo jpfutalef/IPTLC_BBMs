{
 "cells": [
  {
   "cell_type": "markdown",
   "source": [
    "# BBMs for the Power Flow\n",
    "\n",
    "In this script, we aim to construct Black-Box Models (BBMs) (i.e., data-driven models) for the Power Flow (PF) problem. We use the data stored in the 'data/PF' folder, containing tables with the PF IO data."
   ],
   "metadata": {
    "collapsed": false
   }
  },
  {
   "cell_type": "code",
   "execution_count": 1,
   "metadata": {
    "collapsed": true,
    "ExecuteTime": {
     "end_time": "2024-03-25T00:17:44.195117600Z",
     "start_time": "2024-03-25T00:17:37.210402900Z"
    }
   },
   "outputs": [
    {
     "name": "stdout",
     "output_type": "stream",
     "text": [
      "Working directory: D:\\projects\\IPTLC_BBMs\n",
      "Device: cuda:0\n"
     ]
    }
   ],
   "source": [
    "import os\n",
    "from pathlib import Path\n",
    "import numpy as np\n",
    "import pandas as pd\n",
    "import matplotlib.pyplot as plt\n",
    "import torch\n",
    "import sys\n",
    "from importlib import reload\n",
    "\n",
    "import greyboxmodels.bbmcpsmodels.nn_creator as creator\n",
    "\n",
    "\n",
    "# Set the working directory\n",
    "os.chdir(\"D:/projects/IPTLC_BBMs/\")\n",
    "print(f\"Working directory: {os.getcwd()}\")\n",
    "\n",
    "# Check GPU availability\n",
    "device = creator.get_device()\n",
    "print(f\"Device: {device}\")"
   ]
  },
  {
   "cell_type": "code",
   "execution_count": 2,
   "outputs": [],
   "source": [
    "# Specify the paths\n",
    "datasets_folder = Path(\"data/IO-datasets/PF/2024-03-20_18-55-20/\")\n",
    "\n",
    "# # Print the available datasets\n",
    "# print(\"Available datasets:\")\n",
    "# for path in datasets_folder.iterdir():\n",
    "#     if path.is_dir() and \"OPF\" in path.name:\n",
    "#         print(path.name)"
   ],
   "metadata": {
    "collapsed": false,
    "ExecuteTime": {
     "end_time": "2024-03-25T00:17:49.670989800Z",
     "start_time": "2024-03-25T00:17:49.618436300Z"
    }
   }
  },
  {
   "cell_type": "markdown",
   "source": [
    "# Setup the BBM creator"
   ],
   "metadata": {
    "collapsed": false
   }
  },
  {
   "cell_type": "code",
   "execution_count": 3,
   "outputs": [],
   "source": [
    "# Create the BBMCreator\n",
    "reload(creator)\n",
    "BBM_creator = creator.BBMCreator()"
   ],
   "metadata": {
    "collapsed": false,
    "ExecuteTime": {
     "end_time": "2024-03-25T00:17:52.718474Z",
     "start_time": "2024-03-25T00:17:52.712145400Z"
    }
   }
  },
  {
   "cell_type": "code",
   "execution_count": 7,
   "outputs": [
    {
     "name": "stdout",
     "output_type": "stream",
     "text": [
      "Loading: data\\IO-datasets\\PF\\2024-03-20_18-55-20\n",
      "---- Dataset loaded ----\n",
      "    Input shape: (26660, 57)\n",
      "    Output shape: (26660, 105)\n",
      "---- Removing NaNs ----\n",
      "    Rows to delete: []\n",
      "    Input shape: (26660, 57)\n",
      "    Output shape: (26660, 105)\n",
      "---- Converting to torch tensors ----\n",
      "---- Dataset loaded! ----\n"
     ]
    }
   ],
   "source": [
    "# Set up the dataset\n",
    "dataset_name = \"MinMaxNormalizedPF\"\n",
    "loaders = creator.setup_datasets(datasets_folder,\n",
    "                                 dataset_name,\n",
    "                                 remove_nans=True,\n",
    "                                 ratios=(0.70, 0.15, 0.15),\n",
    "                                 batch_size=32,\n",
    "                                 input_name=\"pf_inputs_minmax_normalized.npy\",\n",
    "                                 output_name=\"pf_outputs_minmax_normalized.npy\")\n",
    "BBM_creator.set_dataloaders(*loaders)"
   ],
   "metadata": {
    "collapsed": false,
    "ExecuteTime": {
     "end_time": "2024-03-25T00:30:08.664625800Z",
     "start_time": "2024-03-25T00:30:08.559692400Z"
    }
   }
  },
  {
   "cell_type": "markdown",
   "source": [
    "# BBM 1: a two-layer feedforward neural network"
   ],
   "metadata": {
    "collapsed": false
   }
  },
  {
   "cell_type": "code",
   "execution_count": 8,
   "outputs": [],
   "source": [
    "from greyboxmodels.bbmcpsmodels.physical.feedforward_nn_pf import BBM1_SimpleNet"
   ],
   "metadata": {
    "collapsed": false,
    "ExecuteTime": {
     "end_time": "2024-03-25T00:30:30.501962200Z",
     "start_time": "2024-03-25T00:30:30.494123Z"
    }
   }
  },
  {
   "cell_type": "code",
   "execution_count": 9,
   "outputs": [],
   "source": [
    "# Instantiate model\n",
    "input_size = loaders[0].dataset[0][0].shape[0]\n",
    "output_size = loaders[0].dataset[0][1].shape[0]\n",
    "\n",
    "BBM_creator.instantiate_model(BBM1_SimpleNet, input_size, output_size)"
   ],
   "metadata": {
    "collapsed": false,
    "ExecuteTime": {
     "end_time": "2024-03-25T00:30:32.497929600Z",
     "start_time": "2024-03-25T00:30:31.211400800Z"
    }
   }
  },
  {
   "cell_type": "code",
   "execution_count": null,
   "outputs": [
    {
     "name": "stdout",
     "output_type": "stream",
     "text": [
      "------ Training model 'BBM1_SimpleNet' ------\n",
      "Models and summary will be save to 'models/' (will be created if it does not exist)\n",
      "    - Model path: models\\BBM1_SimpleNet_MinMaxNormalizedPF_20240325-013033.pt\n",
      "    - Summary path: models/models_summary.csv\n",
      "Training on cuda:0\n",
      "Training starts in:  00:00\r"
     ]
    },
    {
     "name": "stderr",
     "output_type": "stream",
     "text": [
      "Epoch 1/100 (Loss - Train: 1.18e-02, Best val: N/A): 100%|██████████| 584/584 [00:06<00:00, 94.39it/s] \n",
      "Epoch 2/100 (Loss - Train: 3.26e-03, Best val: 4.66e-03): 100%|██████████| 584/584 [00:02<00:00, 290.92it/s]\n",
      "Epoch 3/100 (Loss - Train: 2.45e-03, Best val: 2.84e-03): 100%|██████████| 584/584 [00:02<00:00, 273.35it/s]\n",
      "Epoch 4/100 (Loss - Train: 2.10e-03, Best val: 2.24e-03): 100%|██████████| 584/584 [00:02<00:00, 285.25it/s]\n",
      "Epoch 5/100 (Loss - Train: 1.90e-03, Best val: 2.11e-03): 100%|██████████| 584/584 [00:02<00:00, 260.98it/s]\n",
      "Epoch 6/100 (Loss - Train: 1.69e-03, Best val: 1.79e-03): 100%|██████████| 584/584 [00:02<00:00, 260.93it/s]\n",
      "Epoch 7/100 (Loss - Train: 1.64e-03, Best val: 1.79e-03): 100%|██████████| 584/584 [00:02<00:00, 252.82it/s]\n",
      "Epoch 8/100 (Loss - Train: 1.50e-03, Best val: 1.54e-03): 100%|██████████| 584/584 [00:02<00:00, 246.28it/s]\n",
      "Epoch 9/100 (Loss - Train: 1.46e-03, Best val: 1.47e-03): 100%|██████████| 584/584 [00:02<00:00, 249.02it/s]\n",
      "Epoch 10/100 (Loss - Train: 1.35e-03, Best val: 1.47e-03): 100%|██████████| 584/584 [00:02<00:00, 236.10it/s]\n",
      "Epoch 11/100 (Loss - Train: 1.30e-03, Best val: 1.47e-03): 100%|██████████| 584/584 [00:02<00:00, 228.17it/s]\n",
      "Epoch 12/100 (Loss - Train: 1.23e-03, Best val: 1.24e-03): 100%|██████████| 584/584 [00:02<00:00, 236.94it/s]\n",
      "Epoch 13/100 (Loss - Train: 1.13e-03, Best val: 1.21e-03): 100%|██████████| 584/584 [00:02<00:00, 220.63it/s]\n",
      "Epoch 14/100 (Loss - Train: 1.10e-03, Best val: 1.21e-03): 100%|██████████| 584/584 [00:02<00:00, 228.80it/s]\n",
      "Epoch 15/100 (Loss - Train: 1.04e-03, Best val: 1.21e-03): 100%|██████████| 584/584 [00:02<00:00, 238.14it/s]\n",
      "Epoch 16/100 (Loss - Train: 9.84e-04, Best val: 1.09e-03): 100%|██████████| 584/584 [00:02<00:00, 228.11it/s]\n",
      "Epoch 17/100 (Loss - Train: 9.47e-04, Best val: 9.90e-04): 100%|██████████| 584/584 [00:02<00:00, 244.43it/s]\n",
      "Epoch 18/100 (Loss - Train: 8.86e-04, Best val: 9.02e-04): 100%|██████████| 584/584 [00:02<00:00, 258.75it/s]\n",
      "Epoch 19/100 (Loss - Train: 8.50e-04, Best val: 9.02e-04): 100%|██████████| 584/584 [00:02<00:00, 209.18it/s]\n",
      "Epoch 20/100 (Loss - Train: 7.97e-04, Best val: 9.02e-04): 100%|██████████| 584/584 [00:02<00:00, 253.59it/s]\n",
      "Epoch 21/100 (Loss - Train: 7.66e-04, Best val: 7.71e-04): 100%|██████████| 584/584 [00:02<00:00, 256.14it/s]\n",
      "Epoch 22/100 (Loss - Train: 7.37e-04, Best val: 7.71e-04): 100%|██████████| 584/584 [00:02<00:00, 231.30it/s]\n",
      "Epoch 23/100 (Loss - Train: 6.94e-04, Best val: 7.57e-04): 100%|██████████| 584/584 [00:02<00:00, 239.83it/s]\n",
      "Epoch 24/100 (Loss - Train: 6.88e-04, Best val: 7.57e-04): 100%|██████████| 584/584 [00:02<00:00, 238.28it/s]\n",
      "Epoch 25/100 (Loss - Train: 6.54e-04, Best val: 6.90e-04): 100%|██████████| 584/584 [00:02<00:00, 249.78it/s]\n",
      "Epoch 26/100 (Loss - Train: 6.41e-04, Best val: 6.60e-04): 100%|██████████| 584/584 [00:02<00:00, 270.06it/s]\n",
      "Epoch 27/100 (Loss - Train: 6.29e-04, Best val: 6.60e-04): 100%|██████████| 584/584 [00:02<00:00, 252.91it/s]\n",
      "Epoch 28/100 (Loss - Train: 6.24e-04, Best val: 6.60e-04): 100%|██████████| 584/584 [00:02<00:00, 219.43it/s]\n",
      "Epoch 29/100 (Loss - Train: 6.14e-04, Best val: 6.43e-04): 100%|██████████| 584/584 [00:02<00:00, 207.72it/s]\n",
      "Epoch 30/100 (Loss - Train: 6.12e-04, Best val: 6.41e-04): 100%|██████████| 584/584 [00:02<00:00, 223.40it/s]\n",
      "Epoch 31/100 (Loss - Train: 6.05e-04, Best val: 6.41e-04): 100%|██████████| 584/584 [00:02<00:00, 240.42it/s]\n",
      "Epoch 32/100 (Loss - Train: 5.87e-04, Best val: 6.08e-04): 100%|██████████| 584/584 [00:02<00:00, 220.45it/s]\n",
      "Epoch 33/100 (Loss - Train: 5.89e-04, Best val: 6.08e-04): 100%|██████████| 584/584 [00:02<00:00, 202.12it/s]\n",
      "Epoch 34/100 (Loss - Train: 5.96e-04, Best val: 6.08e-04): 100%|██████████| 584/584 [00:02<00:00, 217.42it/s]\n",
      "Epoch 35/100 (Loss - Train: 5.83e-04, Best val: 5.59e-04): 100%|██████████| 584/584 [00:02<00:00, 206.76it/s]\n",
      "Epoch 36/100 (Loss - Train: 5.63e-04, Best val: 5.59e-04): 100%|██████████| 584/584 [00:02<00:00, 210.28it/s]\n",
      "Epoch 37/100 (Loss - Train: 5.78e-04, Best val: 5.59e-04): 100%|██████████| 584/584 [00:02<00:00, 236.08it/s]\n",
      "Epoch 38/100 (Loss - Train: 5.63e-04, Best val: 5.59e-04): 100%|██████████| 584/584 [00:02<00:00, 217.63it/s]\n",
      "Epoch 39/100 (Loss - Train: 5.57e-04, Best val: 5.59e-04): 100%|██████████| 584/584 [00:02<00:00, 222.07it/s]\n",
      "Epoch 40/100 (Loss - Train: 5.62e-04, Best val: 5.57e-04): 100%|██████████| 584/584 [00:02<00:00, 252.01it/s]\n",
      "Epoch 41/100 (Loss - Train: 5.67e-04, Best val: 5.57e-04): 100%|██████████| 584/584 [00:02<00:00, 244.54it/s]\n",
      "Epoch 42/100 (Loss - Train: 5.71e-04, Best val: 5.57e-04): 100%|██████████| 584/584 [00:02<00:00, 252.02it/s]\n",
      "Epoch 43/100 (Loss - Train: 5.59e-04, Best val: 5.57e-04): 100%|██████████| 584/584 [00:02<00:00, 269.22it/s]\n",
      "Epoch 44/100 (Loss - Train: 5.54e-04, Best val: 5.57e-04): 100%|██████████| 584/584 [00:02<00:00, 257.61it/s]\n",
      "Epoch 45/100 (Loss - Train: 5.47e-04, Best val: 5.57e-04): 100%|██████████| 584/584 [00:02<00:00, 248.09it/s]\n",
      "Epoch 46/100 (Loss - Train: 5.52e-04, Best val: 5.57e-04): 100%|██████████| 584/584 [00:02<00:00, 277.03it/s]\n",
      "Epoch 47/100 (Loss - Train: 5.33e-04, Best val: 5.57e-04): 100%|██████████| 584/584 [00:02<00:00, 281.74it/s]\n",
      "Epoch 48/100 (Loss - Train: 5.40e-04, Best val: 5.57e-04): 100%|██████████| 584/584 [00:02<00:00, 271.61it/s]\n",
      "Epoch 49/100 (Loss - Train: 5.46e-04, Best val: 5.57e-04): 100%|██████████| 584/584 [00:02<00:00, 221.09it/s]\n",
      "Epoch 50/100 (Loss - Train: 5.39e-04, Best val: 5.55e-04): 100%|██████████| 584/584 [00:02<00:00, 250.63it/s]\n",
      "Epoch 51/100 (Loss - Train: 5.39e-04, Best val: 5.55e-04): 100%|██████████| 584/584 [00:02<00:00, 250.34it/s]\n",
      "Epoch 52/100 (Loss - Train: 5.40e-04, Best val: 5.55e-04): 100%|██████████| 584/584 [00:02<00:00, 247.09it/s]\n",
      "Epoch 53/100 (Loss - Train: 5.25e-04, Best val: 5.40e-04): 100%|██████████| 584/584 [00:02<00:00, 258.92it/s]\n",
      "Epoch 54/100 (Loss - Train: 5.23e-04, Best val: 5.40e-04): 100%|██████████| 584/584 [00:02<00:00, 220.38it/s]\n",
      "Epoch 55/100 (Loss - Train: 5.43e-04, Best val: 5.40e-04): 100%|██████████| 584/584 [00:03<00:00, 193.20it/s]\n",
      "Epoch 56/100 (Loss - Train: 5.35e-04, Best val: 5.40e-04): 100%|██████████| 584/584 [00:02<00:00, 228.75it/s]\n",
      "Epoch 57/100 (Loss - Train: 5.29e-04, Best val: 5.24e-04): 100%|██████████| 584/584 [00:02<00:00, 218.19it/s]\n",
      "Epoch 58/100 (Loss - Train: 5.31e-04, Best val: 5.24e-04): 100%|██████████| 584/584 [00:02<00:00, 240.40it/s]\n",
      "Epoch 59/100 (Loss - Train: 5.30e-04, Best val: 5.24e-04): 100%|██████████| 584/584 [00:02<00:00, 257.43it/s]\n",
      "Epoch 60/100 (Loss - Train: 5.26e-04, Best val: 5.24e-04): 100%|██████████| 584/584 [00:02<00:00, 264.05it/s]\n",
      "Epoch 61/100 (Loss - Train: 5.14e-04, Best val: 5.24e-04): 100%|██████████| 584/584 [00:02<00:00, 256.95it/s]\n",
      "Epoch 62/100 (Loss - Train: 5.11e-04, Best val: 5.24e-04): 100%|██████████| 584/584 [00:02<00:00, 266.59it/s]\n",
      "Epoch 63/100 (Loss - Train: 5.15e-04, Best val: 5.24e-04): 100%|██████████| 584/584 [00:01<00:00, 301.11it/s]\n",
      "Epoch 64/100 (Loss - Train: 5.45e-04, Best val: 5.24e-04): 100%|██████████| 584/584 [00:02<00:00, 270.21it/s]\n",
      "Epoch 65/100 (Loss - Train: 5.12e-04, Best val: 5.24e-04): 100%|██████████| 584/584 [00:02<00:00, 274.09it/s]\n",
      "Epoch 66/100 (Loss - Train: 5.32e-04, Best val: 5.24e-04): 100%|██████████| 584/584 [00:02<00:00, 264.70it/s]\n",
      "Epoch 67/100 (Loss - Train: 5.28e-04, Best val: 5.24e-04): 100%|██████████| 584/584 [00:02<00:00, 273.60it/s]\n",
      "Epoch 68/100 (Loss - Train: 5.01e-04, Best val: 5.24e-04): 100%|██████████| 584/584 [00:01<00:00, 295.95it/s]\n",
      "Epoch 69/100 (Loss - Train: 5.05e-04, Best val: 5.00e-04): 100%|██████████| 584/584 [00:02<00:00, 256.94it/s]\n",
      "Epoch 70/100 (Loss - Train: 5.21e-04, Best val: 4.84e-04): 100%|██████████| 584/584 [00:02<00:00, 282.26it/s]\n",
      "Epoch 71/100 (Loss - Train: 5.21e-04, Best val: 4.84e-04): 100%|██████████| 584/584 [00:02<00:00, 268.95it/s]\n",
      "Epoch 72/100 (Loss - Train: 5.16e-04, Best val: 4.84e-04): 100%|██████████| 584/584 [00:02<00:00, 277.33it/s]\n",
      "Epoch 73/100 (Loss - Train: 5.12e-04, Best val: 4.84e-04): 100%|██████████| 584/584 [00:02<00:00, 289.95it/s]\n",
      "Epoch 74/100 (Loss - Train: 5.13e-04, Best val: 4.84e-04): 100%|██████████| 584/584 [00:02<00:00, 269.81it/s]\n",
      "Epoch 75/100 (Loss - Train: 5.11e-04, Best val: 4.84e-04): 100%|██████████| 584/584 [00:02<00:00, 280.55it/s]\n",
      "Epoch 76/100 (Loss - Train: 4.95e-04, Best val: 4.84e-04): 100%|██████████| 584/584 [00:02<00:00, 262.09it/s]\n",
      "Epoch 77/100 (Loss - Train: 4.95e-04, Best val: 4.84e-04): 100%|██████████| 584/584 [00:02<00:00, 255.76it/s]\n",
      "Epoch 78/100 (Loss - Train: 5.18e-04, Best val: 4.84e-04): 100%|██████████| 584/584 [00:02<00:00, 268.65it/s]\n",
      "Epoch 79/100 (Loss - Train: 5.10e-04, Best val: 4.84e-04): 100%|██████████| 584/584 [00:02<00:00, 259.11it/s]\n",
      "Epoch 80/100 (Loss - Train: 5.05e-04, Best val: 4.84e-04): 100%|██████████| 584/584 [00:03<00:00, 186.28it/s]\n",
      "Epoch 81/100 (Loss - Train: 5.09e-04, Best val: 4.84e-04): 100%|██████████| 584/584 [00:02<00:00, 209.73it/s]\n",
      "Epoch 82/100 (Loss - Train: 5.15e-04, Best val: 4.84e-04): 100%|██████████| 584/584 [00:02<00:00, 241.82it/s]\n",
      "Epoch 83/100 (Loss - Train: 5.23e-04, Best val: 4.84e-04): 100%|██████████| 584/584 [00:02<00:00, 237.45it/s]\n",
      "Epoch 84/100 (Loss - Train: 5.11e-04, Best val: 4.84e-04): 100%|██████████| 584/584 [00:02<00:00, 257.03it/s]\n",
      "Epoch 85/100 (Loss - Train: 5.07e-04, Best val: 4.84e-04): 100%|██████████| 584/584 [00:02<00:00, 285.71it/s]\n",
      "Epoch 86/100 (Loss - Train: 5.17e-04, Best val: 4.84e-04): 100%|██████████| 584/584 [00:02<00:00, 278.87it/s]\n",
      "Epoch 87/100 (Loss - Train: 5.10e-04, Best val: 4.84e-04): 100%|██████████| 584/584 [00:02<00:00, 274.10it/s]\n",
      "Epoch 88/100 (Loss - Train: 4.95e-04, Best val: 4.84e-04): 100%|██████████| 584/584 [00:02<00:00, 287.57it/s]\n",
      "Epoch 89/100 (Loss - Train: 5.07e-04, Best val: 4.84e-04): 100%|██████████| 584/584 [00:02<00:00, 273.59it/s]\n",
      "Epoch 90/100 (Loss - Train: 5.01e-04, Best val: 4.84e-04): 100%|██████████| 584/584 [00:02<00:00, 282.73it/s]\n",
      "Epoch 91/100 (Loss - Train: 4.96e-04, Best val: 4.84e-04): 100%|██████████| 584/584 [00:02<00:00, 274.02it/s]\n",
      "Epoch 92/100 (Loss - Train: 5.02e-04, Best val: 4.84e-04): 100%|██████████| 584/584 [00:02<00:00, 268.99it/s]\n",
      "Epoch 93/100 (Loss - Train: 5.07e-04, Best val: 4.84e-04): 100%|██████████| 584/584 [00:02<00:00, 239.52it/s]\n",
      "Epoch 94/100 (Loss - Train: 4.97e-04, Best val: 4.84e-04): 100%|██████████| 584/584 [00:03<00:00, 184.88it/s]\n",
      "Epoch 95/100 (Loss - Train: 5.05e-04, Best val: 4.76e-04): 100%|██████████| 584/584 [00:02<00:00, 210.93it/s]\n",
      "Epoch 96/100 (Loss - Train: 5.03e-04, Best val: 4.76e-04): 100%|██████████| 584/584 [00:02<00:00, 205.61it/s]\n",
      "Epoch 97/100 (Loss - Train: 5.08e-04, Best val: 4.76e-04): 100%|██████████| 584/584 [00:02<00:00, 197.68it/s]\n",
      "Epoch 98/100 (Loss - Train: 4.81e-04, Best val: 4.76e-04): 100%|██████████| 584/584 [00:02<00:00, 249.48it/s]\n",
      "Epoch 99/100 (Loss - Train: 4.94e-04, Best val: 4.76e-04): 100%|██████████| 584/584 [00:02<00:00, 256.88it/s]\n",
      "Epoch 100/100 (Loss - Train: 4.97e-04, Best val: 4.76e-04): 100%|██████████| 584/584 [00:02<00:00, 208.82it/s]\n"
     ]
    }
   ],
   "source": [
    "# Train the model\n",
    "BBM_creator.train(save_to=\"models\", epochs=100)"
   ],
   "metadata": {
    "collapsed": false,
    "is_executing": true,
    "ExecuteTime": {
     "start_time": "2024-03-25T00:30:33.925625400Z"
    }
   }
  },
  {
   "cell_type": "code",
   "execution_count": null,
   "outputs": [],
   "source": [
    "BBM_creator._summary()"
   ],
   "metadata": {
    "collapsed": false,
    "is_executing": true,
    "ExecuteTime": {
     "start_time": "2024-03-25T00:35:04.747973400Z"
    }
   }
  },
  {
   "cell_type": "code",
   "execution_count": null,
   "outputs": [],
   "source": [],
   "metadata": {
    "collapsed": false
   }
  }
 ],
 "metadata": {
  "kernelspec": {
   "display_name": "Python 3",
   "language": "python",
   "name": "python3"
  },
  "language_info": {
   "codemirror_mode": {
    "name": "ipython",
    "version": 2
   },
   "file_extension": ".py",
   "mimetype": "text/x-python",
   "name": "python",
   "nbconvert_exporter": "python",
   "pygments_lexer": "ipython2",
   "version": "2.7.6"
  }
 },
 "nbformat": 4,
 "nbformat_minor": 0
}
