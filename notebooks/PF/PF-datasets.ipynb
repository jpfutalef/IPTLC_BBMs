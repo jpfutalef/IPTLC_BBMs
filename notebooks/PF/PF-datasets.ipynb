{
 "cells": [
  {
   "cell_type": "markdown",
   "source": [
    "# Construction of IO dataset for Power Flow BBMs\n"
   ],
   "metadata": {
    "collapsed": false
   }
  },
  {
   "cell_type": "code",
   "execution_count": 1,
   "outputs": [
    {
     "name": "stdout",
     "output_type": "stream",
     "text": [
      "Current working directory: D:\\projects\\IPTLC_BBMs\n"
     ]
    }
   ],
   "source": [
    "# Importing libraries\n",
    "import os\n",
    "from pathlib import Path\n",
    "import dill as pickle\n",
    "import matplotlib.pyplot as plt\n",
    "import numpy as np\n",
    "import pandas as pd\n",
    "import tqdm\n",
    "\n",
    "import greyboxmodels.cpsmodels.physical.electrical.PowerFlowPowerGrid as PG\n",
    "import greyboxmodels.cpsmodels.Plant as Plant\n",
    "\n",
    "# Set the working directory\n",
    "os.chdir(\"D:/projects/IPTLC_BBMs\")\n",
    "print(f\"Current working directory: {os.getcwd()}\")"
   ],
   "metadata": {
    "collapsed": false,
    "ExecuteTime": {
     "end_time": "2024-03-25T00:10:04.817651900Z",
     "start_time": "2024-03-25T00:09:57.221110400Z"
    }
   }
  },
  {
   "cell_type": "code",
   "execution_count": 2,
   "outputs": [
    {
     "name": "stdout",
     "output_type": "stream",
     "text": [
      "Data folder: D:\\projects\\CPS-SenarioGeneration\\data\\monte_carlo\\controlled_power_grid\\2024-03-20_18-55-20\n",
      "Processed data folder: data\\IO-datasets\\PF\\2024-03-20_18-55-20\n"
     ]
    }
   ],
   "source": [
    "# Data folder path\n",
    "# data_folder = Path(\"D:/projects/Hierarchical_CPS_models/data/simulations/controlled_pg/20240227_195448\")\n",
    "data_folder = Path(\"D:/projects/CPS-SenarioGeneration/data/monte_carlo/controlled_power_grid/2024-03-20_18-55-20\")\n",
    "\n",
    "# Specify the path to save the processed data and create the folder if it doesn't exist\n",
    "processed_data_folder = Path(\"data/IO-datasets/PF/\") / data_folder.name\n",
    "os.makedirs(processed_data_folder, exist_ok=True)\n",
    "\n",
    "# Print the folders\n",
    "print(f\"Data folder: {data_folder}\")\n",
    "print(f\"Processed data folder: {processed_data_folder}\")"
   ],
   "metadata": {
    "collapsed": false,
    "ExecuteTime": {
     "end_time": "2024-03-25T00:11:31.499389300Z",
     "start_time": "2024-03-25T00:11:31.494881200Z"
    }
   }
  },
  {
   "cell_type": "code",
   "execution_count": 3,
   "outputs": [
    {
     "name": "stdout",
     "output_type": "stream",
     "text": [
      "Testing the file: D:\\projects\\CPS-SenarioGeneration\\data\\monte_carlo\\controlled_power_grid\\2024-03-20_18-55-20\\simulation_0.pkl\n",
      "CC inputs shape: (384, 57)\n",
      "CC outputs shape: (384, 105)\n"
     ]
    }
   ],
   "source": [
    "# Create a function that receives a path to a simulation and returns the inputs and outputs\n",
    "def get_pf_data(filepath: Path):\n",
    "    # Open the data\n",
    "    with open(filepath, \"rb\") as f:\n",
    "        sim_data = pickle.load(f)\n",
    "\n",
    "    # Get the inputs and outputs\n",
    "    pf_inputs = np.array([x['power_grid_step_data'][\"power_flow_input\"] for x in sim_data['step_data']])\n",
    "    pf_outputs = np.array([x['power_grid_step_data'][\"power_flow_output\"] for x in sim_data['step_data']])\n",
    "\n",
    "    return pf_inputs, pf_outputs\n",
    "\n",
    "# Test the function\n",
    "target_simulation = data_folder / \"simulation_0.pkl\"\n",
    "pf_inputs, pf_outputs = get_pf_data(target_simulation)\n",
    "print(f\"Testing the file: {target_simulation}\")\n",
    "print(f\"CC inputs shape: {pf_inputs.shape}\")\n",
    "print(f\"CC outputs shape: {pf_outputs.shape}\")"
   ],
   "metadata": {
    "collapsed": false,
    "ExecuteTime": {
     "end_time": "2024-03-25T00:11:42.977469Z",
     "start_time": "2024-03-25T00:11:41.379664400Z"
    }
   }
  },
  {
   "cell_type": "code",
   "execution_count": 5,
   "outputs": [
    {
     "name": "stderr",
     "output_type": "stream",
     "text": [
      "  9%|▉         | 7/75 [00:07<01:02,  1.09it/s]"
     ]
    },
    {
     "name": "stdout",
     "output_type": "stream",
     "text": [
      "Error in file: D:\\projects\\CPS-SenarioGeneration\\data\\monte_carlo\\controlled_power_grid\\2024-03-20_18-55-20\\simulation_14.pkl\n"
     ]
    },
    {
     "name": "stderr",
     "output_type": "stream",
     "text": [
      " 61%|██████▏   | 46/75 [00:36<00:20,  1.42it/s]"
     ]
    },
    {
     "name": "stdout",
     "output_type": "stream",
     "text": [
      "Error in file: D:\\projects\\CPS-SenarioGeneration\\data\\monte_carlo\\controlled_power_grid\\2024-03-20_18-55-20\\simulation_5.pkl\n"
     ]
    },
    {
     "name": "stderr",
     "output_type": "stream",
     "text": [
      " 64%|██████▍   | 48/75 [00:37<00:17,  1.54it/s]"
     ]
    },
    {
     "name": "stdout",
     "output_type": "stream",
     "text": [
      "Error in file: D:\\projects\\CPS-SenarioGeneration\\data\\monte_carlo\\controlled_power_grid\\2024-03-20_18-55-20\\simulation_51.pkl\n"
     ]
    },
    {
     "name": "stderr",
     "output_type": "stream",
     "text": [
      " 68%|██████▊   | 51/75 [00:40<00:16,  1.46it/s]"
     ]
    },
    {
     "name": "stdout",
     "output_type": "stream",
     "text": [
      "Error in file: D:\\projects\\CPS-SenarioGeneration\\data\\monte_carlo\\controlled_power_grid\\2024-03-20_18-55-20\\simulation_54.pkl\n"
     ]
    },
    {
     "name": "stderr",
     "output_type": "stream",
     "text": [
      " 92%|█████████▏| 69/75 [00:53<00:04,  1.24it/s]"
     ]
    },
    {
     "name": "stdout",
     "output_type": "stream",
     "text": [
      "Error in file: D:\\projects\\CPS-SenarioGeneration\\data\\monte_carlo\\controlled_power_grid\\2024-03-20_18-55-20\\simulation_70.pkl\n"
     ]
    },
    {
     "name": "stderr",
     "output_type": "stream",
     "text": [
      "100%|██████████| 75/75 [00:58<00:00,  1.28it/s]"
     ]
    },
    {
     "name": "stdout",
     "output_type": "stream",
     "text": [
      "CC inputs shape: (26874, 57)\n",
      "CC outputs shape: (26874, 105)\n"
     ]
    },
    {
     "name": "stderr",
     "output_type": "stream",
     "text": [
      "\n"
     ]
    }
   ],
   "source": [
    "# Now, a function that iterates over all the simulations and returns the inputs and outputs in a single numpy array\n",
    "def get_pf_data_all(data_folder: Path):\n",
    "    # Create an empty list to store the inputs and outputs\n",
    "    inputs = []\n",
    "    outputs = []\n",
    "\n",
    "    # Create a list of the target folders: they are called \"simulation_0.pkl\", \"simulation_1.pkl\", etc.\n",
    "    target_folders = [f for f in data_folder.iterdir() if f.is_file() and f.name.startswith(\"simulation\")]\n",
    "\n",
    "    # Iterate over all the simulations and get the inputs and outputs for each one\n",
    "    for f in tqdm.tqdm(target_folders):\n",
    "        try:\n",
    "            # Get the inputs and outputs\n",
    "            pf_inputs, pf_outputs = get_pf_data(f)\n",
    "\n",
    "            # Append the inputs and outputs to the lists\n",
    "            inputs.append(pf_inputs)\n",
    "            outputs.append(pf_outputs)\n",
    "        except:\n",
    "            print(f\"Error in file: {f}\")\n",
    "\n",
    "    # Concatenate the inputs and outputs\n",
    "    inputs_matrix = np.concatenate(inputs, axis=0)\n",
    "    outputs_matrix = np.concatenate(outputs, axis=0)\n",
    "\n",
    "    # Get the plant\n",
    "    with open(data_folder / \"plant.pkl\", \"rb\") as f:\n",
    "        plant = pickle.load(f)\n",
    "\n",
    "    return inputs_matrix, outputs_matrix, plant\n",
    "\n",
    "# Test the function\n",
    "pf_inputs, pf_outputs, plant = get_pf_data_all(data_folder)\n",
    "print(f\"CC inputs shape: {pf_inputs.shape}\")\n",
    "print(f\"CC outputs shape: {pf_outputs.shape}\")"
   ],
   "metadata": {
    "collapsed": false,
    "ExecuteTime": {
     "end_time": "2024-03-25T00:14:10.133968900Z",
     "start_time": "2024-03-25T00:13:11.624635100Z"
    }
   }
  },
  {
   "cell_type": "code",
   "execution_count": 6,
   "outputs": [],
   "source": [
    "# Save the inputs and outputs to numpy arrays\n",
    "inputs_path = processed_data_folder / \"pf_inputs.npy\"\n",
    "outputs_path = processed_data_folder / \"pf_outputs.npy\"\n",
    "\n",
    "np.save(inputs_path, pf_inputs)\n",
    "np.save(outputs_path, pf_outputs)"
   ],
   "metadata": {
    "collapsed": false,
    "ExecuteTime": {
     "end_time": "2024-03-25T00:15:08.878178700Z",
     "start_time": "2024-03-25T00:15:08.849479900Z"
    }
   }
  },
  {
   "cell_type": "markdown",
   "source": [
    "## Normalize the inputs and outputs"
   ],
   "metadata": {
    "collapsed": false
   }
  },
  {
   "cell_type": "code",
   "execution_count": 37,
   "outputs": [],
   "source": [
    "# Create a function to normalize an array as above\n",
    "def min_max_normalize(array: np.ndarray, min_array: np.ndarray = None, max_array: np.ndarray = None):\n",
    "    if min_array is None:\n",
    "        min_array = array.min(axis=0)\n",
    "        max_array = array.max(axis=0)\n",
    "\n",
    "        min_array[min_array == max_array] = min_array[min_array == max_array] - 1\n",
    "        max_array[min_array == max_array] = max_array[min_array == max_array]\n",
    "\n",
    "    array_normalized = (array - min_array) / (max_array - min_array)\n",
    "\n",
    "    return array_normalized, min_array, max_array"
   ],
   "metadata": {
    "collapsed": false,
    "ExecuteTime": {
     "end_time": "2024-03-25T00:29:57.622973Z",
     "start_time": "2024-03-25T00:29:57.615393Z"
    }
   }
  },
  {
   "cell_type": "code",
   "execution_count": 38,
   "outputs": [],
   "source": [
    "# Remove rows with NaN values in the inputs and outputs\n",
    "nan_rows = np.isnan(pf_inputs).any(axis=1) | np.isnan(pf_outputs).any(axis=1)\n",
    "\n",
    "pf_inputs_no_nan = pf_inputs[~nan_rows]\n",
    "pf_outputs_no_nan = pf_outputs[~nan_rows]"
   ],
   "metadata": {
    "collapsed": false,
    "ExecuteTime": {
     "end_time": "2024-03-25T00:29:58.689246100Z",
     "start_time": "2024-03-25T00:29:58.644236100Z"
    }
   }
  },
  {
   "cell_type": "code",
   "execution_count": 39,
   "outputs": [
    {
     "data": {
      "text/plain": "(26660, 57)"
     },
     "execution_count": 39,
     "metadata": {},
     "output_type": "execute_result"
    }
   ],
   "source": [
    "# Inputs\n",
    "pf_inputs_normalized, min_pf_input, max_pf_input = min_max_normalize(pf_inputs_no_nan)\n",
    "\n",
    "pf_inputs_normalized.shape"
   ],
   "metadata": {
    "collapsed": false,
    "ExecuteTime": {
     "end_time": "2024-03-25T00:29:59.780531200Z",
     "start_time": "2024-03-25T00:29:59.736550100Z"
    }
   }
  },
  {
   "cell_type": "code",
   "execution_count": 40,
   "outputs": [
    {
     "data": {
      "text/plain": "(26660, 105)"
     },
     "execution_count": 40,
     "metadata": {},
     "output_type": "execute_result"
    }
   ],
   "source": [
    "# Outputs\n",
    "pf_outputs_normalized, min_pf_output, max_pf_output = min_max_normalize(pf_outputs_no_nan)\n",
    "\n",
    "pf_outputs_normalized.shape"
   ],
   "metadata": {
    "collapsed": false,
    "ExecuteTime": {
     "end_time": "2024-03-25T00:30:00.747370Z",
     "start_time": "2024-03-25T00:30:00.671758300Z"
    }
   }
  },
  {
   "cell_type": "code",
   "execution_count": 41,
   "outputs": [],
   "source": [
    "# Save the normalized inputs and outputs to numpy arrays\n",
    "inputs_normalized_path = processed_data_folder / \"pf_inputs_minmax_normalized.npy\"\n",
    "outputs_normalized_path = processed_data_folder / \"pf_outputs_minmax_normalized.npy\"\n",
    "\n",
    "np.save(inputs_normalized_path, pf_inputs_normalized)\n",
    "np.save(outputs_normalized_path, pf_outputs_normalized)\n",
    "\n",
    "# Also, save the min and max values\n",
    "min_max_values = {\n",
    "    \"input_min\": min_pf_input,\n",
    "    \"input_max\": max_pf_input,\n",
    "    \"output_min\": min_pf_output,\n",
    "    \"output_max\": max_pf_output,\n",
    "    \"type\": \"min_max\"\n",
    "}\n",
    "\n",
    "min_max_values_path = processed_data_folder / \"norm_min_max_values.pkl\"\n",
    "with open(min_max_values_path, \"wb\") as f:\n",
    "    pickle.dump(min_max_values, f)"
   ],
   "metadata": {
    "collapsed": false,
    "ExecuteTime": {
     "end_time": "2024-03-25T00:30:03.033852Z",
     "start_time": "2024-03-25T00:30:02.994417200Z"
    }
   }
  },
  {
   "cell_type": "markdown",
   "source": [
    "## Get the ground truth data"
   ],
   "metadata": {
    "collapsed": false
   }
  },
  {
   "cell_type": "code",
   "execution_count": 53,
   "outputs": [],
   "source": [
    "# Choose a simulation\n",
    "gt_sim = data_folder / \"simulation_5.pkl\"\n",
    "\n",
    "# Open the minimum and maximum values\n",
    "with open(min_max_values_path, \"rb\") as f:\n",
    "    min_max_values = pickle.load(f)\n",
    "\n",
    "min_pf_input = min_max_values[\"min_pf_input\"]\n",
    "max_pf_input = min_max_values[\"max_pf_input\"]\n",
    "min_pf_output = min_max_values[\"min_pf_output\"]\n",
    "max_pf_output = min_max_values[\"max_pf_output\"]\n",
    "\n",
    "# Do as above and save to a file\n",
    "gt_inputs, gt_outputs = get_pf_data(gt_sim)\n",
    "\n",
    "gt_inputs_normalized, _, _ = min_max_normalize(gt_inputs, min_pf_input, max_pf_input)\n",
    "gt_outputs_normalized, _, _ = min_max_normalize(gt_outputs, min_pf_output, max_pf_output)\n",
    "\n",
    "gt_inputs_normalized_path = processed_data_folder / \"gt_inputs_minmax_normalized.npy\"\n",
    "gt_outputs_normalized_path = processed_data_folder / \"gt_outputs_minmax_normalized.npy\"\n",
    "\n",
    "np.save(gt_inputs_normalized_path, gt_inputs_normalized)\n",
    "np.save(gt_outputs_normalized_path, gt_outputs_normalized)"
   ],
   "metadata": {
    "collapsed": false,
    "ExecuteTime": {
     "end_time": "2024-02-28T14:23:52.704855700Z",
     "start_time": "2024-02-28T14:23:51.104850900Z"
    }
   }
  },
  {
   "cell_type": "code",
   "execution_count": null,
   "outputs": [],
   "source": [],
   "metadata": {
    "collapsed": false
   }
  }
 ],
 "metadata": {
  "kernelspec": {
   "display_name": "Python 3",
   "language": "python",
   "name": "python3"
  },
  "language_info": {
   "codemirror_mode": {
    "name": "ipython",
    "version": 2
   },
   "file_extension": ".py",
   "mimetype": "text/x-python",
   "name": "python",
   "nbconvert_exporter": "python",
   "pygments_lexer": "ipython2",
   "version": "2.7.6"
  }
 },
 "nbformat": 4,
 "nbformat_minor": 0
}
