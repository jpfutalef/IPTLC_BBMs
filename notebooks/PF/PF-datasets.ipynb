{
 "cells": [
  {
   "cell_type": "markdown",
   "source": [
    "# Construction of IO dataset for Power Flow BBMs\n"
   ],
   "metadata": {
    "collapsed": false
   }
  },
  {
   "cell_type": "code",
   "execution_count": 1,
   "outputs": [
    {
     "name": "stdout",
     "output_type": "stream",
     "text": [
      "Current working directory: D:\\projects\\IPTLC_BBMs\n"
     ]
    }
   ],
   "source": [
    "# Importing libraries\n",
    "import os\n",
    "from pathlib import Path\n",
    "import dill as pickle\n",
    "import matplotlib.pyplot as plt\n",
    "import numpy as np\n",
    "import pandas as pd\n",
    "import tqdm\n",
    "\n",
    "import greyboxmodels.cpsmodels.physical.electrical.PowerFlowPowerGrid as PG\n",
    "import greyboxmodels.cpsmodels.Plant as Plant\n",
    "\n",
    "# Set the working directory\n",
    "os.chdir(\"D:/projects/IPTLC_BBMs\")\n",
    "print(f\"Current working directory: {os.getcwd()}\")"
   ],
   "metadata": {
    "collapsed": false,
    "ExecuteTime": {
     "end_time": "2024-02-28T13:51:31.657988600Z",
     "start_time": "2024-02-28T13:51:26.203833100Z"
    }
   }
  },
  {
   "cell_type": "code",
   "execution_count": 2,
   "outputs": [
    {
     "name": "stdout",
     "output_type": "stream",
     "text": [
      "Data folder: D:\\projects\\Hierarchical_CPS_models\\data\\simulations\\controlled_pg\\20240227_195448\n",
      "Processed data folder: data\\PF\\20240227_195448\n"
     ]
    }
   ],
   "source": [
    "# Data folder path\n",
    "data_folder = Path(\"D:/projects/Hierarchical_CPS_models/data/simulations/controlled_pg/20240227_195448\")\n",
    "\n",
    "# Specify the path to save the processed data and create the folder if it doesn't exist\n",
    "processed_data_folder = Path(\"data/PF/\") / data_folder.name\n",
    "os.makedirs(processed_data_folder, exist_ok=True)\n",
    "\n",
    "# Print the folders\n",
    "print(f\"Data folder: {data_folder}\")\n",
    "print(f\"Processed data folder: {processed_data_folder}\")"
   ],
   "metadata": {
    "collapsed": false,
    "ExecuteTime": {
     "end_time": "2024-02-28T13:51:54.840500700Z",
     "start_time": "2024-02-28T13:51:54.786610300Z"
    }
   }
  },
  {
   "cell_type": "code",
   "execution_count": 8,
   "outputs": [
    {
     "name": "stdout",
     "output_type": "stream",
     "text": [
      "Testing the file: D:\\projects\\Hierarchical_CPS_models\\data\\simulations\\controlled_pg\\20240227_195448\\simulation_0.pkl\n",
      "CC inputs shape: (384, 56)\n",
      "CC outputs shape: (384, 105)\n"
     ]
    }
   ],
   "source": [
    "# Create a function that receives a path to a simulation and returns the inputs and outputs\n",
    "def get_pf_data(filepath: Path):\n",
    "    # Open the data\n",
    "    with open(filepath, \"rb\") as f:\n",
    "        sim_data = pickle.load(f)\n",
    "\n",
    "    # Get the inputs and outputs\n",
    "    pf_inputs = np.array([x['power_grid_step_data'][\"power_flow_input\"] for x in sim_data['step_data']])\n",
    "    pf_outputs = np.array([x['power_grid_step_data'][\"power_flow_output\"] for x in sim_data['step_data']])\n",
    "\n",
    "    return pf_inputs, pf_outputs\n",
    "\n",
    "# Test the function\n",
    "target_simulation = data_folder / \"simulation_0.pkl\"\n",
    "pf_inputs, pf_outputs = get_pf_data(target_simulation)\n",
    "print(f\"Testing the file: {target_simulation}\")\n",
    "print(f\"CC inputs shape: {pf_inputs.shape}\")\n",
    "print(f\"CC outputs shape: {pf_outputs.shape}\")"
   ],
   "metadata": {
    "collapsed": false,
    "ExecuteTime": {
     "end_time": "2024-02-28T13:56:05.885846200Z",
     "start_time": "2024-02-28T13:56:04.714741200Z"
    }
   }
  },
  {
   "cell_type": "code",
   "execution_count": 9,
   "outputs": [
    {
     "name": "stderr",
     "output_type": "stream",
     "text": [
      "100%|██████████| 132/132 [02:09<00:00,  1.02it/s]"
     ]
    },
    {
     "name": "stdout",
     "output_type": "stream",
     "text": [
      "CC inputs shape: (50688, 56)\n",
      "CC outputs shape: (50688, 105)\n"
     ]
    },
    {
     "name": "stderr",
     "output_type": "stream",
     "text": [
      "\n"
     ]
    }
   ],
   "source": [
    "# Now, a function that iterates over all the simulations and returns the inputs and outputs in a single numpy array\n",
    "def get_pf_data_all(data_folder: Path):\n",
    "    # Create an empty list to store the inputs and outputs\n",
    "    inputs = []\n",
    "    outputs = []\n",
    "\n",
    "    # Create a list of the target folders: they are called \"simulation_0.pkl\", \"simulation_1.pkl\", etc.\n",
    "    target_folders = [f for f in data_folder.iterdir() if f.is_file() and f.name.startswith(\"simulation\")]\n",
    "\n",
    "    # Iterate over all the simulations and get the inputs and outputs for each one\n",
    "    for f in tqdm.tqdm(target_folders):\n",
    "        # Get the inputs and outputs\n",
    "        pf_inputs, pf_outputs = get_pf_data(f)\n",
    "\n",
    "        # Append the inputs and outputs to the lists\n",
    "        inputs.append(pf_inputs)\n",
    "        outputs.append(pf_outputs)\n",
    "\n",
    "    # Concatenate the inputs and outputs\n",
    "    inputs_matrix = np.concatenate(inputs, axis=0)\n",
    "    outputs_matrix = np.concatenate(outputs, axis=0)\n",
    "\n",
    "    # Get the plant\n",
    "    with open(data_folder / \"plant.pkl\", \"rb\") as f:\n",
    "        plant = pickle.load(f)\n",
    "\n",
    "    return inputs_matrix, outputs_matrix, plant\n",
    "\n",
    "# Test the function\n",
    "pf_inputs, pf_outputs, plant = get_pf_data_all(data_folder)\n",
    "print(f\"CC inputs shape: {pf_inputs.shape}\")\n",
    "print(f\"CC outputs shape: {pf_outputs.shape}\")"
   ],
   "metadata": {
    "collapsed": false,
    "ExecuteTime": {
     "end_time": "2024-02-28T13:59:11.336223Z",
     "start_time": "2024-02-28T13:57:02.136529500Z"
    }
   }
  },
  {
   "cell_type": "code",
   "execution_count": 48,
   "outputs": [],
   "source": [
    "# Save the inputs and outputs to numpy arrays\n",
    "inputs_path = processed_data_folder / \"pf_inputs.npy\"\n",
    "outputs_path = processed_data_folder / \"pf_outputs.npy\"\n",
    "\n",
    "np.save(inputs_path, pf_inputs)\n",
    "np.save(outputs_path, pf_outputs)"
   ],
   "metadata": {
    "collapsed": false,
    "ExecuteTime": {
     "end_time": "2024-02-28T14:23:35.197312600Z",
     "start_time": "2024-02-28T14:23:35.139906500Z"
    }
   }
  },
  {
   "cell_type": "markdown",
   "source": [
    "## Normalize the inputs and outputs"
   ],
   "metadata": {
    "collapsed": false
   }
  },
  {
   "cell_type": "code",
   "execution_count": 49,
   "outputs": [],
   "source": [
    "# Create a function to normalize an array as above\n",
    "def min_max_normalize(array: np.ndarray, min_array: np.ndarray = None, max_array: np.ndarray = None):\n",
    "    if min_array is None:\n",
    "        min_array = array.min(axis=0)\n",
    "        max_array = array.max(axis=0)\n",
    "\n",
    "        min_array[min_array == max_array] = min_array[min_array == max_array] - 1\n",
    "        max_array[min_array == max_array] = max_array[min_array == max_array]\n",
    "\n",
    "    array_normalized = (array - min_array) / (max_array - min_array)\n",
    "\n",
    "    return array_normalized, min_array, max_array"
   ],
   "metadata": {
    "collapsed": false,
    "ExecuteTime": {
     "end_time": "2024-02-28T14:23:45.954951300Z",
     "start_time": "2024-02-28T14:23:45.947927200Z"
    }
   }
  },
  {
   "cell_type": "code",
   "execution_count": 50,
   "outputs": [
    {
     "data": {
      "text/plain": "array([[2.99319685e-01, 3.78204287e-01, 2.60249355e-01, 3.02758484e-01,\n        3.35735142e-01, 3.20384746e-01, 2.96569026e-01, 3.14446245e-01,\n        3.38502320e-01, 5.29905072e-01, 3.08272698e-01, 3.77345490e-01,\n        3.14815730e-01, 6.55954853e-01, 3.00686689e-01, 2.84565466e-01,\n        3.94535675e-01, 2.48362937e-01, 3.04020025e-01, 3.21291795e-01,\n        3.22426194e-01, 2.92110176e-01, 1.00000000e+00, 5.59964457e-01,\n        4.14008139e-01, 3.50364095e-07, 5.43783963e-01, 5.24077810e-01,\n        4.40589273e-01, 9.83800924e-01, 9.99904234e-01, 1.00000000e+00,\n        1.00000000e+00, 1.00000000e+00, 1.00000000e+00, 1.00000000e+00,\n        1.00000000e+00, 1.00000000e+00, 1.00000000e+00, 1.00000000e+00,\n        1.00000000e+00, 1.00000000e+00, 1.00000000e+00, 1.00000000e+00,\n        1.00000000e+00, 1.00000000e+00, 1.00000000e+00, 1.00000000e+00,\n        1.00000000e+00, 1.00000000e+00, 1.00000000e+00, 1.00000000e+00,\n        1.00000000e+00, 1.00000000e+00, 1.00000000e+00, 1.00000000e+00],\n       [2.91605887e-01, 3.40280971e-01, 2.72838458e-01, 3.32983465e-01,\n        2.97369878e-01, 2.61135892e-01, 2.70841456e-01, 2.86378298e-01,\n        2.55276056e-01, 3.78439904e-01, 3.53196792e-01, 2.96685664e-01,\n        2.34846234e-01, 6.35602026e-01, 3.60686010e-01, 2.92371271e-01,\n        3.12565310e-01, 2.45271976e-01, 2.90464013e-01, 2.69882673e-01,\n        3.58088894e-01, 3.18521508e-01, 1.00000000e+00, 5.98985631e-01,\n        3.74022344e-01, 3.58900736e-07, 4.68190205e-01, 4.43964827e-01,\n        3.58247090e-01, 9.76059685e-01, 9.99433207e-01, 1.00000000e+00,\n        1.00000000e+00, 1.00000000e+00, 1.00000000e+00, 1.00000000e+00,\n        1.00000000e+00, 1.00000000e+00, 1.00000000e+00, 1.00000000e+00,\n        1.00000000e+00, 1.00000000e+00, 1.00000000e+00, 1.00000000e+00,\n        1.00000000e+00, 1.00000000e+00, 1.00000000e+00, 1.00000000e+00,\n        1.00000000e+00, 1.00000000e+00, 1.00000000e+00, 1.00000000e+00,\n        1.00000000e+00, 1.00000000e+00, 1.00000000e+00, 1.00000000e+00],\n       [3.53382332e-01, 2.64593189e-01, 3.21673235e-01, 2.39108972e-01,\n        3.17786261e-01, 2.87054685e-01, 2.07052109e-01, 3.66348437e-01,\n        3.50313344e-01, 5.04801906e-01, 3.19811045e-01, 2.56581841e-01,\n        2.78177771e-01, 6.98770286e-01, 2.53009319e-01, 3.54598890e-01,\n        3.00023132e-01, 2.01731692e-01, 2.86500725e-01, 2.36402617e-01,\n        3.65538438e-01, 3.46676863e-01, 1.00000000e+00, 6.19945746e-01,\n        3.56027044e-01, 2.57420474e-07, 4.41551345e-01, 4.18805819e-01,\n        3.65914800e-01, 9.81961383e-01, 9.99767128e-01, 1.00000000e+00,\n        1.00000000e+00, 1.00000000e+00, 1.00000000e+00, 1.00000000e+00,\n        1.00000000e+00, 1.00000000e+00, 1.00000000e+00, 1.00000000e+00,\n        1.00000000e+00, 1.00000000e+00, 1.00000000e+00, 1.00000000e+00,\n        1.00000000e+00, 1.00000000e+00, 1.00000000e+00, 1.00000000e+00,\n        1.00000000e+00, 1.00000000e+00, 1.00000000e+00, 1.00000000e+00,\n        1.00000000e+00, 1.00000000e+00, 1.00000000e+00, 1.00000000e+00],\n       [3.42894329e-01, 3.32685215e-01, 2.11113530e-01, 3.41452483e-01,\n        2.43866887e-01, 3.01930029e-01, 2.85160869e-01, 3.12768710e-01,\n        3.41363231e-01, 4.13783183e-01, 3.47342053e-01, 2.78989062e-01,\n        2.05886837e-01, 7.19457810e-01, 3.28764930e-01, 3.08547654e-01,\n        2.68119388e-01, 2.10996379e-01, 2.88058252e-01, 1.79236808e-01,\n        3.44066772e-01, 3.29384322e-01, 1.00000000e+00, 6.02089323e-01,\n        3.67948527e-01, 3.27937235e-07, 4.32033868e-01, 4.00900684e-01,\n        3.08257432e-01, 9.72518862e-01, 9.90952971e-01, 1.00000000e+00,\n        1.00000000e+00, 1.00000000e+00, 1.00000000e+00, 1.00000000e+00,\n        1.00000000e+00, 1.00000000e+00, 1.00000000e+00, 1.00000000e+00,\n        1.00000000e+00, 1.00000000e+00, 1.00000000e+00, 1.00000000e+00,\n        1.00000000e+00, 1.00000000e+00, 1.00000000e+00, 1.00000000e+00,\n        1.00000000e+00, 1.00000000e+00, 1.00000000e+00, 1.00000000e+00,\n        1.00000000e+00, 1.00000000e+00, 1.00000000e+00, 1.00000000e+00],\n       [3.11041978e-01, 2.70788495e-01, 2.62164028e-01, 1.79715048e-01,\n        2.82883090e-01, 2.54627814e-01, 2.80705928e-01, 2.05824101e-01,\n        2.83461304e-01, 3.49139349e-01, 2.80491542e-01, 3.32196175e-01,\n        1.99730788e-01, 6.27085047e-01, 2.62578450e-01, 2.96888248e-01,\n        2.61334734e-01, 1.86821844e-01, 2.87514984e-01, 1.13352777e-01,\n        2.50632821e-01, 3.03844643e-01, 1.00000000e+00, 6.59792423e-01,\n        3.13896004e-01, 2.73355765e-07, 3.72865380e-01, 3.46313228e-01,\n        2.83999985e-01, 9.71471300e-01, 9.96263246e-01, 1.00000000e+00,\n        1.00000000e+00, 1.00000000e+00, 1.00000000e+00, 1.00000000e+00,\n        1.00000000e+00, 1.00000000e+00, 1.00000000e+00, 1.00000000e+00,\n        1.00000000e+00, 1.00000000e+00, 1.00000000e+00, 1.00000000e+00,\n        1.00000000e+00, 1.00000000e+00, 1.00000000e+00, 1.00000000e+00,\n        1.00000000e+00, 1.00000000e+00, 1.00000000e+00, 1.00000000e+00,\n        1.00000000e+00, 1.00000000e+00, 1.00000000e+00, 1.00000000e+00]])"
     },
     "execution_count": 50,
     "metadata": {},
     "output_type": "execute_result"
    }
   ],
   "source": [
    "# Inputs\n",
    "pf_inputs_normalized, min_pf_input, max_pf_input = min_max_normalize(pf_inputs)\n",
    "\n",
    "pf_inputs_normalized[:5, :]"
   ],
   "metadata": {
    "collapsed": false,
    "ExecuteTime": {
     "end_time": "2024-02-28T14:23:46.910644500Z",
     "start_time": "2024-02-28T14:23:46.824880300Z"
    }
   }
  },
  {
   "cell_type": "code",
   "execution_count": 51,
   "outputs": [
    {
     "data": {
      "text/plain": "array([[2.99319685e-01, 3.78204287e-01, 2.60249355e-01, 3.02758484e-01,\n        3.35735142e-01, 3.20384746e-01, 2.96569026e-01, 3.14446245e-01,\n        3.38502320e-01, 5.29905072e-01, 3.08272698e-01, 3.77345490e-01,\n        3.14815730e-01, 6.55954853e-01, 3.00686689e-01, 2.84565466e-01,\n        3.94535675e-01, 2.48362937e-01, 3.04020025e-01, 3.21291795e-01,\n        3.22426194e-01, 2.92110176e-01, 4.14007920e-01, 3.50364095e-07,\n        1.00000000e+00, 1.00000000e+00, 1.00000000e+00, 4.42832764e-05,\n        4.00338571e-01, 4.18402881e-01, 6.50213492e-02, 6.46570572e-01,\n        5.43783963e-01, 5.24077810e-01, 4.40589273e-01, 5.19044524e-01,\n        5.25348764e-01, 9.83800924e-01, 6.41333558e-01, 9.99904234e-01,\n        9.99971867e-01, 8.98090921e-01, 8.50038349e-01, 6.66406088e-01,\n        6.68224295e-01, 7.52752894e-01, 1.00000000e+00, 5.59964912e-01,\n        6.08943870e-01, 6.28145626e-01, 6.23777092e-01, 6.20881739e-01,\n        6.30606700e-01, 6.30606700e-01, 6.31493121e-01, 6.30340592e-01,\n        6.25476427e-01, 6.16972202e-01, 6.15190764e-01, 6.27839497e-01,\n        4.31573528e-01, 3.78619739e-01, 3.55914966e-01, 2.82778300e-01,\n        2.56325067e-01, 4.12221872e-01, 3.42988656e-01, 2.42768222e-01,\n        3.50856954e-01, 3.69085929e-01, 3.43692911e-01, 3.23974700e-01,\n        2.82147730e-01, 3.03646175e-01, 2.77799734e-01, 1.88612804e-01,\n        2.59015235e-01, 4.31842687e-01, 5.73607377e-01, 2.57913732e-01,\n        1.00000000e+00, 1.00000000e+00, 1.00000000e+00, 1.00000000e+00,\n        1.00000000e+00, 1.00000000e+00, 1.00000000e+00, 1.00000000e+00,\n        1.00000000e+00, 1.00000000e+00, 1.00000000e+00, 1.00000000e+00,\n        1.00000000e+00, 1.00000000e+00, 1.00000000e+00, 1.00000000e+00,\n        1.00000000e+00, 1.00000000e+00, 1.00000000e+00, 1.00000000e+00,\n        1.00000000e+00, 1.00000000e+00, 1.00000000e+00, 1.00000000e+00,\n        1.00000000e+00],\n       [2.91605887e-01, 3.40280971e-01, 2.72838458e-01, 3.32983465e-01,\n        2.97369878e-01, 2.61135892e-01, 2.70841456e-01, 2.86378298e-01,\n        2.55276056e-01, 3.78439904e-01, 3.53196792e-01, 2.96685664e-01,\n        2.34846234e-01, 6.35602026e-01, 3.60686010e-01, 2.92371271e-01,\n        3.12565310e-01, 2.45271976e-01, 2.90464013e-01, 2.69882673e-01,\n        3.58088894e-01, 3.18521508e-01, 3.74022121e-01, 3.58900736e-07,\n        1.00000000e+00, 1.00000000e+00, 1.00000000e+00, 4.08843915e-05,\n        3.35299316e-01, 3.29301379e-01, 1.96102622e-01, 6.91540755e-01,\n        4.68190205e-01, 4.43964827e-01, 3.58247090e-01, 4.30821677e-01,\n        4.40765123e-01, 9.76059685e-01, 5.70781415e-01, 9.99433207e-01,\n        9.99977414e-01, 9.03254856e-01, 8.59718935e-01, 7.24810770e-01,\n        7.05471841e-01, 7.33746969e-01, 1.00000000e+00, 5.98986103e-01,\n        6.45609031e-01, 6.59224295e-01, 6.56562905e-01, 6.67206985e-01,\n        6.68040475e-01, 6.68040475e-01, 6.71426453e-01, 6.71504203e-01,\n        6.69244819e-01, 6.67549378e-01, 6.66420661e-01, 6.64793485e-01,\n        3.91821825e-01, 3.42296273e-01, 3.19279519e-01, 2.57895435e-01,\n        2.30168137e-01, 3.65650976e-01, 3.18973795e-01, 2.44547179e-01,\n        2.67166921e-01, 2.96115365e-01, 3.16061534e-01, 3.42437911e-01,\n        3.01336738e-01, 3.21698236e-01, 3.54524065e-01, 1.56663814e-01,\n        2.08968786e-01, 3.56065184e-01, 6.27863240e-01, 2.07414279e-01,\n        1.00000000e+00, 1.00000000e+00, 1.00000000e+00, 1.00000000e+00,\n        1.00000000e+00, 1.00000000e+00, 1.00000000e+00, 1.00000000e+00,\n        1.00000000e+00, 1.00000000e+00, 1.00000000e+00, 1.00000000e+00,\n        1.00000000e+00, 1.00000000e+00, 1.00000000e+00, 1.00000000e+00,\n        1.00000000e+00, 1.00000000e+00, 1.00000000e+00, 1.00000000e+00,\n        1.00000000e+00, 1.00000000e+00, 1.00000000e+00, 1.00000000e+00,\n        1.00000000e+00],\n       [3.53382332e-01, 2.64593189e-01, 3.21673235e-01, 2.39108972e-01,\n        3.17786261e-01, 2.87054685e-01, 2.07052109e-01, 3.66348437e-01,\n        3.50313344e-01, 5.04801906e-01, 3.19811045e-01, 2.56581841e-01,\n        2.78177771e-01, 6.98770286e-01, 2.53009319e-01, 3.54598890e-01,\n        3.00023132e-01, 2.01731692e-01, 2.86500725e-01, 2.36402617e-01,\n        3.65538438e-01, 3.46676863e-01, 3.56026816e-01, 2.57420474e-07,\n        1.00000000e+00, 1.00000000e+00, 1.00000000e+00, 2.96226925e-05,\n        3.06927991e-01, 3.21358091e-01, 3.30181779e-01, 7.12537187e-01,\n        4.41551345e-01, 4.18805819e-01, 3.65914800e-01, 3.92549891e-01,\n        4.05891403e-01, 9.81961383e-01, 5.38445377e-01, 9.99767128e-01,\n        9.99977818e-01, 9.20995305e-01, 8.65758124e-01, 6.64348629e-01,\n        6.56759257e-01, 7.29244551e-01, 1.00000000e+00, 6.19946238e-01,\n        6.90543645e-01, 6.70027816e-01, 6.65946729e-01, 6.56790871e-01,\n        6.70437050e-01, 6.70437050e-01, 6.70726235e-01, 6.70161398e-01,\n        6.62486351e-01, 6.51257459e-01, 6.51661095e-01, 6.62794936e-01,\n        3.70698813e-01, 3.31788377e-01, 2.64059957e-01, 2.56565492e-01,\n        2.36752382e-01, 2.66107416e-01, 3.00209361e-01, 2.05953093e-01,\n        3.51432363e-01, 3.58052841e-01, 2.68099797e-01, 3.51665967e-01,\n        2.06226656e-01, 3.17197460e-01, 2.74003722e-01, 2.07235961e-01,\n        2.45121208e-01, 3.81572259e-01, 6.53192977e-01, 2.43780599e-01,\n        1.00000000e+00, 1.00000000e+00, 1.00000000e+00, 1.00000000e+00,\n        1.00000000e+00, 1.00000000e+00, 1.00000000e+00, 1.00000000e+00,\n        1.00000000e+00, 1.00000000e+00, 1.00000000e+00, 1.00000000e+00,\n        1.00000000e+00, 1.00000000e+00, 1.00000000e+00, 1.00000000e+00,\n        1.00000000e+00, 1.00000000e+00, 1.00000000e+00, 1.00000000e+00,\n        1.00000000e+00, 1.00000000e+00, 1.00000000e+00, 1.00000000e+00,\n        1.00000000e+00],\n       [3.42894329e-01, 3.32685215e-01, 2.11113530e-01, 3.41452483e-01,\n        2.43866887e-01, 3.01930029e-01, 2.85160869e-01, 3.12768710e-01,\n        3.41363231e-01, 4.13783183e-01, 3.47342053e-01, 2.78989062e-01,\n        2.05886837e-01, 7.19457810e-01, 3.28764930e-01, 3.08547654e-01,\n        2.68119388e-01, 2.10996379e-01, 2.88058252e-01, 1.79236808e-01,\n        3.44066772e-01, 3.29384322e-01, 3.67948323e-01, 3.27937235e-07,\n        1.00000000e+00, 1.00000000e+00, 1.00000000e+00, 3.34075655e-05,\n        3.15164373e-01, 2.95680222e-01, 2.57499657e-01, 7.15335528e-01,\n        4.32033868e-01, 4.00900684e-01, 3.08257432e-01, 3.79266683e-01,\n        3.90742026e-01, 9.72518862e-01, 5.24463862e-01, 9.90952971e-01,\n        9.99985979e-01, 9.08174718e-01, 8.59608837e-01, 6.99999220e-01,\n        6.95962190e-01, 7.30916185e-01, 1.00000000e+00, 6.02089729e-01,\n        6.52590363e-01, 6.66815612e-01, 6.61129965e-01, 6.64495150e-01,\n        6.66037179e-01, 6.66037179e-01, 6.65913048e-01, 6.65790796e-01,\n        6.64545687e-01, 6.59501150e-01, 6.60431781e-01, 6.60337149e-01,\n        3.87920949e-01, 3.35307590e-01, 3.09243196e-01, 2.45053417e-01,\n        2.22034208e-01, 3.58380246e-01, 2.95600917e-01, 2.69294553e-01,\n        3.27020673e-01, 3.25887184e-01, 3.02813476e-01, 3.41971486e-01,\n        3.22901418e-01, 2.85634514e-01, 3.47398668e-01, 2.22296985e-01,\n        2.55908379e-01, 3.54175978e-01, 6.56605126e-01, 2.55135319e-01,\n        1.00000000e+00, 1.00000000e+00, 1.00000000e+00, 1.00000000e+00,\n        1.00000000e+00, 1.00000000e+00, 1.00000000e+00, 1.00000000e+00,\n        1.00000000e+00, 1.00000000e+00, 1.00000000e+00, 1.00000000e+00,\n        1.00000000e+00, 1.00000000e+00, 1.00000000e+00, 1.00000000e+00,\n        1.00000000e+00, 1.00000000e+00, 1.00000000e+00, 1.00000000e+00,\n        1.00000000e+00, 1.00000000e+00, 1.00000000e+00, 1.00000000e+00,\n        1.00000000e+00],\n       [3.11041978e-01, 2.70788495e-01, 2.62164028e-01, 1.79715048e-01,\n        2.82883090e-01, 2.54627814e-01, 2.80705928e-01, 2.05824101e-01,\n        2.83461304e-01, 3.49139349e-01, 2.80491542e-01, 3.32196175e-01,\n        1.99730788e-01, 6.27085047e-01, 2.62578450e-01, 2.96888248e-01,\n        2.61334734e-01, 1.86821844e-01, 2.87514984e-01, 1.13352777e-01,\n        2.50632821e-01, 3.03844643e-01, 3.13895785e-01, 2.73355765e-07,\n        1.00000000e+00, 1.00000000e+00, 1.00000000e+00, 3.01926420e-05,\n        2.77184404e-01, 2.61146610e-01, 2.61959437e-01, 7.41400228e-01,\n        3.72865380e-01, 3.46313228e-01, 2.83999985e-01, 3.32165865e-01,\n        3.44423018e-01, 9.71471300e-01, 4.89666708e-01, 9.96263246e-01,\n        9.99984927e-01, 9.18222527e-01, 8.82963697e-01, 7.80705562e-01,\n        7.79384849e-01, 7.85193468e-01, 1.00000000e+00, 6.59792893e-01,\n        7.08145101e-01, 7.09415624e-01, 7.08755782e-01, 7.13523990e-01,\n        7.14147999e-01, 7.14147999e-01, 7.16091963e-01, 7.15609012e-01,\n        7.15375620e-01, 7.11028870e-01, 7.12289191e-01, 7.14550656e-01,\n        3.30978646e-01, 2.86600183e-01, 2.56352253e-01, 2.17909693e-01,\n        1.90291671e-01, 2.85478902e-01, 2.77544910e-01, 2.14685333e-01,\n        2.47243374e-01, 2.41490967e-01, 2.75944775e-01, 2.67888047e-01,\n        3.08374562e-01, 2.31319082e-01, 2.98052449e-01, 1.71565853e-01,\n        1.97140162e-01, 3.04100013e-01, 6.88029693e-01, 1.94463443e-01,\n        1.00000000e+00, 1.00000000e+00, 1.00000000e+00, 1.00000000e+00,\n        1.00000000e+00, 1.00000000e+00, 1.00000000e+00, 1.00000000e+00,\n        1.00000000e+00, 1.00000000e+00, 1.00000000e+00, 1.00000000e+00,\n        1.00000000e+00, 1.00000000e+00, 1.00000000e+00, 1.00000000e+00,\n        1.00000000e+00, 1.00000000e+00, 1.00000000e+00, 1.00000000e+00,\n        1.00000000e+00, 1.00000000e+00, 1.00000000e+00, 1.00000000e+00,\n        1.00000000e+00]])"
     },
     "execution_count": 51,
     "metadata": {},
     "output_type": "execute_result"
    }
   ],
   "source": [
    "# Outputs\n",
    "pf_outputs_normalized, min_pf_output, max_pf_output = min_max_normalize(pf_outputs)\n",
    "\n",
    "pf_outputs_normalized[:5, :]"
   ],
   "metadata": {
    "collapsed": false,
    "ExecuteTime": {
     "end_time": "2024-02-28T14:23:47.777864900Z",
     "start_time": "2024-02-28T14:23:47.718657200Z"
    }
   }
  },
  {
   "cell_type": "code",
   "execution_count": 52,
   "outputs": [],
   "source": [
    "# Save the normalized inputs and outputs to numpy arrays\n",
    "inputs_normalized_path = processed_data_folder / \"pf_inputs_minmax_normalized.npy\"\n",
    "outputs_normalized_path = processed_data_folder / \"pf_outputs_minmax_normalized.npy\"\n",
    "\n",
    "np.save(inputs_normalized_path, pf_inputs_normalized)\n",
    "np.save(outputs_normalized_path, pf_outputs_normalized)\n",
    "\n",
    "# Also, save the min and max values\n",
    "min_max_values = {\n",
    "    \"min_pf_input\": min_pf_input,\n",
    "    \"max_pf_input\": max_pf_input,\n",
    "    \"min_pf_output\": min_pf_output,\n",
    "    \"max_pf_output\": max_pf_output\n",
    "}\n",
    "\n",
    "min_max_values_path = processed_data_folder / \"norm_min_max_values.pkl\"\n",
    "with open(min_max_values_path, \"wb\") as f:\n",
    "    pickle.dump(min_max_values, f)"
   ],
   "metadata": {
    "collapsed": false,
    "ExecuteTime": {
     "end_time": "2024-02-28T14:23:49.716215400Z",
     "start_time": "2024-02-28T14:23:49.653782200Z"
    }
   }
  },
  {
   "cell_type": "markdown",
   "source": [
    "## Get the ground truth data"
   ],
   "metadata": {
    "collapsed": false
   }
  },
  {
   "cell_type": "code",
   "execution_count": 53,
   "outputs": [],
   "source": [
    "# Choose a simulation\n",
    "gt_sim = data_folder / \"simulation_5.pkl\"\n",
    "\n",
    "# Open the minimum and maximum values\n",
    "with open(min_max_values_path, \"rb\") as f:\n",
    "    min_max_values = pickle.load(f)\n",
    "\n",
    "min_pf_input = min_max_values[\"min_pf_input\"]\n",
    "max_pf_input = min_max_values[\"max_pf_input\"]\n",
    "min_pf_output = min_max_values[\"min_pf_output\"]\n",
    "max_pf_output = min_max_values[\"max_pf_output\"]\n",
    "\n",
    "# Do as above and save to a file\n",
    "gt_inputs, gt_outputs = get_pf_data(gt_sim)\n",
    "\n",
    "gt_inputs_normalized, _, _ = min_max_normalize(gt_inputs, min_pf_input, max_pf_input)\n",
    "gt_outputs_normalized, _, _ = min_max_normalize(gt_outputs, min_pf_output, max_pf_output)\n",
    "\n",
    "gt_inputs_normalized_path = processed_data_folder / \"gt_inputs_minmax_normalized.npy\"\n",
    "gt_outputs_normalized_path = processed_data_folder / \"gt_outputs_minmax_normalized.npy\"\n",
    "\n",
    "np.save(gt_inputs_normalized_path, gt_inputs_normalized)\n",
    "np.save(gt_outputs_normalized_path, gt_outputs_normalized)"
   ],
   "metadata": {
    "collapsed": false,
    "ExecuteTime": {
     "end_time": "2024-02-28T14:23:52.704855700Z",
     "start_time": "2024-02-28T14:23:51.104850900Z"
    }
   }
  },
  {
   "cell_type": "code",
   "execution_count": null,
   "outputs": [],
   "source": [],
   "metadata": {
    "collapsed": false
   }
  }
 ],
 "metadata": {
  "kernelspec": {
   "display_name": "Python 3",
   "language": "python",
   "name": "python3"
  },
  "language_info": {
   "codemirror_mode": {
    "name": "ipython",
    "version": 2
   },
   "file_extension": ".py",
   "mimetype": "text/x-python",
   "name": "python",
   "nbconvert_exporter": "python",
   "pygments_lexer": "ipython2",
   "version": "2.7.6"
  }
 },
 "nbformat": 4,
 "nbformat_minor": 0
}
