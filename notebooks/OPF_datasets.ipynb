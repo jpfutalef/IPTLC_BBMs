{
 "cells": [
  {
   "cell_type": "markdown",
   "source": [
    "# Construction of IO dataset for OPF BBMS\n",
    "\n",
    "In this notebook, we aim at constructing\n"
   ],
   "metadata": {
    "collapsed": false
   }
  },
  {
   "cell_type": "code",
   "execution_count": 1,
   "outputs": [
    {
     "name": "stdout",
     "output_type": "stream",
     "text": [
      "Current working directory: D:\\projects\\IPTLC_BBMs\n"
     ]
    }
   ],
   "source": [
    "# Importing libraries\n",
    "import os\n",
    "from pathlib import Path\n",
    "import dill as pickle\n",
    "import matplotlib.pyplot as plt\n",
    "import numpy as np\n",
    "import pandas as pd\n",
    "import tqdm\n",
    "\n",
    "import greyboxmodels.cpsmodels.physical.electrical.PowerFlowPowerGrid as PG\n",
    "import greyboxmodels.cpsmodels.Plant as Plant\n",
    "\n",
    "# Set the working directory\n",
    "os.chdir(\"D:/projects/IPTLC_BBMs\")\n",
    "print(f\"Current working directory: {os.getcwd()}\")"
   ],
   "metadata": {
    "collapsed": false,
    "ExecuteTime": {
     "end_time": "2024-02-28T12:59:14.691709900Z",
     "start_time": "2024-02-28T12:59:11.189424500Z"
    }
   }
  },
  {
   "cell_type": "code",
   "execution_count": 9,
   "outputs": [
    {
     "name": "stdout",
     "output_type": "stream",
     "text": [
      "Data folder: D:\\projects\\Hierarchical_CPS_models\\data\\simulations\\controlled_pg\\20240227_195448\n",
      "Target simulation: D:\\projects\\Hierarchical_CPS_models\\data\\simulations\\controlled_pg\\20240227_195448\\simulation_0.pkl\n",
      "Processed data folder: data\\OPF\\20240227_195448\n"
     ]
    }
   ],
   "source": [
    "# Data folder path\n",
    "data_folder = Path(\"D:/projects/Hierarchical_CPS_models/data/simulations/controlled_pg/20240226_184851/\")\n",
    "\n",
    "# Target simulation\n",
    "target_simulation = \"simulation_0.pkl\"\n",
    "target_simulation = data_folder / target_simulation\n",
    "\n",
    "# Specify the path to save the processed data and create the folder if it doesn't exist\n",
    "processed_data_folder = Path(\"data/OPF/\") / data_folder.name\n",
    "os.makedirs(processed_data_folder, exist_ok=True)\n",
    "\n",
    "# Print the folders\n",
    "print(f\"Data folder: {data_folder}\")\n",
    "print(f\"Target simulation: {target_simulation}\")\n",
    "print(f\"Processed data folder: {processed_data_folder}\")"
   ],
   "metadata": {
    "collapsed": false,
    "ExecuteTime": {
     "end_time": "2024-02-28T13:00:41.043727500Z",
     "start_time": "2024-02-28T13:00:41.033777200Z"
    }
   }
  },
  {
   "cell_type": "code",
   "execution_count": 10,
   "outputs": [
    {
     "data": {
      "text/plain": "dict_keys(['time', 'external_stimuli', 'state', 'step_data', 'plant'])"
     },
     "execution_count": 10,
     "metadata": {},
     "output_type": "execute_result"
    }
   ],
   "source": [
    "# Open the data\n",
    "with open(target_simulation, \"rb\") as f:\n",
    "    sim_data = pickle.load(f)\n",
    "\n",
    "sim_data.keys()"
   ],
   "metadata": {
    "collapsed": false,
    "ExecuteTime": {
     "end_time": "2024-02-28T13:00:43.609776600Z",
     "start_time": "2024-02-28T13:00:41.853664900Z"
    }
   }
  },
  {
   "cell_type": "code",
   "execution_count": 11,
   "outputs": [
    {
     "data": {
      "text/plain": "dict_keys(['time', 'state_pre_update', 'state_post_update', 'power_demands', 'cc_input', 'opf_cost', 'pg_control_input', 'pg_response', 'power_grid_step_data', 'control_center_step_data'])"
     },
     "execution_count": 11,
     "metadata": {},
     "output_type": "execute_result"
    }
   ],
   "source": [
    "sim_data['step_data'][0].keys() # CC input: 'cc_input'. CC output: 'pg_control_input'"
   ],
   "metadata": {
    "collapsed": false,
    "ExecuteTime": {
     "end_time": "2024-02-28T13:00:44.629606500Z",
     "start_time": "2024-02-28T13:00:44.610293100Z"
    }
   }
  },
  {
   "cell_type": "code",
   "execution_count": 12,
   "outputs": [
    {
     "data": {
      "text/plain": "<greyboxmodels.cpsmodels.cyberphysical.ControlledPowerGrid.ControlledPowerGrid.ControlledPowerGrid at 0x2200d87fa60>"
     },
     "execution_count": 12,
     "metadata": {},
     "output_type": "execute_result"
    }
   ],
   "source": [
    "# Open the plant\n",
    "with open(data_folder / \"plant.pkl\", \"rb\") as f:\n",
    "    plant = pickle.load(f)\n",
    "\n",
    "plant"
   ],
   "metadata": {
    "collapsed": false,
    "ExecuteTime": {
     "end_time": "2024-02-28T13:00:45.249718200Z",
     "start_time": "2024-02-28T13:00:45.202462Z"
    }
   }
  },
  {
   "cell_type": "code",
   "execution_count": 13,
   "outputs": [],
   "source": [
    "# Get the power grid and the control center\n",
    "power_grid = plant.power_grid\n",
    "control_center = plant.control_center"
   ],
   "metadata": {
    "collapsed": false,
    "ExecuteTime": {
     "end_time": "2024-02-28T13:00:45.894777800Z",
     "start_time": "2024-02-28T13:00:45.876702Z"
    }
   }
  },
  {
   "cell_type": "code",
   "execution_count": 14,
   "outputs": [
    {
     "name": "stdout",
     "output_type": "stream",
     "text": [
      "Power grid states: ['Pd 0', 'Pd 1', 'Pd 2', 'Pd 3', 'Pd 4', 'Pd 5', 'Pd 6', 'Pd 7', 'Pd 8', 'Pd 9', 'Pd 10', 'Qd 0', 'Qd 1', 'Qd 2', 'Qd 3', 'Qd 4', 'Qd 5', 'Qd 6', 'Qd 7', 'Qd 8', 'Qd 9', 'Qd 10', 'Pg 0', 'Pg 1', 'Pg 2', 'Pg 3', 'Pg 4', 'Qg 0', 'Qg 1', 'Qg 2', 'Qg 3', 'Qg 4', 'Vm 0', 'Vm 1', 'Vm 2', 'Vm 3', 'Vm 4', 'Vm 5', 'Vm 6', 'Vm 7', 'Vm 8', 'Vm 9', 'Vm 10', 'Vm 11', 'Vm 12', 'Vm 13', 'Va 0', 'Va 1', 'Va 2', 'Va 3', 'Va 4', 'Va 5', 'Va 6', 'Va 7', 'Va 8', 'Va 9', 'Va 10', 'Va 11', 'Va 12', 'Va 13', 'ILine 0', 'ILine 1', 'ILine 2', 'ILine 3', 'ILine 4', 'ILine 5', 'ILine 6', 'ILine 7', 'ILine 8', 'ILine 9', 'ILine 10', 'ILine 11', 'ILine 12', 'ILine 13', 'ILine 14', 'LTrafo 0', 'LTrafo 1', 'LTrafo 2', 'LTrafo 3', 'LTrafo 4', 'piGen 0', 'piGen 1', 'piGen 2', 'piGen 3', 'piGen 4', 'piLine 0', 'piLine 1', 'piLine 2', 'piLine 3', 'piLine 4', 'piLine 5', 'piLine 6', 'piLine 7', 'piLine 8', 'piLine 9', 'piLine 10', 'piLine 11', 'piLine 12', 'piLine 13', 'piLine 14', 'piTrafo 0', 'piTrafo 1', 'piTrafo 2', 'piTrafo 3', 'piTrafo 4']\n",
      "\n",
      "Power grid external stimuli: ['Pd 0', 'Pd 1', 'Pd 2', 'Pd 3', 'Pd 4', 'Pd 5', 'Pd 6', 'Pd 7', 'Pd 8', 'Pd 9', 'Pd 10', 'Qd 0', 'Qd 1', 'Qd 2', 'Qd 3', 'Qd 4', 'Qd 5', 'Qd 6', 'Qd 7', 'Qd 8', 'Qd 9', 'Qd 10']\n",
      "\n",
      "Power grid control inputs: ['Va_gen 0', 'Va_gen 1', 'Pg_gen 0', 'Pg_gen 1', 'Vm_gen 0', 'Vm_gen 1', 'Vm_sc 0', 'Vm_sc 1', 'Vm_sc 2']\n",
      "\n",
      "Control center states: ['Va_gen 0', 'Va_gen 1', 'Pg_gen 0', 'Pg_gen 1', 'Vm_gen 0', 'Vm_gen 1', 'Vm_sc 0', 'Vm_sc 1', 'Vm_sc 2']\n",
      "\n",
      "Control center control inputs: ['Pd 0', 'Pd 1', 'Pd 2', 'Pd 3', 'Pd 4', 'Pd 5', 'Pd 6', 'Pd 7', 'Pd 8', 'Pd 9', 'Pd 10', 'Qd 0', 'Qd 1', 'Qd 2', 'Qd 3', 'Qd 4', 'Qd 5', 'Qd 6', 'Qd 7', 'Qd 8', 'Qd 9', 'Qd 10', 'Vm 0', 'Vm 1', 'Vm 2', 'Vm 3', 'Vm 4', 'Vm 5', 'Vm 6', 'Vm 7', 'Vm 8', 'Vm 9', 'Vm 10', 'Vm 11', 'Vm 12', 'Vm 13', 'Va 0', 'Va 1', 'Va 2', 'Va 3', 'Va 4', 'Va 5', 'Va 6', 'Va 7', 'Va 8', 'Va 9', 'Va 10', 'Va 11', 'Va 12', 'Va 13', 'piGen 0', 'piGen 1', 'piGen 2', 'piGen 3', 'piGen 4', 'piLine 0', 'piLine 1', 'piLine 2', 'piLine 3', 'piLine 4', 'piLine 5', 'piLine 6', 'piLine 7', 'piLine 8', 'piLine 9', 'piLine 10', 'piLine 11', 'piLine 12', 'piLine 13', 'piLine 14', 'piTrafo 0', 'piTrafo 1', 'piTrafo 2', 'piTrafo 3', 'piTrafo 4']\n",
      "\n"
     ]
    }
   ],
   "source": [
    "# Get the name of the states\n",
    "# name_mapping = {'Pd': 'Active power demand',\n",
    "#                 'Qd': 'Reactive power demand',\n",
    "#                 'Pg': 'Active power generation',\n",
    "#                 'Qg': 'Reactive power generation',\n",
    "#                 'Vm': 'Voltage magnitude',\n",
    "#                 'Va': 'Voltage angle',\n",
    "#                 'ILine': 'Line current',\n",
    "#                 'LTrafo': 'Transformer loading',\n",
    "#                 'piGen': 'Generator status',\n",
    "#                 'piLine': 'Line status',\n",
    "#                 'piTrafo': 'Transformer status'}\n",
    "name_mapping = None\n",
    "\n",
    "pg_states = Plant.get_variables_names(plant.power_grid.state_idx, name_mapping)\n",
    "pg_ext_stims = Plant.get_variables_names(plant.power_grid.uncontrolled_inputs_idx, name_mapping)\n",
    "pg_cont_inputs = Plant.get_variables_names(plant.power_grid.controlled_inputs_idx, name_mapping)\n",
    "\n",
    "cc_states = Plant.get_variables_names(plant.control_center.state_idx, name_mapping)\n",
    "cc_cont_inputs = Plant.get_variables_names(plant.control_center.controlled_inputs_idx, name_mapping)\n",
    "\n",
    "print(f\"Power grid states: {pg_states}\\n\")\n",
    "print(f\"Power grid external stimuli: {pg_ext_stims}\\n\")\n",
    "print(f\"Power grid control inputs: {pg_cont_inputs}\\n\")\n",
    "\n",
    "print(f\"Control center states: {cc_states}\\n\")\n",
    "print(f\"Control center control inputs: {cc_cont_inputs}\\n\")"
   ],
   "metadata": {
    "collapsed": false,
    "ExecuteTime": {
     "end_time": "2024-02-28T13:00:46.930772900Z",
     "start_time": "2024-02-28T13:00:46.899338200Z"
    }
   }
  },
  {
   "cell_type": "code",
   "execution_count": 15,
   "outputs": [
    {
     "data": {
      "text/plain": "dict_keys(['opf_options', 'opf_input', 'opf_output'])"
     },
     "execution_count": 15,
     "metadata": {},
     "output_type": "execute_result"
    }
   ],
   "source": [
    "sim_data['step_data'][0]['control_center_step_data'].keys()"
   ],
   "metadata": {
    "collapsed": false,
    "ExecuteTime": {
     "end_time": "2024-02-28T13:00:47.911292900Z",
     "start_time": "2024-02-28T13:00:47.894433600Z"
    }
   }
  },
  {
   "cell_type": "code",
   "execution_count": 16,
   "outputs": [
    {
     "name": "stdout",
     "output_type": "stream",
     "text": [
      "CC inputs shape: (384, 51)\n",
      "CC outputs shape: (384, 9)\n"
     ]
    }
   ],
   "source": [
    "# Get inputs and outputs\n",
    "opf_inputs = np.array([x['control_center_step_data'][\"opf_input\"] for x in sim_data['step_data']])\n",
    "opf_outputs = np.array([x['control_center_step_data'][\"opf_output\"] for x in sim_data['step_data']])\n",
    "\n",
    "# Shapes\n",
    "print(f\"CC inputs shape: {opf_inputs.shape}\")\n",
    "print(f\"CC outputs shape: {opf_outputs.shape}\")"
   ],
   "metadata": {
    "collapsed": false,
    "ExecuteTime": {
     "end_time": "2024-02-28T13:00:48.729521700Z",
     "start_time": "2024-02-28T13:00:48.713800600Z"
    }
   }
  },
  {
   "cell_type": "code",
   "execution_count": 17,
   "outputs": [
    {
     "name": "stdout",
     "output_type": "stream",
     "text": [
      "Testing the file: D:\\projects\\Hierarchical_CPS_models\\data\\simulations\\controlled_pg\\20240227_195448\\simulation_0.pkl\n",
      "CC inputs shape: (384, 51)\n",
      "CC outputs shape: (384, 9)\n"
     ]
    }
   ],
   "source": [
    "# Create a function that receives a path to a simulation and returns the inputs and outputs\n",
    "def get_opf_data(filepath: Path):\n",
    "    # Open the data\n",
    "    with open(filepath, \"rb\") as f:\n",
    "        sim_data = pickle.load(f)\n",
    "\n",
    "    # Get the inputs and outputs\n",
    "    opf_inputs = np.array([x['control_center_step_data'][\"opf_input\"] for x in sim_data['step_data']])\n",
    "    opf_outputs = np.array([x['control_center_step_data'][\"opf_output\"] for x in sim_data['step_data']])\n",
    "\n",
    "    return opf_inputs, opf_outputs\n",
    "\n",
    "# Test the function\n",
    "opf_inputs, opf_outputs = get_opf_data(target_simulation)\n",
    "print(f\"Testing the file: {target_simulation}\")\n",
    "print(f\"CC inputs shape: {opf_inputs.shape}\")\n",
    "print(f\"CC outputs shape: {opf_outputs.shape}\")"
   ],
   "metadata": {
    "collapsed": false,
    "ExecuteTime": {
     "end_time": "2024-02-28T13:00:51.549541Z",
     "start_time": "2024-02-28T13:00:49.523783100Z"
    }
   }
  },
  {
   "cell_type": "code",
   "execution_count": 18,
   "outputs": [
    {
     "name": "stderr",
     "output_type": "stream",
     "text": [
      "100%|██████████| 132/132 [02:16<00:00,  1.03s/it]"
     ]
    },
    {
     "name": "stdout",
     "output_type": "stream",
     "text": [
      "CC inputs shape: (50688, 51)\n",
      "CC outputs shape: (50688, 9)\n"
     ]
    },
    {
     "name": "stderr",
     "output_type": "stream",
     "text": [
      "\n"
     ]
    }
   ],
   "source": [
    "# Now, a function that iterates over all the simulations and returns the inputs and outputs in a single numpy array\n",
    "def get_opf_data_all(data_folder: Path):\n",
    "    # Create an empty list to store the inputs and outputs\n",
    "    inputs = []\n",
    "    outputs = []\n",
    "\n",
    "    # Create a list of the target folders: they are called \"simulation_0.pkl\", \"simulation_1.pkl\", etc.\n",
    "    target_folders = [f for f in data_folder.iterdir() if f.is_file() and f.name.startswith(\"simulation\")]\n",
    "\n",
    "    # Iterate over all the simulations and get the inputs and outputs for each one\n",
    "    for f in tqdm.tqdm(target_folders):\n",
    "        # Get the inputs and outputs\n",
    "        opf_inputs, opf_outputs = get_opf_data(f)\n",
    "\n",
    "        # Append the inputs and outputs to the lists\n",
    "        inputs.append(opf_inputs)\n",
    "        outputs.append(opf_outputs)\n",
    "\n",
    "    # Concatenate the inputs and outputs\n",
    "    inputs_matrix = np.concatenate(inputs, axis=0)\n",
    "    outputs_matrix = np.concatenate(outputs, axis=0)\n",
    "\n",
    "    # Get the plant\n",
    "    with open(data_folder / \"plant.pkl\", \"rb\") as f:\n",
    "        plant = pickle.load(f)\n",
    "\n",
    "    return inputs_matrix, outputs_matrix, plant\n",
    "\n",
    "# Test the function\n",
    "opf_inputs, opf_outputs, plant = get_opf_data_all(data_folder)\n",
    "print(f\"CC inputs shape: {opf_inputs.shape}\")\n",
    "print(f\"CC outputs shape: {opf_outputs.shape}\")"
   ],
   "metadata": {
    "collapsed": false,
    "ExecuteTime": {
     "end_time": "2024-02-28T13:03:07.870768700Z",
     "start_time": "2024-02-28T13:00:51.557711900Z"
    }
   }
  },
  {
   "cell_type": "code",
   "execution_count": 19,
   "outputs": [],
   "source": [
    "# Save the inputs and outputs to numpy arrays\n",
    "inputs_path = processed_data_folder / \"opf_inputs.npy\"\n",
    "outputs_path = processed_data_folder / \"opf_outputs.npy\"\n",
    "\n",
    "np.save(inputs_path, opf_inputs)\n",
    "np.save(outputs_path, opf_outputs)"
   ],
   "metadata": {
    "collapsed": false,
    "ExecuteTime": {
     "end_time": "2024-02-28T13:34:52.427363100Z",
     "start_time": "2024-02-28T13:34:52.395624400Z"
    }
   }
  },
  {
   "cell_type": "markdown",
   "source": [
    "## Normalize the inputs and outputs"
   ],
   "metadata": {
    "collapsed": false
   }
  },
  {
   "cell_type": "code",
   "execution_count": 20,
   "outputs": [],
   "source": [
    "# Create a function to normalize an array as above\n",
    "def min_max_normalize(array: np.ndarray, min_array: np.ndarray = None, max_array: np.ndarray = None):\n",
    "    if min_array is None:\n",
    "        min_array = array.min(axis=0)\n",
    "        max_array = array.max(axis=0)\n",
    "\n",
    "        min_array[min_array == max_array] = min_array[min_array == max_array] - 1\n",
    "        max_array[min_array == max_array] = max_array[min_array == max_array]\n",
    "\n",
    "    array_normalized = (array - min_array) / (max_array - min_array)\n",
    "\n",
    "    return array_normalized, min_array, max_array"
   ],
   "metadata": {
    "collapsed": false,
    "ExecuteTime": {
     "end_time": "2024-02-28T13:34:54.513028900Z",
     "start_time": "2024-02-28T13:34:54.497395400Z"
    }
   }
  },
  {
   "cell_type": "code",
   "execution_count": 21,
   "outputs": [
    {
     "data": {
      "text/plain": "array([[0.29931968, 0.37820429, 0.26024936, 0.30275848, 0.33573514,\n        0.32038475, 0.29656903, 0.31444624, 0.33850232, 0.52990507,\n        0.3082727 , 0.37734549, 0.31481573, 0.65595485, 0.30068669,\n        0.28456547, 0.39453568, 0.24836294, 0.30402003, 0.32129179,\n        0.32242619, 0.29211018, 0.45665973, 0.4357286 , 1.        ,\n        0.61614573, 1.        , 1.        , 1.        , 1.        ,\n        1.        , 1.        , 1.        , 1.        , 1.        ,\n        1.        , 1.        , 1.        , 1.        , 1.        ,\n        1.        , 1.        , 1.        , 1.        , 1.        ,\n        1.        , 1.        , 1.        , 1.        , 1.        ,\n        1.        ],\n       [0.29160589, 0.34028097, 0.27283846, 0.33298346, 0.29736988,\n        0.26113589, 0.27084146, 0.2863783 , 0.25527606, 0.3784399 ,\n        0.35319679, 0.29668566, 0.23484623, 0.63560203, 0.36068601,\n        0.29237127, 0.31256531, 0.24527198, 0.29046401, 0.26988267,\n        0.35808889, 0.31852151, 0.54378396, 0.52407781, 1.        ,\n        0.55996491, 1.        , 1.        , 1.        , 1.        ,\n        1.        , 1.        , 1.        , 1.        , 1.        ,\n        1.        , 1.        , 1.        , 1.        , 1.        ,\n        1.        , 1.        , 1.        , 1.        , 1.        ,\n        1.        , 1.        , 1.        , 1.        , 1.        ,\n        1.        ],\n       [0.35338233, 0.26459319, 0.32167323, 0.23910897, 0.31778626,\n        0.28705469, 0.20705211, 0.36634844, 0.35031334, 0.50480191,\n        0.31981104, 0.25658184, 0.27817777, 0.69877029, 0.25300932,\n        0.35459889, 0.30002313, 0.20173169, 0.28650072, 0.23640262,\n        0.36553844, 0.34667686, 0.46819021, 0.44396483, 1.        ,\n        0.5989861 , 1.        , 1.        , 1.        , 1.        ,\n        1.        , 1.        , 1.        , 1.        , 1.        ,\n        1.        , 1.        , 1.        , 1.        , 1.        ,\n        1.        , 1.        , 1.        , 1.        , 1.        ,\n        1.        , 1.        , 1.        , 1.        , 1.        ,\n        1.        ],\n       [0.34289433, 0.33268521, 0.21111353, 0.34145248, 0.24386689,\n        0.30193003, 0.28516087, 0.31276871, 0.34136323, 0.41378318,\n        0.34734205, 0.27898906, 0.20588684, 0.71945781, 0.32876493,\n        0.30854765, 0.26811939, 0.21099638, 0.28805825, 0.17923681,\n        0.34406677, 0.32938432, 0.44155134, 0.41880582, 1.        ,\n        0.61994624, 1.        , 1.        , 1.        , 1.        ,\n        1.        , 1.        , 1.        , 1.        , 1.        ,\n        1.        , 1.        , 1.        , 1.        , 1.        ,\n        1.        , 1.        , 1.        , 1.        , 1.        ,\n        1.        , 1.        , 1.        , 1.        , 1.        ,\n        1.        ],\n       [0.31104198, 0.2707885 , 0.26216403, 0.17971505, 0.28288309,\n        0.25462781, 0.28070593, 0.2058241 , 0.2834613 , 0.34913935,\n        0.28049154, 0.33219617, 0.19973079, 0.62708505, 0.26257845,\n        0.29688825, 0.26133473, 0.18682184, 0.28751498, 0.11335278,\n        0.25063282, 0.30384464, 0.43203387, 0.40090068, 1.        ,\n        0.60208973, 1.        , 1.        , 1.        , 1.        ,\n        1.        , 1.        , 1.        , 1.        , 1.        ,\n        1.        , 1.        , 1.        , 1.        , 1.        ,\n        1.        , 1.        , 1.        , 1.        , 1.        ,\n        1.        , 1.        , 1.        , 1.        , 1.        ,\n        1.        ]])"
     },
     "execution_count": 21,
     "metadata": {},
     "output_type": "execute_result"
    }
   ],
   "source": [
    "# Inputs\n",
    "opf_inputs_normalized, min_opf_input, max_opf_input = min_max_normalize(opf_inputs)\n",
    "\n",
    "opf_inputs_normalized[:5, :]"
   ],
   "metadata": {
    "collapsed": false,
    "ExecuteTime": {
     "end_time": "2024-02-28T13:34:55.538739500Z",
     "start_time": "2024-02-28T13:34:55.493687100Z"
    }
   }
  },
  {
   "cell_type": "code",
   "execution_count": 22,
   "outputs": [
    {
     "data": {
      "text/plain": "array([[1.00000000e+00, 5.59964457e-01, 4.14008139e-01, 3.50364095e-07,\n        5.43783963e-01, 5.24077810e-01, 4.40589273e-01, 9.83800924e-01,\n        9.99904234e-01],\n       [1.00000000e+00, 5.98985631e-01, 3.74022344e-01, 3.58900736e-07,\n        4.68190205e-01, 4.43964827e-01, 3.58247090e-01, 9.76059685e-01,\n        9.99433207e-01],\n       [1.00000000e+00, 6.19945746e-01, 3.56027044e-01, 2.57420474e-07,\n        4.41551345e-01, 4.18805819e-01, 3.65914800e-01, 9.81961383e-01,\n        9.99767128e-01],\n       [1.00000000e+00, 6.02089323e-01, 3.67948527e-01, 3.27937235e-07,\n        4.32033868e-01, 4.00900684e-01, 3.08257432e-01, 9.72518862e-01,\n        9.90952971e-01],\n       [1.00000000e+00, 6.59792423e-01, 3.13896004e-01, 2.73355765e-07,\n        3.72865380e-01, 3.46313228e-01, 2.83999985e-01, 9.71471300e-01,\n        9.96263246e-01]])"
     },
     "execution_count": 22,
     "metadata": {},
     "output_type": "execute_result"
    }
   ],
   "source": [
    "# Outputs\n",
    "opf_outputs_normalized, min_opf_output, max_opf_output = min_max_normalize(opf_outputs)\n",
    "\n",
    "opf_outputs_normalized[:5, :]"
   ],
   "metadata": {
    "collapsed": false,
    "ExecuteTime": {
     "end_time": "2024-02-28T13:34:57.049293600Z",
     "start_time": "2024-02-28T13:34:56.994558500Z"
    }
   }
  },
  {
   "cell_type": "code",
   "execution_count": 23,
   "outputs": [],
   "source": [
    "# Save the normalized inputs and outputs to numpy arrays\n",
    "inputs_normalized_path = processed_data_folder / \"opf_inputs_minmax_normalized.npy\"\n",
    "outputs_normalized_path = processed_data_folder / \"opf_outputs_minmax_normalized.npy\"\n",
    "\n",
    "np.save(inputs_normalized_path, opf_inputs_normalized)\n",
    "np.save(outputs_normalized_path, opf_outputs_normalized)\n",
    "\n",
    "# Also, save the min and max values\n",
    "min_max_values = {\"min_opf_input\": min_opf_input,\n",
    "                  \"max_opf_input\": max_opf_input,\n",
    "                  \"min_opf_output\": min_opf_output,\n",
    "                  \"max_opf_output\": max_opf_output}\n",
    "\n",
    "min_max_values_path = processed_data_folder / \"norm_min_max_values.pkl\"\n",
    "with open(min_max_values_path, \"wb\") as f:\n",
    "    pickle.dump(min_max_values, f)"
   ],
   "metadata": {
    "collapsed": false,
    "ExecuteTime": {
     "end_time": "2024-02-28T13:34:58.789643800Z",
     "start_time": "2024-02-28T13:34:58.553940100Z"
    }
   }
  },
  {
   "cell_type": "markdown",
   "source": [
    "# Ground truth data"
   ],
   "metadata": {
    "collapsed": false,
    "ExecuteTime": {
     "end_time": "2024-02-28T15:15:02.099868800Z",
     "start_time": "2024-02-28T15:15:02.021323600Z"
    }
   },
   "outputs": [
    {
     "data": {
      "text/plain": "['Va_gen 0',\n 'Va_gen 1',\n 'Pg_gen 0',\n 'Pg_gen 1',\n 'Vm_gen 0',\n 'Vm_gen 1',\n 'Vm_sc 0',\n 'Vm_sc 1',\n 'Vm_sc 2']"
     },
     "execution_count": 25,
     "metadata": {},
     "output_type": "execute_result"
    }
   ],
   "execution_count": 25
  },
  {
   "cell_type": "code",
   "execution_count": 31,
   "outputs": [],
   "source": [
    "# Choose a simulation\n",
    "gt_sim = data_folder / \"simulation_5.pkl\"\n",
    "\n",
    "# Open the minimum and maximum values\n",
    "with open(min_max_values_path, \"rb\") as f:\n",
    "    min_max_values = pickle.load(f)\n",
    "\n",
    "min_opf_input = min_max_values[\"min_opf_input\"]\n",
    "max_opf_input = min_max_values[\"max_opf_input\"]\n",
    "min_opf_output = min_max_values[\"min_opf_output\"]\n",
    "max_opf_output = min_max_values[\"max_opf_output\"]\n",
    "\n",
    "# Do as above and save to a file\n",
    "gt_inputs, gt_outputs = get_opf_data(gt_sim)\n",
    "\n",
    "gt_inputs_normalized, _, _ = min_max_normalize(gt_inputs, min_opf_input, max_opf_input)\n",
    "gt_outputs_normalized, _, _ = min_max_normalize(gt_outputs, min_opf_output, max_opf_output)\n",
    "\n",
    "gt_inputs_normalized_path = processed_data_folder / \"gt_inputs_minmax_normalized.npy\"\n",
    "gt_outputs_normalized_path = processed_data_folder / \"gt_outputs_minmax_normalized.npy\"\n",
    "\n",
    "np.save(gt_inputs_normalized_path, gt_inputs_normalized)\n",
    "np.save(gt_outputs_normalized_path, gt_outputs_normalized)"
   ],
   "metadata": {
    "collapsed": false,
    "ExecuteTime": {
     "end_time": "2024-02-26T19:33:58.921414600Z",
     "start_time": "2024-02-26T19:33:57.142281900Z"
    }
   }
  },
  {
   "cell_type": "code",
   "execution_count": null,
   "outputs": [],
   "source": [],
   "metadata": {
    "collapsed": false
   }
  }
 ],
 "metadata": {
  "kernelspec": {
   "display_name": "Python 3",
   "language": "python",
   "name": "python3"
  },
  "language_info": {
   "codemirror_mode": {
    "name": "ipython",
    "version": 2
   },
   "file_extension": ".py",
   "mimetype": "text/x-python",
   "name": "python",
   "nbconvert_exporter": "python",
   "pygments_lexer": "ipython2",
   "version": "2.7.6"
  }
 },
 "nbformat": 4,
 "nbformat_minor": 0
}
