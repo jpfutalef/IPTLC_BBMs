{
 "cells": [
  {
   "cell_type": "markdown",
   "source": [
    "# Construction of IO dataset for OPF BBMS\n",
    "\n",
    "In this notebook, we aim at constructing\n"
   ],
   "metadata": {
    "collapsed": false
   }
  },
  {
   "cell_type": "code",
   "execution_count": 5,
   "outputs": [
    {
     "name": "stdout",
     "output_type": "stream",
     "text": [
      "Current working directory: D:\\projects\\IPTLC_BBMs\n"
     ]
    }
   ],
   "source": [
    "# Importing libraries\n",
    "import os\n",
    "from pathlib import Path\n",
    "import dill as pickle\n",
    "import matplotlib.pyplot as plt\n",
    "import numpy as np\n",
    "import pandas as pd\n",
    "import tqdm\n",
    "\n",
    "import greyboxmodels.cpsmodels.physical.electrical.PowerFlowPowerGrid as PG\n",
    "import greyboxmodels.cpsmodels.Plant as Plant\n",
    "\n",
    "# Set the working directory\n",
    "os.chdir(\"D:/projects/IPTLC_BBMs\")\n",
    "print(f\"Current working directory: {os.getcwd()}\")"
   ],
   "metadata": {
    "collapsed": false,
    "ExecuteTime": {
     "end_time": "2024-02-26T19:29:08.147787600Z",
     "start_time": "2024-02-26T19:29:08.135280Z"
    }
   }
  },
  {
   "cell_type": "code",
   "execution_count": 6,
   "outputs": [
    {
     "name": "stdout",
     "output_type": "stream",
     "text": [
      "Data folder: D:\\projects\\Hierarchical_CPS_models\\data\\simulations\\controlled_pg\\20240226_184851\n",
      "Target simulation: D:\\projects\\Hierarchical_CPS_models\\data\\simulations\\controlled_pg\\20240226_184851\\simulation_0.pkl\n",
      "Processed data folder: data\\OPF\\20240226_184851\n"
     ]
    }
   ],
   "source": [
    "# Data folder path\n",
    "data_folder = Path(\"D:/projects/Hierarchical_CPS_models/data/simulations/controlled_pg/20240226_184851/\")\n",
    "\n",
    "# Target simulation\n",
    "target_simulation = \"simulation_0.pkl\"\n",
    "target_simulation = data_folder / target_simulation\n",
    "\n",
    "# Specify the path to save the processed data and create the folder if it doesn't exist\n",
    "processed_data_folder = Path(\"data/OPF/\") / data_folder.name\n",
    "os.makedirs(processed_data_folder, exist_ok=True)\n",
    "\n",
    "# Print the folders\n",
    "print(f\"Data folder: {data_folder}\")\n",
    "print(f\"Target simulation: {target_simulation}\")\n",
    "print(f\"Processed data folder: {processed_data_folder}\")"
   ],
   "metadata": {
    "collapsed": false,
    "ExecuteTime": {
     "end_time": "2024-02-26T19:29:09.074028900Z",
     "start_time": "2024-02-26T19:29:09.060518900Z"
    }
   }
  },
  {
   "cell_type": "code",
   "execution_count": 7,
   "outputs": [
    {
     "data": {
      "text/plain": "dict_keys(['time', 'external_stimuli', 'state', 'step_data', 'plant'])"
     },
     "execution_count": 7,
     "metadata": {},
     "output_type": "execute_result"
    }
   ],
   "source": [
    "# Open the data\n",
    "with open(target_simulation, \"rb\") as f:\n",
    "    sim_data = pickle.load(f)\n",
    "\n",
    "sim_data.keys()"
   ],
   "metadata": {
    "collapsed": false,
    "ExecuteTime": {
     "end_time": "2024-02-26T19:29:12.386949900Z",
     "start_time": "2024-02-26T19:29:10.194363700Z"
    }
   }
  },
  {
   "cell_type": "code",
   "execution_count": 8,
   "outputs": [
    {
     "data": {
      "text/plain": "dict_keys(['time', 'state_pre_update', 'state_post_update', 'power_demands', 'cc_input', 'opf_cost', 'pg_control_input', 'pg_response', 'power_grid_step_data', 'control_center_step_data'])"
     },
     "execution_count": 8,
     "metadata": {},
     "output_type": "execute_result"
    }
   ],
   "source": [
    "sim_data['step_data'][0].keys() # CC input: 'cc_input'. CC output: 'pg_control_input'"
   ],
   "metadata": {
    "collapsed": false,
    "ExecuteTime": {
     "end_time": "2024-02-26T19:29:12.397462200Z",
     "start_time": "2024-02-26T19:29:12.386949900Z"
    }
   }
  },
  {
   "cell_type": "code",
   "execution_count": 9,
   "outputs": [
    {
     "data": {
      "text/plain": "<greyboxmodels.cpsmodels.cyberphysical.ControlledPowerGrid.ControlledPowerGrid.ControlledPowerGrid at 0x271cf3d3d90>"
     },
     "execution_count": 9,
     "metadata": {},
     "output_type": "execute_result"
    }
   ],
   "source": [
    "# Open the plant\n",
    "with open(data_folder / \"plant.pkl\", \"rb\") as f:\n",
    "    plant = pickle.load(f)\n",
    "\n",
    "plant"
   ],
   "metadata": {
    "collapsed": false,
    "ExecuteTime": {
     "end_time": "2024-02-26T19:29:12.630747700Z",
     "start_time": "2024-02-26T19:29:12.552610300Z"
    }
   }
  },
  {
   "cell_type": "code",
   "execution_count": 10,
   "outputs": [],
   "source": [
    "# Get the power grid and the control center\n",
    "power_grid = plant.power_grid\n",
    "control_center = plant.control_center"
   ],
   "metadata": {
    "collapsed": false,
    "ExecuteTime": {
     "end_time": "2024-02-26T19:29:13.577961600Z",
     "start_time": "2024-02-26T19:29:13.568940100Z"
    }
   }
  },
  {
   "cell_type": "code",
   "execution_count": 11,
   "outputs": [
    {
     "name": "stdout",
     "output_type": "stream",
     "text": [
      "Power grid states: ['Pd 0', 'Pd 1', 'Pd 2', 'Pd 3', 'Pd 4', 'Pd 5', 'Pd 6', 'Pd 7', 'Pd 8', 'Pd 9', 'Pd 10', 'Qd 0', 'Qd 1', 'Qd 2', 'Qd 3', 'Qd 4', 'Qd 5', 'Qd 6', 'Qd 7', 'Qd 8', 'Qd 9', 'Qd 10', 'Pg 0', 'Pg 1', 'Pg 2', 'Pg 3', 'Pg 4', 'Qg 0', 'Qg 1', 'Qg 2', 'Qg 3', 'Qg 4', 'Vm 0', 'Vm 1', 'Vm 2', 'Vm 3', 'Vm 4', 'Vm 5', 'Vm 6', 'Vm 7', 'Vm 8', 'Vm 9', 'Vm 10', 'Vm 11', 'Vm 12', 'Vm 13', 'Va 0', 'Va 1', 'Va 2', 'Va 3', 'Va 4', 'Va 5', 'Va 6', 'Va 7', 'Va 8', 'Va 9', 'Va 10', 'Va 11', 'Va 12', 'Va 13', 'ILine 0', 'ILine 1', 'ILine 2', 'ILine 3', 'ILine 4', 'ILine 5', 'ILine 6', 'ILine 7', 'ILine 8', 'ILine 9', 'ILine 10', 'ILine 11', 'ILine 12', 'ILine 13', 'ILine 14', 'LTrafo 0', 'LTrafo 1', 'LTrafo 2', 'LTrafo 3', 'LTrafo 4', 'piGen 0', 'piGen 1', 'piGen 2', 'piGen 3', 'piGen 4', 'piLine 0', 'piLine 1', 'piLine 2', 'piLine 3', 'piLine 4', 'piLine 5', 'piLine 6', 'piLine 7', 'piLine 8', 'piLine 9', 'piLine 10', 'piLine 11', 'piLine 12', 'piLine 13', 'piLine 14', 'piTrafo 0', 'piTrafo 1', 'piTrafo 2', 'piTrafo 3', 'piTrafo 4']\n",
      "\n",
      "Power grid external stimuli: ['Pd 0', 'Pd 1', 'Pd 2', 'Pd 3', 'Pd 4', 'Pd 5', 'Pd 6', 'Pd 7', 'Pd 8', 'Pd 9', 'Pd 10', 'Qd 0', 'Qd 1', 'Qd 2', 'Qd 3', 'Qd 4', 'Qd 5', 'Qd 6', 'Qd 7', 'Qd 8', 'Qd 9', 'Qd 10']\n",
      "\n",
      "Power grid control inputs: ['Va_gen 0', 'Va_gen 1', 'Pg_gen 0', 'Pg_gen 1', 'Vm_gen 0', 'Vm_gen 1', 'Vm_sc 0', 'Vm_sc 1', 'Vm_sc 2']\n",
      "\n",
      "Control center states: ['Va_gen 0', 'Va_gen 1', 'Pg_gen 0', 'Pg_gen 1', 'Vm_gen 0', 'Vm_gen 1', 'Vm_sc 0', 'Vm_sc 1', 'Vm_sc 2']\n",
      "\n",
      "Control center control inputs: ['Pd 0', 'Pd 1', 'Pd 2', 'Pd 3', 'Pd 4', 'Pd 5', 'Pd 6', 'Pd 7', 'Pd 8', 'Pd 9', 'Pd 10', 'Qd 0', 'Qd 1', 'Qd 2', 'Qd 3', 'Qd 4', 'Qd 5', 'Qd 6', 'Qd 7', 'Qd 8', 'Qd 9', 'Qd 10', 'Vm 0', 'Vm 1', 'Vm 2', 'Vm 3', 'Vm 4', 'Vm 5', 'Vm 6', 'Vm 7', 'Vm 8', 'Vm 9', 'Vm 10', 'Vm 11', 'Vm 12', 'Vm 13', 'Va 0', 'Va 1', 'Va 2', 'Va 3', 'Va 4', 'Va 5', 'Va 6', 'Va 7', 'Va 8', 'Va 9', 'Va 10', 'Va 11', 'Va 12', 'Va 13', 'piGen 0', 'piGen 1', 'piGen 2', 'piGen 3', 'piGen 4', 'piLine 0', 'piLine 1', 'piLine 2', 'piLine 3', 'piLine 4', 'piLine 5', 'piLine 6', 'piLine 7', 'piLine 8', 'piLine 9', 'piLine 10', 'piLine 11', 'piLine 12', 'piLine 13', 'piLine 14', 'piTrafo 0', 'piTrafo 1', 'piTrafo 2', 'piTrafo 3', 'piTrafo 4']\n",
      "\n"
     ]
    }
   ],
   "source": [
    "# Get the name of the states\n",
    "# name_mapping = {'Pd': 'Active power demand',\n",
    "#                 'Qd': 'Reactive power demand',\n",
    "#                 'Pg': 'Active power generation',\n",
    "#                 'Qg': 'Reactive power generation',\n",
    "#                 'Vm': 'Voltage magnitude',\n",
    "#                 'Va': 'Voltage angle',\n",
    "#                 'ILine': 'Line current',\n",
    "#                 'LTrafo': 'Transformer loading',\n",
    "#                 'piGen': 'Generator status',\n",
    "#                 'piLine': 'Line status',\n",
    "#                 'piTrafo': 'Transformer status'}\n",
    "name_mapping = None\n",
    "\n",
    "pg_states = Plant.get_variables_names(plant.power_grid.state_idx, name_mapping)\n",
    "pg_ext_stims = Plant.get_variables_names(plant.power_grid.uncontrolled_inputs_idx, name_mapping)\n",
    "pg_cont_inputs = Plant.get_variables_names(plant.power_grid.controlled_inputs_idx, name_mapping)\n",
    "\n",
    "cc_states = Plant.get_variables_names(plant.control_center.state_idx, name_mapping)\n",
    "cc_cont_inputs = Plant.get_variables_names(plant.control_center.controlled_inputs_idx, name_mapping)\n",
    "\n",
    "print(f\"Power grid states: {pg_states}\\n\")\n",
    "print(f\"Power grid external stimuli: {pg_ext_stims}\\n\")\n",
    "print(f\"Power grid control inputs: {pg_cont_inputs}\\n\")\n",
    "\n",
    "print(f\"Control center states: {cc_states}\\n\")\n",
    "print(f\"Control center control inputs: {cc_cont_inputs}\\n\")"
   ],
   "metadata": {
    "collapsed": false,
    "ExecuteTime": {
     "end_time": "2024-02-26T19:29:14.117327400Z",
     "start_time": "2024-02-26T19:29:14.104112700Z"
    }
   }
  },
  {
   "cell_type": "code",
   "execution_count": 12,
   "outputs": [
    {
     "data": {
      "text/plain": "dict_keys(['opf_options', 'opf_input', 'opf_output'])"
     },
     "execution_count": 12,
     "metadata": {},
     "output_type": "execute_result"
    }
   ],
   "source": [
    "sim_data['step_data'][0]['control_center_step_data'].keys()"
   ],
   "metadata": {
    "collapsed": false,
    "ExecuteTime": {
     "end_time": "2024-02-26T19:29:14.868296500Z",
     "start_time": "2024-02-26T19:29:14.838482Z"
    }
   }
  },
  {
   "cell_type": "code",
   "execution_count": 13,
   "outputs": [
    {
     "name": "stdout",
     "output_type": "stream",
     "text": [
      "CC inputs shape: (384, 51)\n",
      "CC outputs shape: (384, 9)\n"
     ]
    }
   ],
   "source": [
    "# Get inputs and outputs\n",
    "opf_inputs = np.array([x['control_center_step_data'][\"opf_input\"] for x in sim_data['step_data']])\n",
    "opf_outputs = np.array([x['control_center_step_data'][\"opf_output\"] for x in sim_data['step_data']])\n",
    "\n",
    "# Shapes\n",
    "print(f\"CC inputs shape: {opf_inputs.shape}\")\n",
    "print(f\"CC outputs shape: {opf_outputs.shape}\")"
   ],
   "metadata": {
    "collapsed": false,
    "ExecuteTime": {
     "end_time": "2024-02-26T19:29:15.318128Z",
     "start_time": "2024-02-26T19:29:15.301159600Z"
    }
   }
  },
  {
   "cell_type": "code",
   "execution_count": 14,
   "outputs": [
    {
     "name": "stdout",
     "output_type": "stream",
     "text": [
      "Testing the file: D:\\projects\\Hierarchical_CPS_models\\data\\simulations\\controlled_pg\\20240226_184851\\simulation_0.pkl\n",
      "CC inputs shape: (384, 51)\n",
      "CC outputs shape: (384, 9)\n"
     ]
    }
   ],
   "source": [
    "# Create a function that receives a path to a simulation and returns the inputs and outputs\n",
    "def get_opf_data(filepath: Path):\n",
    "    # Open the data\n",
    "    with open(filepath, \"rb\") as f:\n",
    "        sim_data = pickle.load(f)\n",
    "\n",
    "    # Get the inputs and outputs\n",
    "    opf_inputs = np.array([x['control_center_step_data'][\"opf_input\"] for x in sim_data['step_data']])\n",
    "    opf_outputs = np.array([x['control_center_step_data'][\"opf_output\"] for x in sim_data['step_data']])\n",
    "\n",
    "    return opf_inputs, opf_outputs\n",
    "\n",
    "# Test the function\n",
    "opf_inputs, opf_outputs = get_opf_data(target_simulation)\n",
    "print(f\"Testing the file: {target_simulation}\")\n",
    "print(f\"CC inputs shape: {opf_inputs.shape}\")\n",
    "print(f\"CC outputs shape: {opf_outputs.shape}\")"
   ],
   "metadata": {
    "collapsed": false,
    "ExecuteTime": {
     "end_time": "2024-02-26T19:29:17.972258700Z",
     "start_time": "2024-02-26T19:29:15.834413Z"
    }
   }
  },
  {
   "cell_type": "code",
   "execution_count": 15,
   "outputs": [
    {
     "name": "stderr",
     "output_type": "stream",
     "text": [
      "100%|██████████| 21/21 [00:21<00:00,  1.02s/it]"
     ]
    },
    {
     "name": "stdout",
     "output_type": "stream",
     "text": [
      "CC inputs shape: (8064, 51)\n",
      "CC outputs shape: (8064, 9)\n"
     ]
    },
    {
     "name": "stderr",
     "output_type": "stream",
     "text": [
      "\n"
     ]
    }
   ],
   "source": [
    "# Now, a function that iterates over all the simulations and returns the inputs and outputs in a single numpy array\n",
    "def get_opf_data_all(data_folder: Path):\n",
    "    # Create an empty list to store the inputs and outputs\n",
    "    inputs = []\n",
    "    outputs = []\n",
    "\n",
    "    # Create a list of the target folders: they are called \"simulation_0.pkl\", \"simulation_1.pkl\", etc.\n",
    "    target_folders = [f for f in data_folder.iterdir() if f.is_file() and f.name.startswith(\"simulation\")]\n",
    "\n",
    "    # Iterate over all the simulations and get the inputs and outputs for each one\n",
    "    for f in tqdm.tqdm(target_folders):\n",
    "        # Get the inputs and outputs\n",
    "        opf_inputs, opf_outputs = get_opf_data(f)\n",
    "\n",
    "        # Append the inputs and outputs to the lists\n",
    "        inputs.append(opf_inputs)\n",
    "        outputs.append(opf_outputs)\n",
    "\n",
    "    # Concatenate the inputs and outputs\n",
    "    inputs_matrix = np.concatenate(inputs, axis=0)\n",
    "    outputs_matrix = np.concatenate(outputs, axis=0)\n",
    "\n",
    "    # Get the plant\n",
    "    with open(data_folder / \"plant.pkl\", \"rb\") as f:\n",
    "        plant = pickle.load(f)\n",
    "\n",
    "    return inputs_matrix, outputs_matrix, plant\n",
    "\n",
    "# Test the function\n",
    "opf_inputs, opf_outputs, plant = get_opf_data_all(data_folder)\n",
    "print(f\"CC inputs shape: {opf_inputs.shape}\")\n",
    "print(f\"CC outputs shape: {opf_outputs.shape}\")"
   ],
   "metadata": {
    "collapsed": false,
    "ExecuteTime": {
     "end_time": "2024-02-26T19:29:39.517397100Z",
     "start_time": "2024-02-26T19:29:17.972258700Z"
    }
   }
  },
  {
   "cell_type": "code",
   "execution_count": 18,
   "outputs": [],
   "source": [
    "# Save the inputs and outputs to numpy arrays\n",
    "inputs_path = processed_data_folder / \"opf_inputs.npy\"\n",
    "outputs_path = processed_data_folder / \"opf_outputs.npy\"\n",
    "\n",
    "np.save(inputs_path, opf_inputs)\n",
    "np.save(outputs_path, opf_outputs)"
   ],
   "metadata": {
    "collapsed": false,
    "ExecuteTime": {
     "end_time": "2024-02-26T19:30:01.846920100Z",
     "start_time": "2024-02-26T19:30:01.831244900Z"
    }
   }
  },
  {
   "cell_type": "markdown",
   "source": [
    "## Normalize the inputs and outputs"
   ],
   "metadata": {
    "collapsed": false
   }
  },
  {
   "cell_type": "code",
   "execution_count": 27,
   "outputs": [],
   "source": [
    "# Create a function to normalize an array as above\n",
    "def min_max_normalize(array: np.ndarray, min_array: np.ndarray = None, max_array: np.ndarray = None):\n",
    "    if min_array is None:\n",
    "        min_array = array.min(axis=0)\n",
    "        max_array = array.max(axis=0)\n",
    "\n",
    "        min_array[min_array == max_array] = min_array[min_array == max_array] - 1\n",
    "        max_array[min_array == max_array] = max_array[min_array == max_array]\n",
    "\n",
    "    array_normalized = (array - min_array) / (max_array - min_array)\n",
    "\n",
    "    return array_normalized, min_array, max_array"
   ],
   "metadata": {
    "collapsed": false,
    "ExecuteTime": {
     "end_time": "2024-02-26T19:32:53.322571700Z",
     "start_time": "2024-02-26T19:32:53.291306400Z"
    }
   }
  },
  {
   "cell_type": "code",
   "execution_count": 28,
   "outputs": [
    {
     "data": {
      "text/plain": "array([[0.28839297, 0.35232922, 0.33112368, 0.27924059, 0.28473637,\n        0.31066581, 0.29018455, 0.27880947, 0.18634716, 0.25922208,\n        0.29725575, 0.34607905, 0.35242928, 0.76018325, 0.33308821,\n        0.29025568, 0.34156017, 0.31093007, 0.29491433, 0.39408146,\n        0.39448969, 0.24109994, 0.5081227 , 0.48963792, 1.        ,\n        0.64723805, 1.        , 1.        , 1.        , 1.        ,\n        1.        , 1.        , 1.        , 1.        , 1.        ,\n        1.        , 1.        , 1.        , 1.        , 1.        ,\n        1.        , 1.        , 1.        , 1.        , 1.        ,\n        1.        , 1.        , 1.        , 1.        , 1.        ,\n        1.        ],\n       [0.15365078, 0.28729384, 0.29119459, 0.32318096, 0.33462806,\n        0.34998045, 0.39808701, 0.21850338, 0.21137091, 0.30809828,\n        0.25546785, 0.34659303, 0.29735035, 0.7886959 , 0.3398552 ,\n        0.29303315, 0.23151253, 0.24514833, 0.15331842, 0.3579526 ,\n        0.43636306, 0.2811083 , 0.5081227 , 0.48963792, 1.        ,\n        0.69384939, 1.        , 1.        , 1.        , 1.        ,\n        1.        , 1.        , 1.        , 1.        , 1.        ,\n        1.        , 1.        , 1.        , 1.        , 1.        ,\n        1.        , 1.        , 1.        , 1.        , 1.        ,\n        1.        , 1.        , 1.        , 1.        , 1.        ,\n        1.        ],\n       [0.26999212, 0.33842866, 0.24101611, 0.29972226, 0.22604961,\n        0.33270778, 0.41076383, 0.29913731, 0.16103179, 0.27188807,\n        0.34879442, 0.4479041 , 0.17888658, 0.7860364 , 0.17209739,\n        0.34568267, 0.25267911, 0.18539846, 0.23102432, 0.38936019,\n        0.36173041, 0.28048718, 0.40897279, 0.38416155, 1.        ,\n        0.66128801, 1.        , 1.        , 1.        , 1.        ,\n        1.        , 1.        , 1.        , 1.        , 1.        ,\n        1.        , 1.        , 1.        , 1.        , 1.        ,\n        1.        , 1.        , 1.        , 1.        , 1.        ,\n        1.        , 1.        , 1.        , 1.        , 1.        ,\n        1.        ],\n       [0.36366649, 0.28423282, 0.27850705, 0.3417792 , 0.28015602,\n        0.34856866, 0.27963605, 0.19575652, 0.19163395, 0.30466552,\n        0.24255743, 0.44020667, 0.33653181, 0.70955039, 0.32463861,\n        0.31255545, 0.23660032, 0.24391995, 0.23085059, 0.27399153,\n        0.41924572, 0.24798299, 0.42226639, 0.39184829, 1.        ,\n        0.68026828, 1.        , 1.        , 1.        , 1.        ,\n        1.        , 1.        , 1.        , 1.        , 1.        ,\n        1.        , 1.        , 1.        , 1.        , 1.        ,\n        1.        , 1.        , 1.        , 1.        , 1.        ,\n        1.        , 1.        , 1.        , 1.        , 1.        ,\n        1.        ],\n       [0.17781487, 0.26537618, 0.2343874 , 0.29413669, 0.23447954,\n        0.38013941, 0.46928938, 0.22447748, 0.22153634, 0.24320015,\n        0.24996688, 0.40603323, 0.29837397, 0.76839379, 0.32097952,\n        0.26679326, 0.21933575, 0.2706297 , 0.091258  , 0.28486016,\n        0.36873794, 0.25410796, 0.39787118, 0.36740009, 1.        ,\n        0.71329973, 1.        , 1.        , 1.        , 1.        ,\n        1.        , 1.        , 1.        , 1.        , 1.        ,\n        1.        , 1.        , 1.        , 1.        , 1.        ,\n        1.        , 1.        , 1.        , 1.        , 1.        ,\n        1.        , 1.        , 1.        , 1.        , 1.        ,\n        1.        ]])"
     },
     "execution_count": 28,
     "metadata": {},
     "output_type": "execute_result"
    }
   ],
   "source": [
    "# Inputs\n",
    "opf_inputs_normalized, min_opf_input, max_opf_input = min_max_normalize(opf_inputs)\n",
    "\n",
    "opf_inputs_normalized[:5, :]"
   ],
   "metadata": {
    "collapsed": false,
    "ExecuteTime": {
     "end_time": "2024-02-26T19:32:53.836077100Z",
     "start_time": "2024-02-26T19:32:53.802514400Z"
    }
   }
  },
  {
   "cell_type": "code",
   "execution_count": 29,
   "outputs": [
    {
     "data": {
      "text/plain": "array([[1.00000000e+00, 5.92387418e-01, 3.84754534e-01, 4.97965425e-07,\n        5.08122700e-01, 4.89637924e-01, 4.03956782e-01, 9.74935497e-01,\n        9.99861988e-01],\n       [1.00000000e+00, 6.35593351e-01, 3.45320446e-01, 4.62315130e-07,\n        4.08972795e-01, 3.84161545e-01, 3.01613386e-01, 9.61610694e-01,\n        9.82675872e-01],\n       [1.00000000e+00, 6.11895847e-01, 3.62392382e-01, 5.69677301e-07,\n        4.22266387e-01, 3.91848290e-01, 2.97497895e-01, 9.56283251e-01,\n        9.72825696e-01],\n       [1.00000000e+00, 6.27605492e-01, 3.47120120e-01, 4.73392495e-07,\n        3.97871180e-01, 3.67400091e-01, 2.90577697e-01, 9.59560696e-01,\n        9.73511779e-01],\n       [1.00000000e+00, 6.65867405e-01, 3.16406307e-01, 2.60514300e-07,\n        3.93423510e-01, 3.73797146e-01, 3.08376837e-01, 9.83157293e-01,\n        9.99748788e-01]])"
     },
     "execution_count": 29,
     "metadata": {},
     "output_type": "execute_result"
    }
   ],
   "source": [
    "# Outputs\n",
    "opf_outputs_normalized, min_opf_output, max_opf_output = min_max_normalize(opf_outputs)\n",
    "\n",
    "opf_outputs_normalized[:5, :]"
   ],
   "metadata": {
    "collapsed": false,
    "ExecuteTime": {
     "end_time": "2024-02-26T19:32:54.646871600Z",
     "start_time": "2024-02-26T19:32:54.584359200Z"
    }
   }
  },
  {
   "cell_type": "code",
   "execution_count": 25,
   "outputs": [],
   "source": [
    "# Save the normalized inputs and outputs to numpy arrays\n",
    "inputs_normalized_path = processed_data_folder / \"opf_inputs_minmax_normalized.npy\"\n",
    "outputs_normalized_path = processed_data_folder / \"opf_outputs_minmax_normalized.npy\"\n",
    "\n",
    "np.save(inputs_normalized_path, opf_inputs_normalized)\n",
    "np.save(outputs_normalized_path, opf_outputs_normalized)\n",
    "\n",
    "# Also, save the min and max values\n",
    "min_max_values = {\"min_opf_input\": min_opf_input,\n",
    "                  \"max_opf_input\": max_opf_input,\n",
    "                  \"min_opf_output\": min_opf_output,\n",
    "                  \"max_opf_output\": max_opf_output}\n",
    "\n",
    "min_max_values_path = processed_data_folder / \"norm_min_max_values.pkl\"\n",
    "with open(min_max_values_path, \"wb\") as f:\n",
    "    pickle.dump(min_max_values, f)"
   ],
   "metadata": {
    "collapsed": false,
    "ExecuteTime": {
     "end_time": "2024-02-26T19:30:34.284589500Z",
     "start_time": "2024-02-26T19:30:34.228684700Z"
    }
   }
  },
  {
   "cell_type": "markdown",
   "source": [
    "# Ground truth data"
   ],
   "metadata": {
    "collapsed": false
   }
  },
  {
   "cell_type": "code",
   "execution_count": 31,
   "outputs": [],
   "source": [
    "# Choose a simulation\n",
    "gt_sim = data_folder / \"simulation_5.pkl\"\n",
    "\n",
    "# Open the minimum and maximum values\n",
    "with open(min_max_values_path, \"rb\") as f:\n",
    "    min_max_values = pickle.load(f)\n",
    "\n",
    "min_opf_input = min_max_values[\"min_opf_input\"]\n",
    "max_opf_input = min_max_values[\"max_opf_input\"]\n",
    "min_opf_output = min_max_values[\"min_opf_output\"]\n",
    "max_opf_output = min_max_values[\"max_opf_output\"]\n",
    "\n",
    "# Do as above and save to a file\n",
    "gt_inputs, gt_outputs = get_opf_data(gt_sim)\n",
    "\n",
    "gt_inputs_normalized, _, _ = min_max_normalize(gt_inputs, min_opf_input, max_opf_input)\n",
    "gt_outputs_normalized, _, _ = min_max_normalize(gt_outputs, min_opf_output, max_opf_output)\n",
    "\n",
    "gt_inputs_normalized_path = processed_data_folder / \"gt_inputs_minmax_normalized.npy\"\n",
    "gt_outputs_normalized_path = processed_data_folder / \"gt_outputs_minmax_normalized.npy\"\n",
    "\n",
    "np.save(gt_inputs_normalized_path, gt_inputs_normalized)\n",
    "np.save(gt_outputs_normalized_path, gt_outputs_normalized)"
   ],
   "metadata": {
    "collapsed": false,
    "ExecuteTime": {
     "end_time": "2024-02-26T19:33:58.921414600Z",
     "start_time": "2024-02-26T19:33:57.142281900Z"
    }
   }
  },
  {
   "cell_type": "code",
   "execution_count": null,
   "outputs": [],
   "source": [],
   "metadata": {
    "collapsed": false
   }
  }
 ],
 "metadata": {
  "kernelspec": {
   "display_name": "Python 3",
   "language": "python",
   "name": "python3"
  },
  "language_info": {
   "codemirror_mode": {
    "name": "ipython",
    "version": 2
   },
   "file_extension": ".py",
   "mimetype": "text/x-python",
   "name": "python",
   "nbconvert_exporter": "python",
   "pygments_lexer": "ipython2",
   "version": "2.7.6"
  }
 },
 "nbformat": 4,
 "nbformat_minor": 0
}
