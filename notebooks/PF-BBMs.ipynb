{
 "cells": [
  {
   "cell_type": "markdown",
   "source": [
    "# BBMs for the Power Flow\n",
    "\n",
    "In this script, we aim to construct Black-Box Models (BBMs) (i.e., data-driven models) for the Power Flow (PF) problem. We use the data stored in the 'data/PF' folder, containing tables with the PF IO data."
   ],
   "metadata": {
    "collapsed": false
   }
  },
  {
   "cell_type": "code",
   "execution_count": 1,
   "metadata": {
    "collapsed": true,
    "ExecuteTime": {
     "end_time": "2024-02-28T14:44:19.713659600Z",
     "start_time": "2024-02-28T14:44:16.178051700Z"
    }
   },
   "outputs": [
    {
     "name": "stdout",
     "output_type": "stream",
     "text": [
      "Working directory: D:\\projects\\IPTLC_BBMs\n",
      "Device: cuda:0\n"
     ]
    }
   ],
   "source": [
    "import os\n",
    "from pathlib import Path\n",
    "import numpy as np\n",
    "import pandas as pd\n",
    "import matplotlib.pyplot as plt\n",
    "import torch\n",
    "import sys\n",
    "from importlib import reload\n",
    "\n",
    "import greyboxmodels.bbmcpsmodels.creator as creator\n",
    "\n",
    "\n",
    "# Set the working directory\n",
    "os.chdir(\"D:/projects/IPTLC_BBMs/\")\n",
    "print(f\"Working directory: {os.getcwd()}\")\n",
    "\n",
    "# Check GPU availability\n",
    "device = creator.get_device()\n",
    "print(f\"Device: {device}\")"
   ]
  },
  {
   "cell_type": "code",
   "execution_count": 5,
   "outputs": [],
   "source": [
    "# Specify the paths\n",
    "datasets_folder = Path(\"data/PF/20240227_195448\")\n",
    "\n",
    "# # Print the available datasets\n",
    "# print(\"Available datasets:\")\n",
    "# for path in datasets_folder.iterdir():\n",
    "#     if path.is_dir() and \"OPF\" in path.name:\n",
    "#         print(path.name)"
   ],
   "metadata": {
    "collapsed": false,
    "ExecuteTime": {
     "end_time": "2024-02-28T14:45:30.038555400Z",
     "start_time": "2024-02-28T14:45:30.034547300Z"
    }
   }
  },
  {
   "cell_type": "markdown",
   "source": [
    "# Setup the BBM creator"
   ],
   "metadata": {
    "collapsed": false
   }
  },
  {
   "cell_type": "code",
   "execution_count": 6,
   "outputs": [],
   "source": [
    "# Create the BBMCreator\n",
    "reload(creator)\n",
    "BBM_creator = creator.BBMCreator()"
   ],
   "metadata": {
    "collapsed": false,
    "ExecuteTime": {
     "end_time": "2024-02-28T14:45:30.764403300Z",
     "start_time": "2024-02-28T14:45:30.681826Z"
    }
   }
  },
  {
   "cell_type": "code",
   "execution_count": 7,
   "outputs": [
    {
     "name": "stdout",
     "output_type": "stream",
     "text": [
      "Loading: data\\PF\\20240227_195448\n",
      "---- Dataset loaded ----\n",
      "Input shape: (50688, 56)\n",
      "Output shape: (50688, 105)\n",
      "---- Removing NaNs ----\n",
      "Rows to delete: []\n",
      "Input shape: (50688, 56)\n",
      "Output shape: (50688, 105)\n",
      "---- Converting to torch tensors ----\n",
      "---- Dataset loaded! ----\n"
     ]
    }
   ],
   "source": [
    "# Set up the dataset\n",
    "dataset_name = \"MinMaxNormalizedPF\"\n",
    "loaders = creator.setup_datasets(datasets_folder,\n",
    "                                 dataset_name,\n",
    "                                 remove_nans=True,\n",
    "                                 ratios=(0.70, 0.15, 0.15),\n",
    "                                 batch_size=32,\n",
    "                                 input_name=\"pf_inputs_minmax_normalized.npy\",\n",
    "                                 output_name=\"pf_outputs_minmax_normalized.npy\")\n",
    "BBM_creator.set_dataloaders(*loaders)"
   ],
   "metadata": {
    "collapsed": false,
    "ExecuteTime": {
     "end_time": "2024-02-28T14:45:31.157714500Z",
     "start_time": "2024-02-28T14:45:31.040211900Z"
    }
   }
  },
  {
   "cell_type": "markdown",
   "source": [
    "# BBM 1: a two-layer feedforward neural network"
   ],
   "metadata": {
    "collapsed": false
   }
  },
  {
   "cell_type": "code",
   "execution_count": 10,
   "outputs": [],
   "source": [
    "from greyboxmodels.bbmcpsmodels.nn.feedforward import BBM1_SimpleNet"
   ],
   "metadata": {
    "collapsed": false,
    "ExecuteTime": {
     "end_time": "2024-02-28T14:47:08.499554600Z",
     "start_time": "2024-02-28T14:47:08.480968900Z"
    }
   }
  },
  {
   "cell_type": "code",
   "execution_count": 11,
   "outputs": [],
   "source": [
    "# Instantiate model\n",
    "input_size = loaders[0].dataset[0][0].shape[0]\n",
    "output_size = loaders[0].dataset[0][1].shape[0]\n",
    "\n",
    "BBM_creator.instantiate_model(BBM1_SimpleNet, input_size, output_size)"
   ],
   "metadata": {
    "collapsed": false,
    "ExecuteTime": {
     "end_time": "2024-02-28T14:47:08.770352800Z",
     "start_time": "2024-02-28T14:47:08.759644Z"
    }
   }
  },
  {
   "cell_type": "code",
   "execution_count": 12,
   "outputs": [
    {
     "name": "stdout",
     "output_type": "stream",
     "text": [
      "------ Training model 'BBM1_SimpleNet' ------\n",
      "Models and summary will be save to 'models/' (will be created if it does not exist)\n",
      "    - Model path: models\\BBM1_SimpleNet_MinMaxNormalizedPF_20240228-154711.pt\n",
      "    - Summary path: models/models_summary.csv\n",
      "Training on cuda:0\n",
      "Training starts in:  00:00\r"
     ]
    },
    {
     "name": "stderr",
     "output_type": "stream",
     "text": [
      "Epoch 1/100 (Loss - Train: 5.87e-03, Best val: N/A): 100%|██████████| 1109/1109 [00:06<00:00, 176.81it/s]\n",
      "Epoch 2/100 (Loss - Train: 1.73e-03, Best val: 1.97e-03): 100%|██████████| 1109/1109 [00:04<00:00, 275.64it/s]\n",
      "Epoch 3/100 (Loss - Train: 1.34e-03, Best val: 1.62e-03): 100%|██████████| 1109/1109 [00:03<00:00, 284.40it/s]\n",
      "Epoch 4/100 (Loss - Train: 1.11e-03, Best val: 1.34e-03): 100%|██████████| 1109/1109 [00:03<00:00, 293.12it/s]\n",
      "Epoch 5/100 (Loss - Train: 9.63e-04, Best val: 9.07e-04): 100%|██████████| 1109/1109 [00:03<00:00, 282.45it/s]\n",
      "Epoch 6/100 (Loss - Train: 8.52e-04, Best val: 9.07e-04): 100%|██████████| 1109/1109 [00:03<00:00, 282.26it/s]\n",
      "Epoch 7/100 (Loss - Train: 7.61e-04, Best val: 7.46e-04): 100%|██████████| 1109/1109 [00:03<00:00, 288.01it/s]\n",
      "Epoch 8/100 (Loss - Train: 6.73e-04, Best val: 6.49e-04): 100%|██████████| 1109/1109 [00:04<00:00, 272.39it/s]\n",
      "Epoch 9/100 (Loss - Train: 5.97e-04, Best val: 5.80e-04): 100%|██████████| 1109/1109 [00:04<00:00, 248.29it/s]\n",
      "Epoch 10/100 (Loss - Train: 5.28e-04, Best val: 5.47e-04): 100%|██████████| 1109/1109 [00:04<00:00, 268.82it/s]\n",
      "Epoch 11/100 (Loss - Train: 4.81e-04, Best val: 5.47e-04): 100%|██████████| 1109/1109 [00:03<00:00, 279.93it/s]\n",
      "Epoch 12/100 (Loss - Train: 4.41e-04, Best val: 4.69e-04): 100%|██████████| 1109/1109 [00:03<00:00, 297.08it/s]\n",
      "Epoch 13/100 (Loss - Train: 4.08e-04, Best val: 3.92e-04): 100%|██████████| 1109/1109 [00:03<00:00, 333.49it/s]\n",
      "Epoch 14/100 (Loss - Train: 4.00e-04, Best val: 3.92e-04): 100%|██████████| 1109/1109 [00:03<00:00, 330.87it/s]\n",
      "Epoch 15/100 (Loss - Train: 3.91e-04, Best val: 3.92e-04): 100%|██████████| 1109/1109 [00:03<00:00, 330.23it/s]\n",
      "Epoch 16/100 (Loss - Train: 3.84e-04, Best val: 3.88e-04): 100%|██████████| 1109/1109 [00:03<00:00, 314.60it/s]\n",
      "Epoch 17/100 (Loss - Train: 3.82e-04, Best val: 3.48e-04): 100%|██████████| 1109/1109 [00:04<00:00, 247.06it/s]\n",
      "Epoch 18/100 (Loss - Train: 3.80e-04, Best val: 3.48e-04): 100%|██████████| 1109/1109 [00:03<00:00, 277.58it/s]\n",
      "Epoch 19/100 (Loss - Train: 3.72e-04, Best val: 3.48e-04): 100%|██████████| 1109/1109 [00:03<00:00, 287.68it/s]\n",
      "Epoch 20/100 (Loss - Train: 3.71e-04, Best val: 3.48e-04): 100%|██████████| 1109/1109 [00:03<00:00, 277.31it/s]\n",
      "Epoch 21/100 (Loss - Train: 3.74e-04, Best val: 3.48e-04): 100%|██████████| 1109/1109 [00:04<00:00, 266.23it/s]\n",
      "Epoch 22/100 (Loss - Train: 3.61e-04, Best val: 3.48e-04): 100%|██████████| 1109/1109 [00:03<00:00, 287.46it/s]\n",
      "Epoch 23/100 (Loss - Train: 3.67e-04, Best val: 3.48e-04): 100%|██████████| 1109/1109 [00:03<00:00, 285.64it/s]\n",
      "Epoch 24/100 (Loss - Train: 3.57e-04, Best val: 3.45e-04): 100%|██████████| 1109/1109 [00:03<00:00, 282.18it/s]\n",
      "Epoch 25/100 (Loss - Train: 3.59e-04, Best val: 3.45e-04): 100%|██████████| 1109/1109 [00:04<00:00, 276.76it/s]\n",
      "Epoch 26/100 (Loss - Train: 3.65e-04, Best val: 3.45e-04): 100%|██████████| 1109/1109 [00:03<00:00, 279.80it/s]\n",
      "Epoch 27/100 (Loss - Train: 3.53e-04, Best val: 3.32e-04): 100%|██████████| 1109/1109 [00:03<00:00, 323.59it/s]\n",
      "Epoch 28/100 (Loss - Train: 3.55e-04, Best val: 3.32e-04): 100%|██████████| 1109/1109 [00:03<00:00, 322.59it/s]\n",
      "Epoch 29/100 (Loss - Train: 3.62e-04, Best val: 3.32e-04): 100%|██████████| 1109/1109 [00:03<00:00, 309.61it/s]\n",
      "Epoch 30/100 (Loss - Train: 3.55e-04, Best val: 3.32e-04): 100%|██████████| 1109/1109 [00:03<00:00, 300.48it/s]\n",
      "Epoch 31/100 (Loss - Train: 3.50e-04, Best val: 3.32e-04): 100%|██████████| 1109/1109 [00:03<00:00, 300.41it/s]\n",
      "Epoch 32/100 (Loss - Train: 3.50e-04, Best val: 3.32e-04): 100%|██████████| 1109/1109 [00:03<00:00, 309.35it/s]\n",
      "Epoch 33/100 (Loss - Train: 3.51e-04, Best val: 3.32e-04): 100%|██████████| 1109/1109 [00:03<00:00, 309.59it/s]\n",
      "Epoch 34/100 (Loss - Train: 3.47e-04, Best val: 3.32e-04): 100%|██████████| 1109/1109 [00:03<00:00, 296.99it/s]\n",
      "Epoch 35/100 (Loss - Train: 3.48e-04, Best val: 3.32e-04): 100%|██████████| 1109/1109 [00:03<00:00, 316.06it/s]\n",
      "Epoch 36/100 (Loss - Train: 3.46e-04, Best val: 3.32e-04): 100%|██████████| 1109/1109 [00:03<00:00, 299.63it/s]\n",
      "Epoch 37/100 (Loss - Train: 3.47e-04, Best val: 3.32e-04): 100%|██████████| 1109/1109 [00:03<00:00, 299.45it/s]\n",
      "Epoch 38/100 (Loss - Train: 3.49e-04, Best val: 3.32e-04): 100%|██████████| 1109/1109 [00:03<00:00, 293.87it/s]\n",
      "Epoch 39/100 (Loss - Train: 3.42e-04, Best val: 3.32e-04): 100%|██████████| 1109/1109 [00:03<00:00, 281.00it/s]\n",
      "Epoch 40/100 (Loss - Train: 3.35e-04, Best val: 3.32e-04): 100%|██████████| 1109/1109 [00:04<00:00, 244.33it/s]\n",
      "Epoch 41/100 (Loss - Train: 3.42e-04, Best val: 3.32e-04): 100%|██████████| 1109/1109 [00:03<00:00, 296.16it/s]\n",
      "Epoch 42/100 (Loss - Train: 3.40e-04, Best val: 3.32e-04): 100%|██████████| 1109/1109 [00:03<00:00, 333.87it/s]\n",
      "Epoch 43/100 (Loss - Train: 3.39e-04, Best val: 3.32e-04): 100%|██████████| 1109/1109 [00:03<00:00, 279.54it/s]\n",
      "Epoch 44/100 (Loss - Train: 3.34e-04, Best val: 3.32e-04): 100%|██████████| 1109/1109 [00:03<00:00, 293.14it/s]\n",
      "Epoch 45/100 (Loss - Train: 3.42e-04, Best val: 3.32e-04): 100%|██████████| 1109/1109 [00:03<00:00, 332.54it/s]\n",
      "Epoch 46/100 (Loss - Train: 3.39e-04, Best val: 3.32e-04): 100%|██████████| 1109/1109 [00:03<00:00, 305.92it/s]\n",
      "Epoch 47/100 (Loss - Train: 3.39e-04, Best val: 3.32e-04): 100%|██████████| 1109/1109 [00:03<00:00, 310.23it/s]\n",
      "Epoch 48/100 (Loss - Train: 3.32e-04, Best val: 3.32e-04): 100%|██████████| 1109/1109 [00:03<00:00, 346.08it/s]\n",
      "Epoch 49/100 (Loss - Train: 3.37e-04, Best val: 3.32e-04): 100%|██████████| 1109/1109 [00:03<00:00, 337.55it/s]\n",
      "Epoch 50/100 (Loss - Train: 3.30e-04, Best val: 3.22e-04): 100%|██████████| 1109/1109 [00:03<00:00, 343.04it/s]\n",
      "Epoch 51/100 (Loss - Train: 3.43e-04, Best val: 3.22e-04): 100%|██████████| 1109/1109 [00:03<00:00, 337.91it/s]\n",
      "Epoch 52/100 (Loss - Train: 3.40e-04, Best val: 3.22e-04): 100%|██████████| 1109/1109 [00:03<00:00, 329.02it/s]\n",
      "Epoch 53/100 (Loss - Train: 3.32e-04, Best val: 3.22e-04): 100%|██████████| 1109/1109 [00:03<00:00, 343.96it/s]\n",
      "Epoch 54/100 (Loss - Train: 3.31e-04, Best val: 3.22e-04): 100%|██████████| 1109/1109 [00:03<00:00, 338.18it/s]\n",
      "Epoch 55/100 (Loss - Train: 3.28e-04, Best val: 3.22e-04): 100%|██████████| 1109/1109 [00:03<00:00, 328.48it/s]\n",
      "Epoch 56/100 (Loss - Train: 3.34e-04, Best val: 3.14e-04): 100%|██████████| 1109/1109 [00:03<00:00, 283.25it/s]\n",
      "Epoch 57/100 (Loss - Train: 3.34e-04, Best val: 3.14e-04): 100%|██████████| 1109/1109 [00:03<00:00, 305.80it/s]\n",
      "Epoch 58/100 (Loss - Train: 3.36e-04, Best val: 3.14e-04): 100%|██████████| 1109/1109 [00:03<00:00, 341.49it/s]\n",
      "Epoch 59/100 (Loss - Train: 3.31e-04, Best val: 3.14e-04): 100%|██████████| 1109/1109 [00:03<00:00, 343.66it/s]\n",
      "Epoch 60/100 (Loss - Train: 3.36e-04, Best val: 3.14e-04): 100%|██████████| 1109/1109 [00:03<00:00, 340.01it/s]\n",
      "Epoch 61/100 (Loss - Train: 3.37e-04, Best val: 3.14e-04): 100%|██████████| 1109/1109 [00:03<00:00, 332.21it/s]\n",
      "Epoch 62/100 (Loss - Train: 3.32e-04, Best val: 3.14e-04): 100%|██████████| 1109/1109 [00:03<00:00, 304.91it/s]\n",
      "Epoch 63/100 (Loss - Train: 3.35e-04, Best val: 3.14e-04): 100%|██████████| 1109/1109 [00:03<00:00, 313.80it/s]\n",
      "Epoch 64/100 (Loss - Train: 3.31e-04, Best val: 3.14e-04): 100%|██████████| 1109/1109 [00:03<00:00, 342.75it/s]\n",
      "Epoch 65/100 (Loss - Train: 3.27e-04, Best val: 3.14e-04): 100%|██████████| 1109/1109 [00:03<00:00, 313.05it/s]\n",
      "Epoch 66/100 (Loss - Train: 3.32e-04, Best val: 3.14e-04): 100%|██████████| 1109/1109 [00:03<00:00, 351.01it/s]\n",
      "Epoch 67/100 (Loss - Train: 3.24e-04, Best val: 3.14e-04): 100%|██████████| 1109/1109 [00:03<00:00, 338.89it/s]\n",
      "Epoch 68/100 (Loss - Train: 3.30e-04, Best val: 3.14e-04): 100%|██████████| 1109/1109 [00:03<00:00, 369.31it/s]\n",
      "Epoch 69/100 (Loss - Train: 3.31e-04, Best val: 3.14e-04): 100%|██████████| 1109/1109 [00:02<00:00, 401.90it/s]\n",
      "Epoch 70/100 (Loss - Train: 3.19e-04, Best val: 3.14e-04): 100%|██████████| 1109/1109 [00:02<00:00, 389.61it/s]\n",
      "Epoch 71/100 (Loss - Train: 3.27e-04, Best val: 3.14e-04): 100%|██████████| 1109/1109 [00:03<00:00, 339.87it/s]\n",
      "Epoch 72/100 (Loss - Train: 3.23e-04, Best val: 3.14e-04): 100%|██████████| 1109/1109 [00:04<00:00, 274.14it/s]\n",
      "Epoch 73/100 (Loss - Train: 3.29e-04, Best val: 3.14e-04): 100%|██████████| 1109/1109 [00:03<00:00, 319.00it/s]\n",
      "Epoch 74/100 (Loss - Train: 3.29e-04, Best val: 3.14e-04): 100%|██████████| 1109/1109 [00:03<00:00, 340.71it/s]\n",
      "Epoch 75/100 (Loss - Train: 3.26e-04, Best val: 3.04e-04): 100%|██████████| 1109/1109 [00:03<00:00, 339.10it/s]\n",
      "Epoch 76/100 (Loss - Train: 3.32e-04, Best val: 3.04e-04): 100%|██████████| 1109/1109 [00:03<00:00, 335.92it/s]\n",
      "Epoch 77/100 (Loss - Train: 3.27e-04, Best val: 3.04e-04): 100%|██████████| 1109/1109 [00:03<00:00, 335.48it/s]\n",
      "Epoch 78/100 (Loss - Train: 3.31e-04, Best val: 3.04e-04): 100%|██████████| 1109/1109 [00:03<00:00, 340.27it/s]\n",
      "Epoch 79/100 (Loss - Train: 3.25e-04, Best val: 2.97e-04): 100%|██████████| 1109/1109 [00:03<00:00, 332.74it/s]\n",
      "Epoch 80/100 (Loss - Train: 3.23e-04, Best val: 2.97e-04): 100%|██████████| 1109/1109 [00:03<00:00, 340.54it/s]\n",
      "Epoch 81/100 (Loss - Train: 3.24e-04, Best val: 2.97e-04): 100%|██████████| 1109/1109 [00:03<00:00, 337.56it/s]\n",
      "Epoch 82/100 (Loss - Train: 3.27e-04, Best val: 2.97e-04): 100%|██████████| 1109/1109 [00:03<00:00, 340.98it/s]\n",
      "Epoch 83/100 (Loss - Train: 3.21e-04, Best val: 2.97e-04): 100%|██████████| 1109/1109 [00:03<00:00, 344.61it/s]\n",
      "Epoch 84/100 (Loss - Train: 3.16e-04, Best val: 2.97e-04): 100%|██████████| 1109/1109 [00:03<00:00, 337.98it/s]\n",
      "Epoch 85/100 (Loss - Train: 3.22e-04, Best val: 2.97e-04): 100%|██████████| 1109/1109 [00:03<00:00, 345.11it/s]\n",
      "Epoch 86/100 (Loss - Train: 3.24e-04, Best val: 2.97e-04): 100%|██████████| 1109/1109 [00:03<00:00, 342.82it/s]\n",
      "Epoch 87/100 (Loss - Train: 3.21e-04, Best val: 2.97e-04): 100%|██████████| 1109/1109 [00:03<00:00, 335.75it/s]\n",
      "Epoch 88/100 (Loss - Train: 3.14e-04, Best val: 2.91e-04): 100%|██████████| 1109/1109 [00:03<00:00, 282.85it/s]\n",
      "Epoch 89/100 (Loss - Train: 3.23e-04, Best val: 2.91e-04): 100%|██████████| 1109/1109 [00:03<00:00, 333.09it/s]\n",
      "Epoch 90/100 (Loss - Train: 3.23e-04, Best val: 2.91e-04): 100%|██████████| 1109/1109 [00:03<00:00, 332.36it/s]\n",
      "Epoch 91/100 (Loss - Train: 3.26e-04, Best val: 2.91e-04): 100%|██████████| 1109/1109 [00:03<00:00, 344.95it/s]\n",
      "Epoch 92/100 (Loss - Train: 3.19e-04, Best val: 2.91e-04): 100%|██████████| 1109/1109 [00:03<00:00, 338.60it/s]\n",
      "Epoch 93/100 (Loss - Train: 3.25e-04, Best val: 2.91e-04): 100%|██████████| 1109/1109 [00:03<00:00, 340.47it/s]\n",
      "Epoch 94/100 (Loss - Train: 3.31e-04, Best val: 2.91e-04): 100%|██████████| 1109/1109 [00:03<00:00, 333.37it/s]\n",
      "Epoch 95/100 (Loss - Train: 3.22e-04, Best val: 2.91e-04): 100%|██████████| 1109/1109 [00:03<00:00, 292.29it/s]\n",
      "Epoch 96/100 (Loss - Train: 3.20e-04, Best val: 2.91e-04): 100%|██████████| 1109/1109 [00:02<00:00, 383.80it/s]\n",
      "Epoch 97/100 (Loss - Train: 3.16e-04, Best val: 2.91e-04): 100%|██████████| 1109/1109 [00:02<00:00, 378.87it/s]\n",
      "Epoch 98/100 (Loss - Train: 3.27e-04, Best val: 2.91e-04): 100%|██████████| 1109/1109 [00:03<00:00, 339.85it/s]\n",
      "Epoch 99/100 (Loss - Train: 3.20e-04, Best val: 2.91e-04): 100%|██████████| 1109/1109 [00:03<00:00, 341.44it/s]\n",
      "Epoch 100/100 (Loss - Train: 3.26e-04, Best val: 2.91e-04): 100%|██████████| 1109/1109 [00:03<00:00, 343.46it/s]\n"
     ]
    },
    {
     "name": "stdout",
     "output_type": "stream",
     "text": [
      "                                                   Train loss  \\\n",
      "Model          Dataset            Timestamp                     \n",
      "BBM1_SimpleNet MinMaxNormalizedPF 20240228-154711    0.000296   \n",
      "\n",
      "                                                   Validation loss  Test loss  \\\n",
      "Model          Dataset            Timestamp                                     \n",
      "BBM1_SimpleNet MinMaxNormalizedPF 20240228-154711         0.000297   0.000303   \n",
      "\n",
      "                                                   Input size  Output size  \\\n",
      "Model          Dataset            Timestamp                                  \n",
      "BBM1_SimpleNet MinMaxNormalizedPF 20240228-154711          56          105   \n",
      "\n",
      "                                                   Training time [ms]  \\\n",
      "Model          Dataset            Timestamp                             \n",
      "BBM1_SimpleNet MinMaxNormalizedPF 20240228-154711          394038.817   \n",
      "\n",
      "                                                                                          Model path  \n",
      "Model          Dataset            Timestamp                                                           \n",
      "BBM1_SimpleNet MinMaxNormalizedPF 20240228-154711  models\\BBM1_SimpleNet_MinMaxNormalizedPF_20240...  \n",
      "------ Finished! ------\n"
     ]
    },
    {
     "name": "stderr",
     "output_type": "stream",
     "text": [
      "D:\\projects\\IPTLC_BBMs\\src\\greyboxmodels\\bbmcpsmodels\\creator.py:413: PerformanceWarning: indexing past lexsort depth may impact performance.\n",
      "  comparison = (model_name, dataset_name, timestamp) in results_table.index\n"
     ]
    }
   ],
   "source": [
    "# Train the model\n",
    "BBM_creator.train(save_to=\"models\", epochs=100)"
   ],
   "metadata": {
    "collapsed": false,
    "ExecuteTime": {
     "end_time": "2024-02-28T14:53:51.368569600Z",
     "start_time": "2024-02-28T14:47:11.192024800Z"
    }
   }
  },
  {
   "cell_type": "code",
   "execution_count": 13,
   "outputs": [
    {
     "data": {
      "text/plain": "                                                   Train loss  \\\nModel          Dataset            Timestamp                     \nBBM1_SimpleNet MinMaxNormalizedPF 20240228-154711    0.000296   \n\n                                                   Validation loss  Test loss  \\\nModel          Dataset            Timestamp                                     \nBBM1_SimpleNet MinMaxNormalizedPF 20240228-154711         0.000299   0.000302   \n\n                                                   Input size  Output size  \\\nModel          Dataset            Timestamp                                  \nBBM1_SimpleNet MinMaxNormalizedPF 20240228-154711          56          105   \n\n                                                   Training time [ms]  \\\nModel          Dataset            Timestamp                             \nBBM1_SimpleNet MinMaxNormalizedPF 20240228-154711          394038.817   \n\n                                                                                          Model path  \nModel          Dataset            Timestamp                                                           \nBBM1_SimpleNet MinMaxNormalizedPF 20240228-154711  models\\BBM1_SimpleNet_MinMaxNormalizedPF_20240...  ",
      "text/html": "<div>\n<style scoped>\n    .dataframe tbody tr th:only-of-type {\n        vertical-align: middle;\n    }\n\n    .dataframe tbody tr th {\n        vertical-align: top;\n    }\n\n    .dataframe thead th {\n        text-align: right;\n    }\n</style>\n<table border=\"1\" class=\"dataframe\">\n  <thead>\n    <tr style=\"text-align: right;\">\n      <th></th>\n      <th></th>\n      <th></th>\n      <th>Train loss</th>\n      <th>Validation loss</th>\n      <th>Test loss</th>\n      <th>Input size</th>\n      <th>Output size</th>\n      <th>Training time [ms]</th>\n      <th>Model path</th>\n    </tr>\n    <tr>\n      <th>Model</th>\n      <th>Dataset</th>\n      <th>Timestamp</th>\n      <th></th>\n      <th></th>\n      <th></th>\n      <th></th>\n      <th></th>\n      <th></th>\n      <th></th>\n    </tr>\n  </thead>\n  <tbody>\n    <tr>\n      <th>BBM1_SimpleNet</th>\n      <th>MinMaxNormalizedPF</th>\n      <th>20240228-154711</th>\n      <td>0.000296</td>\n      <td>0.000299</td>\n      <td>0.000302</td>\n      <td>56</td>\n      <td>105</td>\n      <td>394038.817</td>\n      <td>models\\BBM1_SimpleNet_MinMaxNormalizedPF_20240...</td>\n    </tr>\n  </tbody>\n</table>\n</div>"
     },
     "execution_count": 13,
     "metadata": {},
     "output_type": "execute_result"
    }
   ],
   "source": [
    "BBM_creator._summary()"
   ],
   "metadata": {
    "collapsed": false,
    "ExecuteTime": {
     "end_time": "2024-02-28T15:07:23.511326900Z",
     "start_time": "2024-02-28T15:07:20.702964100Z"
    }
   }
  },
  {
   "cell_type": "code",
   "execution_count": null,
   "outputs": [],
   "source": [],
   "metadata": {
    "collapsed": false
   }
  }
 ],
 "metadata": {
  "kernelspec": {
   "display_name": "Python 3",
   "language": "python",
   "name": "python3"
  },
  "language_info": {
   "codemirror_mode": {
    "name": "ipython",
    "version": 2
   },
   "file_extension": ".py",
   "mimetype": "text/x-python",
   "name": "python",
   "nbconvert_exporter": "python",
   "pygments_lexer": "ipython2",
   "version": "2.7.6"
  }
 },
 "nbformat": 4,
 "nbformat_minor": 0
}
